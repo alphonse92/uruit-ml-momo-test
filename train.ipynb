{
  "nbformat": 4,
  "nbformat_minor": 0,
  "metadata": {
    "accelerator": "GPU",
    "colab": {
      "name": "train.ipynb",
      "provenance": [],
      "collapsed_sections": [],
      "toc_visible": true
    },
    "kernelspec": {
      "display_name": "Python 3",
      "language": "python",
      "name": "python3"
    },
    "language_info": {
      "codemirror_mode": {
        "name": "ipython",
        "version": 3
      },
      "file_extension": ".py",
      "mimetype": "text/x-python",
      "name": "python",
      "nbconvert_exporter": "python",
      "pygments_lexer": "ipython3",
      "version": "3.7.6"
    }
  },
  "cells": [
    {
      "cell_type": "markdown",
      "metadata": {
        "colab_type": "text",
        "id": "k899AHfCA9AK"
      },
      "source": [
        "# Introduction\n",
        "\n",
        "This notebook shows how to create a neural network to detect momo in images using Inception V3"
      ]
    },
    {
      "cell_type": "markdown",
      "metadata": {
        "colab_type": "text",
        "id": "ma3EfL5ZA9AL"
      },
      "source": [
        "# Imports"
      ]
    },
    {
      "cell_type": "code",
      "metadata": {
        "colab_type": "code",
        "id": "bXr9oRv3A9AM",
        "colab": {}
      },
      "source": [
        "import numpy as np\n",
        "import tensorflow as tf\n",
        "import datetime; \n",
        "import pandas as pd\n",
        "import matplotlib.pyplot as plt\n",
        "import math\n",
        "import csv\n",
        "from time import time\n",
        "\n",
        "from shutil import copy2, rmtree, copytree\n",
        "from tqdm import tqdm\n",
        "from sys import stdout\n",
        "from os import listdir, makedirs, remove\n",
        "from os.path import isfile, join, isdir, exists, dirname, abspath\n",
        "from inspect import getsourcefile\n",
        "from tensorflow import keras\n",
        "from numpy.random import seed\n",
        "from sklearn.decomposition import PCA\n",
        "from sklearn.preprocessing import StandardScaler\n",
        "from sklearn.metrics import classification_report, confusion_matrix\n",
        "from itertools import product\n",
        "\n",
        "from PIL import ImageFile\n",
        "ImageFile.LOAD_TRUNCATED_IMAGES = True"
      ],
      "execution_count": 1,
      "outputs": []
    },
    {
      "cell_type": "markdown",
      "metadata": {
        "colab_type": "text",
        "id": "OoR-dXgQjVRm"
      },
      "source": [
        "# Downloading dataset from Github"
      ]
    },
    {
      "cell_type": "code",
      "metadata": {
        "colab_type": "code",
        "id": "EzUBb-HPjVRn",
        "colab": {
          "base_uri": "https://localhost:8080/",
          "height": 238
        },
        "outputId": "c8b8bb87-af75-4106-9aca-d0337611c369"
      },
      "source": [
        "![ ! -d \"dataset\" ] && echo \"Cloning dataset project from github\" && git clone https://github.com/alphonse92/momo-dataset.git ./dataset \n",
        "!cd dataset       && git reset --hard && git pull && git checkout V2"
      ],
      "execution_count": 2,
      "outputs": [
        {
          "output_type": "stream",
          "text": [
            "Cloning dataset project from github\n",
            "Cloning into './dataset'...\n",
            "remote: Enumerating objects: 5, done.\u001b[K\n",
            "remote: Counting objects: 100% (5/5), done.\u001b[K\n",
            "remote: Compressing objects: 100% (5/5), done.\u001b[K\n",
            "remote: Total 1432 (delta 0), reused 4 (delta 0), pack-reused 1427\u001b[K\n",
            "Receiving objects: 100% (1432/1432), 219.09 MiB | 12.44 MiB/s, done.\n",
            "Resolving deltas: 100% (15/15), done.\n",
            "HEAD is now at 7e7bb4a remove ds store\n",
            "Already up to date.\n",
            "Checking out files: 100% (1461/1461), done.\n",
            "Branch 'V2' set up to track remote branch 'V2' from 'origin'.\n",
            "Switched to a new branch 'V2'\n"
          ],
          "name": "stdout"
        }
      ]
    },
    {
      "cell_type": "code",
      "metadata": {
        "colab_type": "code",
        "id": "__Gb10ewA9AQ",
        "colab": {}
      },
      "source": [
        "# Load Inception V3.\n",
        "\n",
        "InceptionV3             = keras.applications.inception_v3.InceptionV3\n",
        "     \n",
        "preprocess_input        = keras.applications.inception_v3.preprocess_input\n",
        "image                   = keras.preprocessing.image\n",
        "     \n",
        "ImageDataGenerator      = keras.preprocessing.image.ImageDataGenerator\n",
        "Callback                = keras.callbacks\n",
        "     \n",
        "Model                   = keras.models.Model\n",
        "Sequential              = keras.models.Sequential\n",
        "layers                  = keras.layers\n",
        "     \n",
        "Input                   = layers.Input\n",
        "Dense                   = layers.Dense\n",
        "Conv2D                  = layers.Conv2D\n",
        "ZeroPadding2D           = layers.ZeroPadding2D\n",
        "BatchNormalization      = layers.BatchNormalization\n",
        "AveragePooling2D        = layers.AveragePooling2D\n",
        "MaxPooling2D            = layers.MaxPooling2D\n",
        "GlobalAveragePooling2D  = layers.GlobalAveragePooling2D\n",
        "Dropout                 = layers.Dropout\n",
        "\n"
      ],
      "execution_count": 3,
      "outputs": []
    },
    {
      "cell_type": "markdown",
      "metadata": {
        "colab_type": "text",
        "id": "chxHt9JvA9AV"
      },
      "source": [
        "# Notebook Configuration \n"
      ]
    },
    {
      "cell_type": "code",
      "metadata": {
        "colab_type": "code",
        "id": "nKRDESWDA9AV",
        "colab": {}
      },
      "source": [
        "# Notebook Configuration\n",
        "USE_INCEPTION_V3_MODEL = True\n",
        "RESET_TRAINING_EXAMPLES = True\n",
        "SAVE_WEIGHTS = True\n",
        "SEED_APP = 9\n",
        "\n",
        "# DATASET PROPORTIONS\n",
        "TRAINING_PERCENTAGE = 0.7\n",
        "TESTING_PERCENTAGE  = 0.15\n",
        "EVAL_PERCENTAGE     = 0.15\n",
        "\n",
        "# HYPERPARAMETERS\n",
        "CRITERIA_THRESHOLD = 0.7\n",
        "EPOCHS = 30\n",
        "BATCH_SIZE = 15\n",
        "IMG_W = IMG_H = 299\n",
        "\n",
        "# MODEL CHECKPOINTS CONFIGURATION\n",
        "SAVE_CHECKPOINTS = 2\n",
        "SAVE_WEIGHTS_FREQUENCY = 'epoch'\n",
        "SAVE_WEIGTHS_PERIOD = EPOCHS // SAVE_CHECKPOINTS\n",
        "\n",
        "# COLAB SCOPE\n",
        "MOUNT_G_DRIVE = False\n",
        "GOOGLE_COLLAB = False                                                            # Default value. You should not modify this\n",
        "GOOGLE_RESET_CONTENT_TREE = True                                                 # Reset the dataset content tree. It means remove and re copy the data from drive\n",
        "MOUNT = \"./\"                                                                     # Base path of this project. You may not change this value   \n",
        "G_MOUNT = \"/content/drive\"                                                       # Set where the drive folder will be mounted\n",
        "G_PROJECT_PATH = G_MOUNT+ \"/My Drive/Colab Notebooks/uruit-ml-momo-test/\"        # Set the pathe where momo project is \n",
        "\n",
        "# If colab instance, then build the content tree\n",
        "try:\n",
        "  import google.colab\n",
        "  from google.colab import drive\n",
        "  if MOUNT_G_DRIVE: \n",
        "    drive.mount('/content/drive', force_remount=GOOGLE_RESET_CONTENT_TREE)\n",
        "  GOOGLE_COLLAB = True\n",
        "except:\n",
        "  GOOGLE_COLLAB = False\n",
        "  print(tf.test.gpu_device_name())\n",
        "  "
      ],
      "execution_count": 4,
      "outputs": []
    },
    {
      "cell_type": "markdown",
      "metadata": {
        "colab_type": "text",
        "id": "3Pp1IbKlA9AX"
      },
      "source": [
        "# Variables"
      ]
    },
    {
      "cell_type": "code",
      "metadata": {
        "colab_type": "code",
        "id": "cLOM_Um3A9AY",
        "colab": {
          "base_uri": "https://localhost:8080/",
          "height": 34
        },
        "outputId": "26304aa1-33b8-4a8e-a2e0-b747f4804897"
      },
      "source": [
        "tf.random.set_seed(SEED_APP)\n",
        "\n",
        "MOMO_CLASSNAME    = \"momo\"\n",
        "NO_MOMO_CLASSNAME = \"no_momo\"\n",
        "\n",
        "DATASET_PATH = join(MOUNT, \"dataset/\")\n",
        "DATESET_BASIC_PATH    = join(DATASET_PATH,'basic/')\n",
        "DATESET_TRAINING_PATH = join(DATASET_PATH,'train/')\n",
        "DATESET_TESTING_PATH  = join(DATASET_PATH,'test/')\n",
        "DATESET_EVAL_PATH     = join(DATASET_PATH,'eval/')\n",
        "\n",
        "RESULT_FOLDER_PATH = join(MOUNT,\"result/\")\n",
        "VISUALIZATION_FOLDER = RESULT_FOLDER_PATH + \"basic-predictions/\"\n",
        "VISUALIZATION_LATEST_RESULT_FOLDER = \"latest/\"\n",
        "\n",
        "INCEPTION_V3_MODEL_NAME = \"inception_v3\"\n",
        "RESULT_FOLDER_WEIGHTS_INCEPTION_V3_PATH = RESULT_FOLDER_PATH + INCEPTION_V3_MODEL_NAME + \"/\"\n",
        "DEFAULT_WEIGHTS_FILE_NAME = 'weights.h5'\n",
        "DEFAULT_WEIGHTS_FILE_PATH = RESULT_FOLDER_WEIGHTS_INCEPTION_V3_PATH + DEFAULT_WEIGHTS_FILE_NAME\n",
        "\n",
        "performanceDF = pd.DataFrame()\n",
        "\n",
        "print(DATESET_BASIC_PATH)"
      ],
      "execution_count": 5,
      "outputs": [
        {
          "output_type": "stream",
          "text": [
            "./dataset/basic/\n"
          ],
          "name": "stdout"
        }
      ]
    },
    {
      "cell_type": "markdown",
      "metadata": {
        "colab_type": "text",
        "id": "OPyDA1SlA9Ad"
      },
      "source": [
        "# Functions"
      ]
    },
    {
      "cell_type": "code",
      "metadata": {
        "colab_type": "code",
        "id": "pU3NLf7IA9Ae",
        "colab": {}
      },
      "source": [
        "def getDistribuitions(array,TRAINING_PERCENTAGE,TESTING_PERCENTAGE,EVAL_PERCENTAGE):\n",
        "  m         = len(array)\n",
        "  trainIdx  = math.ceil( m * TRAINING_PERCENTAGE )\n",
        "  testIdx   = math.ceil( m * TESTING_PERCENTAGE  ) \n",
        "  evalIdx   = math.ceil( m * EVAL_PERCENTAGE     )     \n",
        "\n",
        "  np.random.seed(SEED_APP)\n",
        "  np.random.shuffle(array)\n",
        "\n",
        "  currentIndex     = 0\n",
        "  trainingImages   = array[ currentIndex : currentIndex + trainIdx ]\n",
        "\n",
        "  currentIndex     = currentIndex + trainIdx \n",
        "  testImages       = array[ currentIndex : currentIndex + testIdx  ]\n",
        "\n",
        "  currentIndex     = currentIndex + testIdx\n",
        "  evalImages       = array[ currentIndex :          ]\n",
        "\n",
        "  return {\n",
        "      'train':trainingImages,\n",
        "      'test' :testImages,\n",
        "      'eval' :evalImages\n",
        "  }\n",
        "\n",
        "def getFolders(path):\n",
        "    return [d for d in listdir(path) if isdir(join(path, d))]\n",
        "\n",
        "def getFolderFiles(path: str):\n",
        "    return [f for f in listdir(path) if isfile(join(path, f))]  \n",
        "\n",
        "\n",
        "def predict(path, model) -> np.array:\n",
        "    img = image.load_img(path, target_size=(299, 299))\n",
        "    # Size  (299, 299, 3)\n",
        "    imgArray = image.img_to_array(img) \n",
        "    \n",
        "    # Size  (1, 299, 299, 3)\n",
        "    expandedImgArray = np.expand_dims(imgArray, axis=0) \n",
        "    \n",
        "    # Preproces to inceptionV3, normalize each pixel RGB value to an scale of zero to one\n",
        "    processedImgArray = preprocess_input(expandedImgArray) \n",
        "    \n",
        "    return model.predict(processedImgArray)\n",
        "\n",
        "def getTimestamp():\n",
        "    return datetime.datetime.now().timestamp()\n",
        "    \n",
        "def getRandomExample(xClass:str):\n",
        "    np.random.seed(SEED_APP)\n",
        "    exampleFileList = getFolderFiles(DATESET_BASIC_PATH + xClass)\n",
        "    \n",
        "    rndIndex = np.random.randint(0,len(exampleFileList))\n",
        "    filename = exampleFileList[rndIndex]\n",
        "    return join(DATESET_BASIC_PATH,xClass,filename)\n",
        "\n",
        "def getDatasetClasses():\n",
        "    return getFolders(DATESET_BASIC_PATH)\n",
        "\n",
        "def getOutputClasses():\n",
        "    return [NO_MOMO_CLASSNAME,MOMO_CLASSNAME]\n",
        "    \n",
        "def createFolderIfNotExist(folderPath):\n",
        "    if not exists(folderPath):\n",
        "        makedirs(folderPath)\n",
        "\n",
        "def deleteIfExist(filepath):\n",
        "    if exists(filepath):\n",
        "        rmtree(filepath)\n",
        "        \n",
        "def resetFolderIfExist(path : str):\n",
        "    deleteIfExist(path)\n",
        "    createFolderIfNotExist(path)\n",
        "\n",
        "def saveInFileIfNotExist(filepath: str, content: str):\n",
        "  \n",
        "    # Create (or not) the result folder\n",
        "    createFolderIfNotExist(dirname(filepath))\n",
        "    \n",
        "    with open(filepath, mode=\"a\") as f:\n",
        "        f.write(content + '\\n')\n",
        "        \n",
        "\n",
        "def plotModelTrainingProgress(progress):\n",
        "  # Acc stats\n",
        "  plt.plot(progress.history['accuracy'])\n",
        "  plt.plot(progress.history['val_accuracy'])\n",
        "  plt.title('model accuracy')\n",
        "  plt.ylabel('accuracy')\n",
        "  plt.xlabel('epoch')\n",
        "  plt.legend(['train', 'test'], loc='upper left')\n",
        "  plt.show()\n",
        "\n",
        "  # Loss stats\n",
        "  plt.plot(progress.history['loss'])\n",
        "  plt.plot(progress.history['val_loss'])\n",
        "  plt.title('model loss')\n",
        "  plt.ylabel('loss')\n",
        "  plt.xlabel('epoch')\n",
        "  plt.legend(['train', 'test'], loc='upper left')\n",
        "  plt.show()\n",
        "  \n",
        "def createConfusionMatrix(y_true, y_pred, classes,\n",
        "                          normalize=False,\n",
        "                          title=None,\n",
        "                          cmap=plt.cm.Blues):\n",
        "    \"\"\"\n",
        "    This function prints and plots the confusion matrix.\n",
        "    Normalization can be applied by setting `normalize=True`.\n",
        "    \"\"\"\n",
        "    if not title:\n",
        "        if normalize:\n",
        "            title = 'Normalized confusion matrix'\n",
        "        else:\n",
        "            title = 'Confusion matrix, without normalization'\n",
        "\n",
        "    # Compute confusion matrix\n",
        "    cm = confusion_matrix(y_true, y_pred)\n",
        "    if normalize:\n",
        "        cm = cm.astype('float') / cm.sum(axis=1)[:, np.newaxis]                \n",
        "    plt.imshow(cm, interpolation='nearest', cmap=cmap)\n",
        "    plt.title(title)\n",
        "    plt.colorbar()\n",
        "    tick_marks = np.arange(len(classes))\n",
        "    plt.xticks(tick_marks, classes, rotation=45)\n",
        "    plt.yticks(tick_marks, classes)\n",
        "    fmt = '.2f' if normalize else 'd'\n",
        "    thresh = cm.max() / 2.\n",
        "    for i, j in product(range(cm.shape[0]), range(cm.shape[1])):\n",
        "        plt.text(j, i, format(cm[i, j], fmt),\n",
        "                 horizontalalignment=\"center\",\n",
        "                 color=\"white\" if cm[i, j] > thresh else \"black\")\n",
        "    plt.ylabel('True label')\n",
        "    plt.xlabel('Predicted label')\n",
        "    plt.tight_layout()\n",
        "    \n",
        "def getDataForConfusionMatrix(model):\n",
        "    threshold = CRITERIA_THRESHOLD\n",
        "    eval_Xs = []\n",
        "    eval_Ys = []\n",
        "    eval_preds = []\n",
        "    files = []\n",
        "\n",
        "    #folderPath = DATESET_TRAINING_PATH\n",
        "    folderPath = DATESET_EVAL_PATH\n",
        "\n",
        "    folders = getFolders(folderPath)\n",
        "\n",
        "    for folder in folders:\n",
        "\n",
        "        images                = getFolderFiles(folderPath+ folder)\n",
        "        totalOfImagesInFolder = len(images)\n",
        "\n",
        "        print(\"Processing\" ,  folder , \" total of images: \",totalOfImagesInFolder)\n",
        "\n",
        "        for img in tqdm(images, file=stdout):\n",
        "            src = folderPath + folder + \"/\" + img        \n",
        "            files.append(src)\n",
        "            result = predict(src,model)[0][0]\n",
        "\n",
        "            # generamos una lista con las probabilidades devueltas por el modelo para cada imagen.\n",
        "            eval_preds.append(result)\n",
        "\n",
        "            # generamos nuestra lista de y_true, es decir la etiqueta de quebería tener la foto.\n",
        "            eval_Xs.append(1 if folder == MOMO_CLASSNAME else 0)\n",
        "\n",
        "            # generamos nuestra lista de y_pred, es decir la etiqueta que nos dio la predicción.\n",
        "            eval_Ys.append(1 if result > threshold else 0)\n",
        "\n",
        "    files      = np.array(files)\n",
        "    eval_preds = np.array(eval_preds)\n",
        "    eval_Xs    = np.array(eval_Xs)\n",
        "    eval_Ys    = np.array(eval_Ys)\n",
        "    \n",
        "    momoModel.load_weights(DEFAULT_WEIGHTS_FILE_PATH)\n",
        "    return (files,eval_preds,eval_Xs,eval_Ys)\n",
        "\n",
        "\n",
        "def printConfussionMatrix(model):\n",
        "  files,eval_preds,eval_Xs,eval_Ys = getDataForConfusionMatrix(model)\n",
        "  createConfusionMatrix(\n",
        "    eval_Xs,\n",
        "    eval_Ys,\n",
        "    title=\"Confusion matrix\",\n",
        "    classes=getOutputClasses(),\n",
        "    normalize=True\n",
        ")\n",
        "        \n",
        "def createInceptionModel():\n",
        "  baseModel = InceptionV3(weights='imagenet', include_top=False, pooling=  'avg')\n",
        "  baseModel.trainable = False\n",
        "  \n",
        "  # Take the output of the model\n",
        "  x = baseModel.output\n",
        "\n",
        "  # Add a full-conected layer of 1024 neurons with relu activation to our model output\n",
        "  x = Dense(1024, activation='relu')(x)\n",
        "  x = layers.Dropout(0.6)(x)\n",
        "  #x = Dense(512, activation='relu')(x)\n",
        "\n",
        "  # Add a output layer with only one neurone\n",
        "  momoOutput = Dense(1, activation='sigmoid')(x)\n",
        "\n",
        "  # Create the momo Model from our outputs\n",
        "  model = Model(inputs=baseModel.input, outputs=momoOutput)\n",
        "\n",
        "  for layer in baseModel.layers:\n",
        "    layer.trainable = False\n",
        "\n",
        "  # Compile our model using adam and an optimizer for binari clasification\n",
        "  model.compile(optimizer='adam', loss='binary_crossentropy',metrics=['accuracy'])\n",
        "\n",
        "  return model\n"
      ],
      "execution_count": 6,
      "outputs": []
    },
    {
      "cell_type": "markdown",
      "metadata": {
        "colab_type": "text",
        "id": "8320VMXlA9Aj"
      },
      "source": [
        "# Preparing InceptionV3 Model to fit it to our problem: identify momo in. images"
      ]
    },
    {
      "cell_type": "markdown",
      "metadata": {
        "colab_type": "raw",
        "id": "bHQU4JM1A9Ak"
      },
      "source": [
        ""
      ]
    },
    {
      "cell_type": "code",
      "metadata": {
        "colab_type": "code",
        "id": "VtMS9lQEA9Ak",
        "colab": {
          "base_uri": "https://localhost:8080/",
          "height": 71
        },
        "outputId": "4ac32ece-527a-4254-b72b-b4b304632810"
      },
      "source": [
        "momoModel = createInceptionModel()"
      ],
      "execution_count": 7,
      "outputs": [
        {
          "output_type": "stream",
          "text": [
            "Downloading data from https://storage.googleapis.com/tensorflow/keras-applications/inception_v3/inception_v3_weights_tf_dim_ordering_tf_kernels_notop.h5\n",
            "87916544/87910968 [==============================] - 2s 0us/step\n"
          ],
          "name": "stdout"
        }
      ]
    },
    {
      "cell_type": "markdown",
      "metadata": {
        "colab_type": "text",
        "id": "GFMSiiU1A9Ap"
      },
      "source": [
        "# Pre training"
      ]
    },
    {
      "cell_type": "markdown",
      "metadata": {
        "colab_type": "text",
        "id": "3ZaWxM93A9Ap"
      },
      "source": [
        "## Prepare our test/training folders"
      ]
    },
    {
      "cell_type": "code",
      "metadata": {
        "colab_type": "code",
        "id": "73006ufKA9Aq",
        "colab": {}
      },
      "source": [
        "# Read each class of the dataset\n",
        "for ds_class in getOutputClasses():\n",
        "    # Create the folders in the train/test folders\n",
        "    resetFolderIfExist( DATESET_TRAINING_PATH  +  ds_class  )\n",
        "    resetFolderIfExist( DATESET_TESTING_PATH   +  ds_class  )\n",
        "    resetFolderIfExist( DATESET_EVAL_PATH      +  ds_class  )\n"
      ],
      "execution_count": 8,
      "outputs": []
    },
    {
      "cell_type": "markdown",
      "metadata": {
        "colab_type": "text",
        "id": "ud7r12EdA9As"
      },
      "source": [
        "## Fill the train/test/eval folders"
      ]
    },
    {
      "cell_type": "code",
      "metadata": {
        "colab_type": "code",
        "id": "UYF0M09zA9At",
        "colab": {
          "base_uri": "https://localhost:8080/",
          "height": 1000
        },
        "outputId": "e96904b4-1571-4e3a-db26-52e4f938cff2"
      },
      "source": [
        "def CreateTrainTestAndEvalFolders():\n",
        "    np.random.seed(SEED_APP)\n",
        "    DATASET_CLASSES = getDatasetClasses()\n",
        "\n",
        "    ds_folders = getFolders(DATESET_BASIC_PATH)\n",
        "\n",
        "    for ds_folder in ds_folders:\n",
        "\n",
        "        path      = DATESET_BASIC_PATH + ds_folder\n",
        "        files     = np.array(getFolderFiles(path))\n",
        "\n",
        "\n",
        "        distributions = getDistribuitions(files,\n",
        "                          TRAINING_PERCENTAGE,\n",
        "                          TESTING_PERCENTAGE,\n",
        "                          EVAL_PERCENTAGE\n",
        "        )\n",
        "\n",
        "        trainingImages = distributions[\"train\"]\n",
        "        testImages     = distributions[\"test\"]\n",
        "        evalImages     = distributions[\"eval\"]\n",
        "        \n",
        "        isPositiveClass      = ds_folder == MOMO_CLASSNAME\n",
        "        folderTo             = MOMO_CLASSNAME if isPositiveClass else NO_MOMO_CLASSNAME\n",
        "\n",
        "        trainingClassPath    = DATESET_TRAINING_PATH + folderTo\n",
        "        testClassPath        = DATESET_TESTING_PATH  + folderTo\n",
        "        evalClassPath        = DATESET_EVAL_PATH     + folderTo\n",
        "\n",
        "        resetFolderIfExist(trainingClassPath)\n",
        "        resetFolderIfExist(testClassPath)\n",
        "        resetFolderIfExist(evalClassPath)\n",
        "\n",
        "\n",
        "        print(\n",
        "            \"From folder '\" + ds_folder  + \"'\"\n",
        "            + \" take \" \n",
        "            + str(len(trainingImages)) + \" Training examples, \"\n",
        "            + str(len(testImages))     + \" Testing examples, and \"\n",
        "            + str(len(evalImages))     + \" Eval examples.\"\n",
        "            + \"\\n\"        \n",
        "        )\n",
        "\n",
        "        print(\"Copying traning files from \" + path + \" to \" + trainingClassPath)\n",
        "        for imageName in tqdm(trainingImages, file=stdout):\n",
        "            copy2(path+ \"/\"+  imageName ,trainingClassPath + \"/\"+  imageName)\n",
        "\n",
        "        print(\"Copying testing files from \" + path + \" to \" + testClassPath)\n",
        "        for imageName in tqdm(testImages, file=stdout):\n",
        "            copy2(path+ \"/\"+  imageName ,testClassPath + \"/\"+  imageName)\n",
        "\n",
        "        print(\"Copying eval files from \"    + path + \" to \" + evalClassPath)\n",
        "        for imageName in tqdm(evalImages, file=stdout):\n",
        "            copy2(path+ \"/\"+  imageName ,evalClassPath + \"/\"+  imageName)\n",
        "        print()\n",
        "        print()\n",
        "            \n",
        "CreateTrainTestAndEvalFolders()\n"
      ],
      "execution_count": 9,
      "outputs": [
        {
          "output_type": "stream",
          "text": [
            "From folder 'person' take 130 Training examples, 28 Testing examples, and 27 Eval examples.\n",
            "\n",
            "Copying traning files from ./dataset/basic/person to ./dataset/train/no_momo\n",
            "100%|██████████| 130/130 [00:00<00:00, 2554.18it/s]\n",
            "Copying testing files from ./dataset/basic/person to ./dataset/test/no_momo\n",
            "100%|██████████| 28/28 [00:00<00:00, 893.48it/s]\n",
            "Copying eval files from ./dataset/basic/person to ./dataset/eval/no_momo\n",
            "100%|██████████| 27/27 [00:00<00:00, 1197.85it/s]\n",
            "\n",
            "\n",
            "From folder 'momo' take 304 Training examples, 66 Testing examples, and 64 Eval examples.\n",
            "\n",
            "Copying traning files from ./dataset/basic/momo to ./dataset/train/momo\n",
            "100%|██████████| 304/304 [00:00<00:00, 1692.91it/s]\n",
            "Copying testing files from ./dataset/basic/momo to ./dataset/test/momo\n",
            "100%|██████████| 66/66 [00:00<00:00, 2224.59it/s]\n",
            "Copying eval files from ./dataset/basic/momo to ./dataset/eval/momo\n",
            "100%|██████████| 64/64 [00:00<00:00, 2204.46it/s]\n",
            "\n",
            "\n",
            "From folder 'meme' take 91 Training examples, 20 Testing examples, and 19 Eval examples.\n",
            "\n",
            "Copying traning files from ./dataset/basic/meme to ./dataset/train/no_momo\n",
            "100%|██████████| 91/91 [00:00<00:00, 1377.57it/s]\n",
            "Copying testing files from ./dataset/basic/meme to ./dataset/test/no_momo\n",
            "100%|██████████| 20/20 [00:00<00:00, 1338.56it/s]\n",
            "Copying eval files from ./dataset/basic/meme to ./dataset/eval/no_momo\n",
            "100%|██████████| 19/19 [00:00<00:00, 1805.80it/s]\n",
            "\n",
            "\n",
            "From folder 'landscapes' take 53 Training examples, 12 Testing examples, and 10 Eval examples.\n",
            "\n",
            "Copying traning files from ./dataset/basic/landscapes to ./dataset/train/no_momo\n",
            "100%|██████████| 53/53 [00:00<00:00, 1272.12it/s]\n",
            "Copying testing files from ./dataset/basic/landscapes to ./dataset/test/no_momo\n",
            "100%|██████████| 12/12 [00:00<00:00, 1263.22it/s]\n",
            "Copying eval files from ./dataset/basic/landscapes to ./dataset/eval/no_momo\n",
            "100%|██████████| 10/10 [00:00<00:00, 1545.09it/s]\n",
            "\n",
            "\n",
            "From folder 'montains' take 59 Training examples, 13 Testing examples, and 12 Eval examples.\n",
            "\n",
            "Copying traning files from ./dataset/basic/montains to ./dataset/train/no_momo\n",
            "100%|██████████| 59/59 [00:00<00:00, 1877.71it/s]\n",
            "Copying testing files from ./dataset/basic/montains to ./dataset/test/no_momo\n",
            "100%|██████████| 13/13 [00:00<00:00, 961.83it/s]\n",
            "Copying eval files from ./dataset/basic/montains to ./dataset/eval/no_momo\n",
            "100%|██████████| 12/12 [00:00<00:00, 785.22it/s]\n",
            "\n",
            "\n",
            "From folder 'scary' take 61 Training examples, 13 Testing examples, and 12 Eval examples.\n",
            "\n",
            "Copying traning files from ./dataset/basic/scary to ./dataset/train/no_momo\n",
            "100%|██████████| 61/61 [00:00<00:00, 3010.70it/s]\n",
            "Copying testing files from ./dataset/basic/scary to ./dataset/test/no_momo\n",
            "100%|██████████| 13/13 [00:00<00:00, 1336.65it/s]\n",
            "Copying eval files from ./dataset/basic/scary to ./dataset/eval/no_momo\n",
            "100%|██████████| 12/12 [00:00<00:00, 1803.55it/s]\n",
            "\n",
            "\n"
          ],
          "name": "stdout"
        }
      ]
    },
    {
      "cell_type": "markdown",
      "metadata": {
        "colab_type": "text",
        "id": "KmByjHODA9Av"
      },
      "source": [
        "\n",
        "## Data augmentation"
      ]
    },
    {
      "cell_type": "code",
      "metadata": {
        "colab_type": "code",
        "id": "jXMsHscUA9Av",
        "colab": {
          "base_uri": "https://localhost:8080/",
          "height": 51
        },
        "outputId": "c95c2222-ac64-4366-bba6-8ff4f2c947bc"
      },
      "source": [
        "# Create a generator to pre process our dataset images\n",
        "imageGenerator = ImageDataGenerator(\n",
        "    rescale            = 1./255,       # Scale our data to our dataset scale\n",
        "    horizontal_flip    = True,         # Horizontal mirror\n",
        "    vertical_flip      = False,         # Disable vertical mirror\n",
        "    rotation_range     = 7,\n",
        "    width_shift_range  = 0.3,\n",
        "    height_shift_range = 0.3,\n",
        "    brightness_range   = (0.3, 0.7),\n",
        "    shear_range        = 5.0,\n",
        "    fill_mode          = \"reflect\"\n",
        ")\n",
        "\n",
        "trainGenerator = imageGenerator.flow_from_directory(\n",
        "        directory   = DATESET_TRAINING_PATH,\n",
        "        batch_size  =  BATCH_SIZE,\n",
        "        class_mode  =  'binary',\n",
        "        classes     =  getOutputClasses())\n",
        "\n",
        "testGenerator= imageGenerator.flow_from_directory(\n",
        "        directory    = DATESET_TESTING_PATH,\n",
        "\n",
        "        batch_size   = BATCH_SIZE,\n",
        "        class_mode   = 'binary',\n",
        "        classes      = getOutputClasses())"
      ],
      "execution_count": 10,
      "outputs": [
        {
          "output_type": "stream",
          "text": [
            "Found 365 images belonging to 2 classes.\n",
            "Found 79 images belonging to 2 classes.\n"
          ],
          "name": "stdout"
        }
      ]
    },
    {
      "cell_type": "code",
      "metadata": {
        "colab_type": "code",
        "id": "5fa2xYh4A9Ax",
        "colab": {
          "base_uri": "https://localhost:8080/",
          "height": 34
        },
        "outputId": "2e3bc786-0d68-433a-e754-3b6dc612fda1"
      },
      "source": [
        "trainGenerator.class_indices"
      ],
      "execution_count": 11,
      "outputs": [
        {
          "output_type": "execute_result",
          "data": {
            "text/plain": [
              "{'momo': 1, 'no_momo': 0}"
            ]
          },
          "metadata": {
            "tags": []
          },
          "execution_count": 11
        }
      ]
    },
    {
      "cell_type": "markdown",
      "metadata": {
        "colab_type": "text",
        "id": "-PvUAm4lA9Az"
      },
      "source": [
        "# Training"
      ]
    },
    {
      "cell_type": "markdown",
      "metadata": {
        "colab_type": "text",
        "id": "3_g4RiH_A9A0"
      },
      "source": [
        "Lets save some util data from our foulders"
      ]
    },
    {
      "cell_type": "code",
      "metadata": {
        "colab_type": "code",
        "id": "c8X7Jyp3A9A0",
        "colab": {
          "base_uri": "https://localhost:8080/",
          "height": 102
        },
        "outputId": "f3ecb92b-1202-4113-95c3-268d0212edad"
      },
      "source": [
        "trainPositiveFiles          = getFolderFiles(DATESET_TRAINING_PATH + MOMO_CLASSNAME)\n",
        "trainNegativeFiles          = getFolderFiles(DATESET_TRAINING_PATH + NO_MOMO_CLASSNAME)\n",
        "trainPositiveExamplesLength = len(trainPositiveFiles)\n",
        "trainNegativeExamplesLength = len(trainNegativeFiles)\n",
        "trainLength                 = trainPositiveExamplesLength + trainNegativeExamplesLength\n",
        "\n",
        "print(\"Total train examples: \", trainLength , \"positive: \" , trainPositiveExamplesLength  , \" negative: \" , trainNegativeExamplesLength)\n",
        "\n",
        "testPositiveFiles           = getFolderFiles(DATESET_TESTING_PATH + MOMO_CLASSNAME)\n",
        "testNegativeFiles           = getFolderFiles(DATESET_TESTING_PATH + NO_MOMO_CLASSNAME)\n",
        "testPositiveExamplesLength  = len(testPositiveFiles)\n",
        "testNegativeExamplesLength  = len(testNegativeFiles)\n",
        "testLength                  = testPositiveExamplesLength + testNegativeExamplesLength\n",
        "\n",
        "print(\"Total test examples: \", testLength , \"positive: \" , testPositiveExamplesLength  , \" negative: \" , testNegativeExamplesLength)\n",
        "print()\n",
        "\n",
        "trainSteps = trainLength // BATCH_SIZE\n",
        "testSteps  = testLength // BATCH_SIZE\n",
        "\n",
        "print(\"Train Steps per epoch \" , trainSteps)\n",
        "print(\"Test Steps per epoch \" , testSteps)\n",
        "\n",
        "\n",
        "resetFolderIfExist(RESULT_FOLDER_WEIGHTS_INCEPTION_V3_PATH)\n"
      ],
      "execution_count": 12,
      "outputs": [
        {
          "output_type": "stream",
          "text": [
            "Total train examples:  365 positive:  304  negative:  61\n",
            "Total test examples:  79 positive:  66  negative:  13\n",
            "\n",
            "Train Steps per epoch  24\n",
            "Test Steps per epoch  5\n"
          ],
          "name": "stdout"
        }
      ]
    },
    {
      "cell_type": "code",
      "metadata": {
        "colab_type": "code",
        "id": "1fW7oLLTA9A2",
        "colab": {
          "base_uri": "https://localhost:8080/",
          "height": 1000
        },
        "outputId": "b1790e69-7c5b-410f-b4a4-533591a1109e"
      },
      "source": [
        "TRAINING_TIME_START = time()\n",
        "progress = momoModel.fit_generator(\n",
        "        trainGenerator,\n",
        "        steps_per_epoch=trainSteps,\n",
        "        epochs=EPOCHS,\n",
        "        validation_data=testGenerator,\n",
        "        validation_steps=testSteps\n",
        ")\n",
        "TRAINING_TIME_END = time()"
      ],
      "execution_count": 13,
      "outputs": [
        {
          "output_type": "stream",
          "text": [
            "WARNING:tensorflow:From <ipython-input-13-28c677e904e1>:7: Model.fit_generator (from tensorflow.python.keras.engine.training) is deprecated and will be removed in a future version.\n",
            "Instructions for updating:\n",
            "Please use Model.fit, which supports generators.\n",
            "Epoch 1/30\n",
            "24/24 [==============================] - 15s 617ms/step - loss: 0.9254 - accuracy: 0.7857 - val_loss: 1.0321 - val_accuracy: 0.8267\n",
            "Epoch 2/30\n",
            "24/24 [==============================] - 13s 534ms/step - loss: 0.4237 - accuracy: 0.8714 - val_loss: 0.1590 - val_accuracy: 0.9600\n",
            "Epoch 3/30\n",
            "24/24 [==============================] - 13s 532ms/step - loss: 0.2291 - accuracy: 0.9229 - val_loss: 0.1348 - val_accuracy: 0.9733\n",
            "Epoch 4/30\n",
            "24/24 [==============================] - 13s 535ms/step - loss: 0.1448 - accuracy: 0.9486 - val_loss: 0.2895 - val_accuracy: 0.9200\n",
            "Epoch 5/30\n",
            "24/24 [==============================] - 13s 531ms/step - loss: 0.1853 - accuracy: 0.9400 - val_loss: 0.4779 - val_accuracy: 0.8800\n",
            "Epoch 6/30\n",
            "24/24 [==============================] - 13s 532ms/step - loss: 0.2527 - accuracy: 0.9229 - val_loss: 0.2305 - val_accuracy: 0.9200\n",
            "Epoch 7/30\n",
            "24/24 [==============================] - 13s 535ms/step - loss: 0.1426 - accuracy: 0.9371 - val_loss: 0.1760 - val_accuracy: 0.9467\n",
            "Epoch 8/30\n",
            "24/24 [==============================] - 13s 534ms/step - loss: 0.1881 - accuracy: 0.9343 - val_loss: 0.2397 - val_accuracy: 0.9200\n",
            "Epoch 9/30\n",
            "24/24 [==============================] - 13s 530ms/step - loss: 0.0988 - accuracy: 0.9629 - val_loss: 0.1955 - val_accuracy: 0.9333\n",
            "Epoch 10/30\n",
            "24/24 [==============================] - 13s 529ms/step - loss: 0.1586 - accuracy: 0.9314 - val_loss: 0.1427 - val_accuracy: 0.9467\n",
            "Epoch 11/30\n",
            "24/24 [==============================] - 13s 538ms/step - loss: 0.1353 - accuracy: 0.9657 - val_loss: 0.1682 - val_accuracy: 0.9467\n",
            "Epoch 12/30\n",
            "24/24 [==============================] - 13s 531ms/step - loss: 0.1100 - accuracy: 0.9543 - val_loss: 0.1662 - val_accuracy: 0.9333\n",
            "Epoch 13/30\n",
            "24/24 [==============================] - 13s 544ms/step - loss: 0.1308 - accuracy: 0.9543 - val_loss: 0.1569 - val_accuracy: 0.9200\n",
            "Epoch 14/30\n",
            "24/24 [==============================] - 13s 533ms/step - loss: 0.0800 - accuracy: 0.9629 - val_loss: 0.0955 - val_accuracy: 0.9733\n",
            "Epoch 15/30\n",
            "24/24 [==============================] - 13s 536ms/step - loss: 0.1109 - accuracy: 0.9571 - val_loss: 0.1112 - val_accuracy: 0.9467\n",
            "Epoch 16/30\n",
            "24/24 [==============================] - 13s 532ms/step - loss: 0.0957 - accuracy: 0.9657 - val_loss: 0.1403 - val_accuracy: 0.9600\n",
            "Epoch 17/30\n",
            "24/24 [==============================] - 13s 537ms/step - loss: 0.1057 - accuracy: 0.9694 - val_loss: 0.1776 - val_accuracy: 0.9333\n",
            "Epoch 18/30\n",
            "24/24 [==============================] - 13s 533ms/step - loss: 0.0799 - accuracy: 0.9657 - val_loss: 0.1055 - val_accuracy: 0.9600\n",
            "Epoch 19/30\n",
            "24/24 [==============================] - 13s 537ms/step - loss: 0.1003 - accuracy: 0.9571 - val_loss: 0.1300 - val_accuracy: 0.9600\n",
            "Epoch 20/30\n",
            "24/24 [==============================] - 13s 535ms/step - loss: 0.1014 - accuracy: 0.9686 - val_loss: 0.1137 - val_accuracy: 0.9333\n",
            "Epoch 21/30\n",
            "24/24 [==============================] - 13s 535ms/step - loss: 0.0582 - accuracy: 0.9714 - val_loss: 0.1200 - val_accuracy: 0.9733\n",
            "Epoch 22/30\n",
            "24/24 [==============================] - 13s 537ms/step - loss: 0.0800 - accuracy: 0.9771 - val_loss: 0.1115 - val_accuracy: 0.9600\n",
            "Epoch 23/30\n",
            "24/24 [==============================] - 13s 526ms/step - loss: 0.0726 - accuracy: 0.9771 - val_loss: 0.2835 - val_accuracy: 0.9200\n",
            "Epoch 24/30\n",
            "24/24 [==============================] - 13s 526ms/step - loss: 0.0901 - accuracy: 0.9571 - val_loss: 0.2711 - val_accuracy: 0.8800\n",
            "Epoch 25/30\n",
            "24/24 [==============================] - 13s 535ms/step - loss: 0.0610 - accuracy: 0.9771 - val_loss: 0.1272 - val_accuracy: 0.9733\n",
            "Epoch 26/30\n",
            "24/24 [==============================] - 13s 529ms/step - loss: 0.0881 - accuracy: 0.9743 - val_loss: 0.2510 - val_accuracy: 0.9067\n",
            "Epoch 27/30\n",
            "24/24 [==============================] - 13s 525ms/step - loss: 0.0521 - accuracy: 0.9771 - val_loss: 0.1864 - val_accuracy: 0.9467\n",
            "Epoch 28/30\n",
            "24/24 [==============================] - 13s 535ms/step - loss: 0.0616 - accuracy: 0.9743 - val_loss: 0.1141 - val_accuracy: 0.9600\n",
            "Epoch 29/30\n",
            "24/24 [==============================] - 13s 527ms/step - loss: 0.0367 - accuracy: 0.9886 - val_loss: 0.1910 - val_accuracy: 0.9333\n",
            "Epoch 30/30\n",
            "24/24 [==============================] - 13s 529ms/step - loss: 0.0602 - accuracy: 0.9800 - val_loss: 0.2136 - val_accuracy: 0.9200\n"
          ],
          "name": "stdout"
        }
      ]
    },
    {
      "cell_type": "code",
      "metadata": {
        "colab_type": "code",
        "id": "Sq9RjGn4A9A8",
        "colab": {
          "base_uri": "https://localhost:8080/",
          "height": 590
        },
        "outputId": "f9f054d1-b023-44a9-f3dd-3f1fc6b42666"
      },
      "source": [
        "def saveInceptionV3CheckpointAndDraw():\n",
        "\n",
        "  print(progress.history.keys())\n",
        "  loss              = progress.history[\"loss\"][-1]\n",
        "  val_loss          = progress.history[\"val_loss\"][-1]\n",
        "\n",
        "  accuracy         = progress.history[\"accuracy\"][-1]\n",
        "  val_accuracy     = progress.history[\"val_accuracy\"][-1]\n",
        "\n",
        "  perfData = {\n",
        "        'loss'         :  loss,             \n",
        "        'val_loss'     :  val_loss,    \n",
        "        'accuracy'     :  accuracy,    \n",
        "        'val_accuracy' :  val_accuracy,\n",
        "        'training_time':  (TRAINING_TIME_END - TRAINING_TIME_START),\n",
        "        'train_length' :  trainLength,\n",
        "        'test_length'  :  testLength\n",
        "  }\n",
        "\n",
        "  \n",
        "  momoModel.save_weights( DEFAULT_WEIGHTS_FILE_PATH)\n",
        "  plotModelTrainingProgress(progress)\n",
        "  return perfData \n",
        "\n",
        "perfData = saveInceptionV3CheckpointAndDraw()\n",
        "performanceDF = performanceDF.append(perfData, ignore_index=True)"
      ],
      "execution_count": 14,
      "outputs": [
        {
          "output_type": "stream",
          "text": [
            "dict_keys(['loss', 'accuracy', 'val_loss', 'val_accuracy'])\n"
          ],
          "name": "stdout"
        },
        {
          "output_type": "display_data",
          "data": {
            "image/png": "[encoded data removed]",
            "text/plain": [
              "<Figure size 432x288 with 1 Axes>"
            ]
          },
          "metadata": {
            "tags": [],
            "needs_background": "light"
          }
        },
        {
          "output_type": "display_data",
          "data": {
            "image/png": "[encoded data removed]",
            "text/plain": [
              "<Figure size 432x288 with 1 Axes>"
            ]
          },
          "metadata": {
            "tags": [],
            "needs_background": "light"
          }
        }
      ]
    },
    {
      "cell_type": "code",
      "metadata": {
        "colab_type": "code",
        "id": "0OnY0qoXA9A_",
        "colab": {
          "base_uri": "https://localhost:8080/",
          "height": 365
        },
        "outputId": "fe42c200-d1f9-47db-e4fd-5e33be5d3b3f"
      },
      "source": [
        "printConfussionMatrix(momoModel)"
      ],
      "execution_count": 15,
      "outputs": [
        {
          "output_type": "stream",
          "text": [
            "Processing momo  total of images:  64\n",
            "100%|██████████| 64/64 [00:07<00:00,  8.78it/s]\n",
            "Processing no_momo  total of images:  12\n",
            "100%|██████████| 12/12 [00:01<00:00, 11.88it/s]\n"
          ],
          "name": "stdout"
        },
        {
          "output_type": "display_data",
          "data": {
            "image/png": "[encoded data removed]",
            "text/plain": [
              "<Figure size 432x288 with 2 Axes>"
            ]
          },
          "metadata": {
            "tags": [],
            "needs_background": "light"
          }
        }
      ]
    },
    {
      "cell_type": "code",
      "metadata": {
        "id": "ICuaFnlPVkNk",
        "colab_type": "code",
        "colab": {
          "base_uri": "https://localhost:8080/",
          "height": 80
        },
        "outputId": "2a30715f-9f43-452a-e6d7-049833280966"
      },
      "source": [
        "# View performance data\n",
        "performanceDF.head()"
      ],
      "execution_count": 16,
      "outputs": [
        {
          "output_type": "execute_result",
          "data": {
            "text/html": [
              "<div>\n",
              "<style scoped>\n",
              "    .dataframe tbody tr th:only-of-type {\n",
              "        vertical-align: middle;\n",
              "    }\n",
              "\n",
              "    .dataframe tbody tr th {\n",
              "        vertical-align: top;\n",
              "    }\n",
              "\n",
              "    .dataframe thead th {\n",
              "        text-align: right;\n",
              "    }\n",
              "</style>\n",
              "<table border=\"1\" class=\"dataframe\">\n",
              "  <thead>\n",
              "    <tr style=\"text-align: right;\">\n",
              "      <th></th>\n",
              "      <th>accuracy</th>\n",
              "      <th>loss</th>\n",
              "      <th>test_length</th>\n",
              "      <th>train_length</th>\n",
              "      <th>training_time</th>\n",
              "      <th>val_accuracy</th>\n",
              "      <th>val_loss</th>\n",
              "    </tr>\n",
              "  </thead>\n",
              "  <tbody>\n",
              "    <tr>\n",
              "      <th>0</th>\n",
              "      <td>0.98</td>\n",
              "      <td>0.060213</td>\n",
              "      <td>79.0</td>\n",
              "      <td>365.0</td>\n",
              "      <td>412.838237</td>\n",
              "      <td>0.92</td>\n",
              "      <td>0.213608</td>\n",
              "    </tr>\n",
              "  </tbody>\n",
              "</table>\n",
              "</div>"
            ],
            "text/plain": [
              "   accuracy      loss  test_length  ...  training_time  val_accuracy  val_loss\n",
              "0      0.98  0.060213         79.0  ...     412.838237          0.92  0.213608\n",
              "\n",
              "[1 rows x 7 columns]"
            ]
          },
          "metadata": {
            "tags": []
          },
          "execution_count": 16
        }
      ]
    },
    {
      "cell_type": "code",
      "metadata": {
        "id": "UlHlFtwrSex1",
        "colab_type": "code",
        "colab": {
          "base_uri": "https://localhost:8080/",
          "height": 156
        },
        "outputId": "9012b9c9-cf0e-4e04-fbc3-e089b9330e8c"
      },
      "source": [
        "momoModel.save('./model')"
      ],
      "execution_count": 17,
      "outputs": [
        {
          "output_type": "stream",
          "text": [
            "WARNING:tensorflow:From /usr/local/lib/python3.6/dist-packages/tensorflow/python/training/tracking/tracking.py:111: Model.state_updates (from tensorflow.python.keras.engine.training) is deprecated and will be removed in a future version.\n",
            "Instructions for updating:\n",
            "This property should not be used in TensorFlow 2.0, as updates are applied automatically.\n",
            "WARNING:tensorflow:From /usr/local/lib/python3.6/dist-packages/tensorflow/python/training/tracking/tracking.py:111: Layer.updates (from tensorflow.python.keras.engine.base_layer) is deprecated and will be removed in a future version.\n",
            "Instructions for updating:\n",
            "This property should not be used in TensorFlow 2.0, as updates are applied automatically.\n",
            "INFO:tensorflow:Assets written to: ./model/assets\n"
          ],
          "name": "stdout"
        }
      ]
    },
    {
      "cell_type": "code",
      "metadata": {
        "id": "l2LKx_LATBc2",
        "colab_type": "code",
        "colab": {
          "base_uri": "https://localhost:8080/",
          "height": 119
        },
        "outputId": "742e1b6e-e4a8-44f7-ca6e-9fce4fd98c88"
      },
      "source": [
        "!zip -r -9 dist.zip model "
      ],
      "execution_count": 18,
      "outputs": [
        {
          "output_type": "stream",
          "text": [
            "  adding: model/ (stored 0%)\n",
            "  adding: model/assets/ (stored 0%)\n",
            "  adding: model/saved_model.pb (deflated 93%)\n",
            "  adding: model/variables/ (stored 0%)\n",
            "  adding: model/variables/variables.index (deflated 79%)\n",
            "  adding: model/variables/variables.data-00000-of-00001 (deflated 7%)\n"
          ],
          "name": "stdout"
        }
      ]
    },
    {
      "cell_type": "code",
      "metadata": {
        "id": "t4yY3goGTdcz",
        "colab_type": "code",
        "colab": {
          "base_uri": "https://localhost:8080/",
          "height": 17
        },
        "outputId": "1fa50a00-1b5f-42e9-fede-c97e8e38e887"
      },
      "source": [
        "if GOOGLE_COLLAB:\n",
        "  from google.colab import files\n",
        "  files.download(\"dist.zip\")"
      ],
      "execution_count": 19,
      "outputs": [
        {
          "output_type": "display_data",
          "data": {
            "application/javascript": [
              "\n",
              "    async function download(id, filename, size) {\n",
              "      if (!google.colab.kernel.accessAllowed) {\n",
              "        return;\n",
              "      }\n",
              "      const div = document.createElement('div');\n",
              "      const label = document.createElement('label');\n",
              "      label.textContent = `Downloading \"${filename}\": `;\n",
              "      div.appendChild(label);\n",
              "      const progress = document.createElement('progress');\n",
              "      progress.max = size;\n",
              "      div.appendChild(progress);\n",
              "      document.body.appendChild(div);\n",
              "\n",
              "      const buffers = [];\n",
              "      let downloaded = 0;\n",
              "\n",
              "      const channel = await google.colab.kernel.comms.open(id);\n",
              "      // Send a message to notify the kernel that we're ready.\n",
              "      channel.send({})\n",
              "\n",
              "      for await (const message of channel.messages) {\n",
              "        // Send a message to notify the kernel that we're ready.\n",
              "        channel.send({})\n",
              "        if (message.buffers) {\n",
              "          for (const buffer of message.buffers) {\n",
              "            buffers.push(buffer);\n",
              "            downloaded += buffer.byteLength;\n",
              "            progress.value = downloaded;\n",
              "          }\n",
              "        }\n",
              "      }\n",
              "      const blob = new Blob(buffers, {type: 'application/binary'});\n",
              "      const a = document.createElement('a');\n",
              "      a.href = window.URL.createObjectURL(blob);\n",
              "      a.download = filename;\n",
              "      div.appendChild(a);\n",
              "      a.click();\n",
              "      div.remove();\n",
              "    }\n",
              "  "
            ],
            "text/plain": [
              "<IPython.core.display.Javascript object>"
            ]
          },
          "metadata": {
            "tags": []
          }
        },
        {
          "output_type": "display_data",
          "data": {
            "application/javascript": [
              "download(\"download_31b698d8-136e-41f6-9249-a5b49b0e03e0\", \"dist.zip\", 104821257)"
            ],
            "text/plain": [
              "<IPython.core.display.Javascript object>"
            ]
          },
          "metadata": {
            "tags": []
          }
        }
      ]
    }
  ]
}