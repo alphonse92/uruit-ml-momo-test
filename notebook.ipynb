{
 "cells": [
  {
   "cell_type": "markdown",
   "metadata": {},
   "source": [
    "# Imports"
   ]
  },
  {
   "cell_type": "code",
   "execution_count": 1,
   "metadata": {},
   "outputs": [],
   "source": [
    "import numpy as np\n",
    "import tensorflow as tf\n",
    "import datetime; \n",
    "\n",
    "from tqdm import tqdm\n",
    "from sys import stdout\n",
    "from os import listdir, makedirs, remove\n",
    "from os.path import isfile, join, isdir, exists\n",
    "from tensorflow import keras\n",
    "from numpy.random import seed"
   ]
  },
  {
   "cell_type": "code",
   "execution_count": 2,
   "metadata": {},
   "outputs": [],
   "source": [
    "# Load Inception V3.\n",
    "\n",
    "InceptionV3      = keras.applications.inception_v3.InceptionV3\n",
    "preprocess_input = keras.applications.inception_v3.preprocess_input\n",
    "image            = keras.preprocessing.image\n"
   ]
  },
  {
   "cell_type": "code",
   "execution_count": 3,
   "metadata": {},
   "outputs": [],
   "source": [
    "inceptionV3Model = InceptionV3(weights='imagenet', include_top=False, pooling=  'avg')\n",
    "# Uncomment to describe the inception v3 summary model\n",
    "#print(inceptionV3Model.summary())"
   ]
  },
  {
   "cell_type": "markdown",
   "metadata": {},
   "source": [
    "# Setup Util variables And Functions"
   ]
  },
  {
   "cell_type": "markdown",
   "metadata": {},
   "source": [
    "## Variables"
   ]
  },
  {
   "cell_type": "code",
   "execution_count": 4,
   "metadata": {},
   "outputs": [
    {
     "name": "stdout",
     "output_type": "stream",
     "text": [
      "./dataset/basic/\n"
     ]
    }
   ],
   "source": [
    "SEED_APP = 123\n",
    "tf.random.set_seed(SEED_APP)\n",
    "\n",
    "POSITIVE_FOLDER_NAME = \"positive\"\n",
    "NEGATIVE_FOLDER_NAME = \"negative\"\n",
    "\n",
    "MOUNT = \"./\"\n",
    "DATASET_PATH = join(MOUNT, \"dataset/\")\n",
    "\n",
    "DATESET_BASIC_PATH = join(DATASET_PATH,'basic/')\n",
    "\n",
    "print(DATESET_BASIC_PATH)"
   ]
  },
  {
   "cell_type": "markdown",
   "metadata": {},
   "source": [
    "## Functions"
   ]
  },
  {
   "cell_type": "code",
   "execution_count": 5,
   "metadata": {},
   "outputs": [],
   "source": [
    "np.random.seed(SEED_APP)\n",
    "\n",
    "def getFolderFiles(dir_path: str):\n",
    "    return [f for f in listdir(dir_path) if isfile(join(dir_path, f))]  \n",
    "\n",
    "def getPositiveDatasetBasicPositiveFiles():\n",
    "    return getFolderFiles(DATESET_BASIC_PATH + POSITIVE_FOLDER_NAME)\n",
    "\n",
    "def getNegativeDatasetBasicPositiveFiles():\n",
    "    return getFolderFiles(DATESET_BASIC_PATH + NEGATIVE_FOLDER_NAME)\n",
    "\n",
    "def predict(path: str, debug:bool) -> np.array:\n",
    "    img = image.load_img(path, target_size=(299, 299))\n",
    "    # Size  (299, 299, 3)\n",
    "    imgArray = image.img_to_array(img) \n",
    "    \n",
    "    # Size  (1, 299, 299, 3)\n",
    "    expandedImgArray = np.expand_dims(imgArray, axis=0) \n",
    "    \n",
    "    # Preproces to inceptionV3, normalize each pixel RGB value to an scale of zero to one\n",
    "    processedImgArray = preprocess_input(expandedImgArray) \n",
    "    \n",
    "    return inceptionV3Model.predict(processedImgArray)\n",
    "\n",
    "def getTimestamp():\n",
    "    datetime.datetime.now().timestamp()\n",
    "    \n",
    "def getRandomExample(exampleFolderName:str):\n",
    "    exampleFileList =  None\n",
    "    \n",
    "    if exampleFolderName != POSITIVE_FOLDER_NAME:\n",
    "        exampleFileList =  getNegativeDatasetBasicPositiveFiles()\n",
    "    else:\n",
    "        exampleFileList =  getPositiveDatasetBasicPositiveFiles()\n",
    "    \n",
    "    rndIndex = np.random.randint(0,len(exampleFileList))\n",
    "    filename = exampleFileList[rndIndex]\n",
    "    return join(DATESET_BASIC_PATH,exampleFolderName,filename)"
   ]
  },
  {
   "cell_type": "markdown",
   "metadata": {},
   "source": [
    "# Observe a single example"
   ]
  },
  {
   "cell_type": "code",
   "execution_count": 6,
   "metadata": {},
   "outputs": [
    {
     "data": {
      "text/plain": [
       "array([[0.19734913, 0.45167   , 0.06192229, ..., 0.13883413, 0.17555334,\n",
       "        0.6870728 ]], dtype=float32)"
      ]
     },
     "execution_count": 6,
     "metadata": {},
     "output_type": "execute_result"
    }
   ],
   "source": [
    "RANDOM_POSITIVE_EXAMPLE_FILE = getRandomExample(POSITIVE_FOLDER_NAME)\n",
    "predict(RANDOM_POSITIVE_EXAMPLE_FILE,True)\n"
   ]
  },
  {
   "cell_type": "code",
   "execution_count": null,
   "metadata": {},
   "outputs": [],
   "source": []
  }
 ],
 "metadata": {
  "kernelspec": {
   "display_name": "Python 3",
   "language": "python",
   "name": "python3"
  },
  "language_info": {
   "codemirror_mode": {
    "name": "ipython",
    "version": 3
   },
   "file_extension": ".py",
   "mimetype": "text/x-python",
   "name": "python",
   "nbconvert_exporter": "python",
   "pygments_lexer": "ipython3",
   "version": "3.7.6"
  }
 },
 "nbformat": 4,
 "nbformat_minor": 4
}
