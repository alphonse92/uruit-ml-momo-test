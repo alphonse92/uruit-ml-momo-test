{
 "cells": [
  {
   "cell_type": "markdown",
   "metadata": {
    "colab_type": "text",
    "id": "k899AHfCA9AK"
   },
   "source": [
    "# Introduction\n",
    "\n",
    "This notebook shows how to create a neural networ to detect momo in images using Inception V3"
   ]
  },
  {
   "cell_type": "markdown",
   "metadata": {
    "colab_type": "text",
    "id": "ma3EfL5ZA9AL"
   },
   "source": [
    "# Imports"
   ]
  },
  {
   "cell_type": "code",
   "execution_count": null,
   "metadata": {
    "colab": {},
    "colab_type": "code",
    "id": "bXr9oRv3A9AM"
   },
   "outputs": [],
   "source": [
    "import numpy as np\n",
    "import tensorflow as tf\n",
    "import datetime; \n",
    "import pandas as pd\n",
    "import matplotlib.pyplot as plt\n",
    "import math\n",
    "\n",
    "from shutil import copy2, rmtree, copytree\n",
    "from tqdm import tqdm\n",
    "from sys import stdout\n",
    "from os import listdir, makedirs, remove\n",
    "from os.path import isfile, join, isdir, exists, dirname, abspath\n",
    "from inspect import getsourcefile\n",
    "from tensorflow import keras\n",
    "from numpy.random import seed\n",
    "from sklearn.decomposition import PCA\n",
    "from sklearn.preprocessing import StandardScaler\n",
    "from sklearn.metrics import classification_report, confusion_matrix\n",
    "from itertools import product\n"
   ]
  },
  {
   "cell_type": "markdown",
   "metadata": {},
   "source": [
    "# Downloading dataset from Github"
   ]
  },
  {
   "cell_type": "code",
   "execution_count": 4,
   "metadata": {},
   "outputs": [],
   "source": [
    "![ ! -d \"dataset\" ] && echo \"Cloning dataset project from github\" && git clone https://github.com/alphonse92/momo-dataset.git dataset"
   ]
  },
  {
   "cell_type": "code",
   "execution_count": null,
   "metadata": {
    "colab": {},
    "colab_type": "code",
    "id": "__Gb10ewA9AQ"
   },
   "outputs": [],
   "source": [
    "# Load Inception V3.\n",
    "\n",
    "InceptionV3        = keras.applications.inception_v3.InceptionV3\n",
    "\n",
    "preprocess_input   = keras.applications.inception_v3.preprocess_input\n",
    "image              = keras.preprocessing.image\n",
    "\n",
    "ImageDataGenerator = keras.preprocessing.image.ImageDataGenerator\n",
    "Callback           = keras.callbacks\n",
    "\n",
    "Model              = keras.models.Model\n",
    "Dense              = keras.layers.Dense\n",
    "Conv2D             = keras.layers.Conv2D\n",
    "BatchNormalization = keras.layers.BatchNormalization\n",
    "AveragePooling2D   = keras.layers.AveragePooling2D\n"
   ]
  },
  {
   "cell_type": "code",
   "execution_count": null,
   "metadata": {
    "colab": {
     "base_uri": "https://localhost:8080/",
     "height": 71
    },
    "colab_type": "code",
    "id": "Lw7n9uorA9AS",
    "outputId": "da7a1b74-270c-40a8-e53a-62c461c74140"
   },
   "outputs": [
    {
     "name": "stdout",
     "output_type": "stream",
     "text": [
      "Downloading data from https://storage.googleapis.com/tensorflow/keras-applications/inception_v3/inception_v3_weights_tf_dim_ordering_tf_kernels_notop.h5\n",
      "87916544/87910968 [==============================] - 1s 0us/step\n"
     ]
    }
   ],
   "source": [
    "inceptionV3Model = InceptionV3(weights='imagenet', include_top=False, pooling=  'avg')\n",
    "\n",
    "# Uncomment to describe the inception v3 summary model\n",
    "#print(inceptionV3Model.summary())"
   ]
  },
  {
   "cell_type": "markdown",
   "metadata": {
    "colab_type": "text",
    "id": "chxHt9JvA9AV"
   },
   "source": [
    "# Notebook Configuration \n"
   ]
  },
  {
   "cell_type": "code",
   "execution_count": 4,
   "metadata": {
    "colab": {
     "base_uri": "https://localhost:8080/",
     "height": 51
    },
    "colab_type": "code",
    "id": "nKRDESWDA9AV",
    "outputId": "fc5ca76c-3bcc-435f-8873-54344dfe97cf"
   },
   "outputs": [
    {
     "name": "stdout",
     "output_type": "stream",
     "text": [
      "Mounted at /content/drive\n",
      "/device:GPU:0\n"
     ]
    }
   ],
   "source": [
    "# Notebook Configuration\n",
    "RESET_TRAINING_EXAMPLES = True\n",
    "SAVE_WEIGHTS = True\n",
    "SEED_APP = 9\n",
    "\n",
    "# DATASET PROPORTIONS\n",
    "TRAINING_PERCENTAGE = 0.6\n",
    "TESTING_PERCENTAGE  = 0.2\n",
    "EVAL_PERCENTAGE     = 0.2\n",
    "\n",
    "# HYPERPARAMETERS\n",
    "EPOCHS = 10\n",
    "BATCH_SIZE = 25\n",
    "IMG_W = IMG_H = 299\n",
    "\n",
    "\n",
    "# MODEL CHECKPOINTS CONFIGURATION\n",
    "SAVE_CHECKPOINTS = 2\n",
    "SAVE_WEIGHTS_FREQUENCY = 'epoch'\n",
    "SAVE_WEIGTHS_PERIOD = EPOCHS // SAVE_CHECKPOINTS\n",
    "\n",
    "# COLAB SCOPE\n",
    "GOOGLE_COLLAB = False                                                            # Default value. You should not modify this\n",
    "GOOGLE_RESET_CONTENT_TREE = True                                                 # Reset the dataset content tree. It means remove and re copy the data from drive\n",
    "MOUNT = \"./\"                                                                     # Base path of this project. You may not change this value   \n",
    "G_MOUNT = \"/content/drive\"                                                       # Set where the drive folder will be mounted\n",
    "G_PROJECT_PATH = G_MOUNT+ \"/My Drive/Colab Notebooks/uruit-ml-momo-test/\"        # Set the pathe where momo project is \n",
    "\n",
    "# If colab instance, then build the content tree\n",
    "try:\n",
    "  import google.colab\n",
    "  from google.colab import drive\n",
    "  drive.mount('/content/drive', force_remount=GOOGLE_RESET_CONTENT_TREE)\n",
    "  GOOGLE_COLLAB = True\n",
    "except:\n",
    "  GOOGLE_COLLAB = False\n",
    "\n",
    "if GOOGLE_COLLAB:\n",
    "  folders = [\"dataset\",\"result\"]\n",
    "  \n",
    "  for folder in folders:\n",
    "    path = \"./\"+folder\n",
    "  \n",
    "    if not exists(path):\n",
    "      copytree(G_PROJECT_PATH   + folder, path)\n",
    "    elif GOOGLE_RESET_CONTENT_TREE:\n",
    "      if exists(path):\n",
    "        rmtree(path)\n",
    "      # Copy the files to the project\n",
    "      copytree(G_PROJECT_PATH   + folder, path)\n",
    "  print(tf.test.gpu_device_name())\n",
    "  "
   ]
  },
  {
   "cell_type": "markdown",
   "metadata": {
    "colab_type": "text",
    "id": "3Pp1IbKlA9AX"
   },
   "source": [
    "# Variables"
   ]
  },
  {
   "cell_type": "code",
   "execution_count": 5,
   "metadata": {
    "colab": {
     "base_uri": "https://localhost:8080/",
     "height": 34
    },
    "colab_type": "code",
    "id": "cLOM_Um3A9AY",
    "outputId": "8cc98e0a-14c3-4cf4-a2c1-d31350caa75c"
   },
   "outputs": [
    {
     "name": "stdout",
     "output_type": "stream",
     "text": [
      "./dataset/basic/\n"
     ]
    }
   ],
   "source": [
    "\n",
    "\n",
    "\n",
    "tf.random.set_seed(SEED_APP)\n",
    "\n",
    "MOMO_CLASSNAME    = \"momo\"\n",
    "NO_MOMO_CLASSNAME = \"no_momo\"\n",
    "\n",
    "DATASET_PATH = join(MOUNT, \"dataset/\")\n",
    "RESULT_FOLDER_PATH = join(MOUNT,\"result/\")\n",
    "RESULT_FOLDER_WEIGHTS_INCEPTION_V3_PATH = RESULT_FOLDER_PATH + \"inception_v3/\"\n",
    "DATESET_BASIC_PATH    = join(DATASET_PATH,'basic/')\n",
    "DATESET_TRAINING_PATH = join(DATASET_PATH,'train/')\n",
    "DATESET_TESTING_PATH  = join(DATASET_PATH,'test/')\n",
    "DATESET_EVAL_PATH     = join(DATASET_PATH,'eval/')\n",
    "\n",
    "\n",
    "DEFAULT_WEIGHTS_FILE_PATH = RESULT_FOLDER_WEIGHTS_INCEPTION_V3_PATH + 'weights.h5'\n",
    "\n",
    "print(DATESET_BASIC_PATH)"
   ]
  },
  {
   "cell_type": "markdown",
   "metadata": {
    "colab_type": "text",
    "id": "OPyDA1SlA9Ad"
   },
   "source": [
    "# Functions"
   ]
  },
  {
   "cell_type": "code",
   "execution_count": 6,
   "metadata": {
    "colab": {},
    "colab_type": "code",
    "id": "pU3NLf7IA9Ae"
   },
   "outputs": [],
   "source": [
    "def getFolders(path):\n",
    "    return [d for d in listdir(path) if isdir(join(path, d))]\n",
    "\n",
    "def getFolderFiles(path: str):\n",
    "    return [f for f in listdir(path) if isfile(join(path, f))]  \n",
    "\n",
    "\n",
    "def predict(path: str, model=inceptionV3Model) -> np.array:\n",
    "    img = image.load_img(path, target_size=(299, 299))\n",
    "    # Size  (299, 299, 3)\n",
    "    imgArray = image.img_to_array(img) \n",
    "    \n",
    "    # Size  (1, 299, 299, 3)\n",
    "    expandedImgArray = np.expand_dims(imgArray, axis=0) \n",
    "    \n",
    "    # Preproces to inceptionV3, normalize each pixel RGB value to an scale of zero to one\n",
    "    processedImgArray = preprocess_input(expandedImgArray) \n",
    "    \n",
    "    return model.predict(processedImgArray)\n",
    "\n",
    "def getTimestamp():\n",
    "    return datetime.datetime.now().timestamp()\n",
    "    \n",
    "def getRandomExample(xClass:str):\n",
    "    np.random.seed(SEED_APP)\n",
    "    exampleFileList = getFolderFiles(DATESET_BASIC_PATH + xClass)\n",
    "    \n",
    "    rndIndex = np.random.randint(0,len(exampleFileList))\n",
    "    filename = exampleFileList[rndIndex]\n",
    "    return join(DATESET_BASIC_PATH,xClass,filename)\n",
    "\n",
    "def getDatasetClasses():\n",
    "    return getFolders(DATESET_BASIC_PATH)\n",
    "\n",
    "def getOutputClasses():\n",
    "    return [NO_MOMO_CLASSNAME,MOMO_CLASSNAME]\n",
    "    \n",
    "def createFolderIfNotExist(folderPath):\n",
    "    if not exists(folderPath):\n",
    "        makedirs(folderPath)\n",
    "\n",
    "def deleteIfExist(filepath):\n",
    "    if exists(filepath):\n",
    "        rmtree(filepath)\n",
    "        \n",
    "def resetFolderIfExist(path : str):\n",
    "    deleteIfExist(path)\n",
    "    createFolderIfNotExist(path)\n",
    "\n",
    "def saveInFileIfNotExist(filepath: str, content: str):\n",
    "  \n",
    "    # Create (or not) the result folder\n",
    "    createFolderIfNotExist(dirname(filepath))\n",
    "    \n",
    "    with open(filepath, mode=\"a\") as f:\n",
    "        f.write(content + '\\n')\n",
    "        \n",
    "\n",
    "def plotModelTrainingProgress(progress):\n",
    "  # Acc stats\n",
    "  plt.plot(progress.history['accuracy'])\n",
    "  plt.plot(progress.history['val_accuracy'])\n",
    "  plt.title('model accuracy')\n",
    "  plt.ylabel('accuracy')\n",
    "  plt.xlabel('epoch')\n",
    "  plt.legend(['train', 'test'], loc='upper left')\n",
    "  plt.show()\n",
    "\n",
    "  # Loss stats\n",
    "  plt.plot(progress.history['loss'])\n",
    "  plt.plot(progress.history['val_loss'])\n",
    "  plt.title('model loss')\n",
    "  plt.ylabel('loss')\n",
    "  plt.xlabel('epoch')\n",
    "  plt.legend(['train', 'test'], loc='upper left')\n",
    "  plt.show()\n",
    "  \n",
    "def createConfusionMatrix(y_true, y_pred, classes,\n",
    "                          normalize=False,\n",
    "                          title=None,\n",
    "                          cmap=plt.cm.Blues):\n",
    "    \"\"\"\n",
    "    This function prints and plots the confusion matrix.\n",
    "    Normalization can be applied by setting `normalize=True`.\n",
    "    \"\"\"\n",
    "    if not title:\n",
    "        if normalize:\n",
    "            title = 'Normalized confusion matrix'\n",
    "        else:\n",
    "            title = 'Confusion matrix, without normalization'\n",
    "\n",
    "    # Compute confusion matrix\n",
    "    cm = confusion_matrix(y_true, y_pred)\n",
    "    if normalize:\n",
    "        cm = cm.astype('float') / cm.sum(axis=1)[:, np.newaxis]                \n",
    "    plt.imshow(cm, interpolation='nearest', cmap=cmap)\n",
    "    plt.title(title)\n",
    "    plt.colorbar()\n",
    "    tick_marks = np.arange(len(classes))\n",
    "    plt.xticks(tick_marks, classes, rotation=45)\n",
    "    plt.yticks(tick_marks, classes)\n",
    "    fmt = '.2f' if normalize else 'd'\n",
    "    thresh = cm.max() / 2.\n",
    "    for i, j in product(range(cm.shape[0]), range(cm.shape[1])):\n",
    "        plt.text(j, i, format(cm[i, j], fmt),\n",
    "                 horizontalalignment=\"center\",\n",
    "                 color=\"white\" if cm[i, j] > thresh else \"black\")\n",
    "    plt.ylabel('True label')\n",
    "    plt.xlabel('Predicted label')\n",
    "    plt.tight_layout()\n",
    "    \n",
    "def getDataForConfusionMatrix(useWeights:str =  DEFAULT_WEIGHTS_FILE_PATH ):\n",
    "    \n",
    "    momoModel.load_weights(useWeights)\n",
    "    \n",
    "    threshold = 0.1\n",
    "    eval_Xs = []\n",
    "    eval_Ys = []\n",
    "    eval_preds = []\n",
    "    files = []\n",
    "\n",
    "    #folderPath = DATESET_TRAINING_PATH\n",
    "    folderPath = DATESET_EVAL_PATH\n",
    "\n",
    "    folders = getFolders(folderPath)\n",
    "\n",
    "    for folder in folders:\n",
    "\n",
    "        images                = getFolderFiles(folderPath+ folder)\n",
    "        totalOfImagesInFolder = len(images)\n",
    "\n",
    "        print(\"Processing\" ,  folder , \" total of images: \",totalOfImagesInFolder)\n",
    "\n",
    "        for img in tqdm(images, file=stdout):\n",
    "            src = folderPath + folder + \"/\" + img        \n",
    "            files.append(src)\n",
    "            result = predict(src,momoModel)[0][0]\n",
    "\n",
    "            # generamos una lista con las probabilidades devueltas por el modelo para cada imagen.\n",
    "            eval_preds.append(result)\n",
    "\n",
    "            # generamos nuestra lista de y_true, es decir la etiqueta de quebería tener la foto.\n",
    "            eval_Xs.append(1 if folder == MOMO_CLASSNAME else 0)\n",
    "\n",
    "            # generamos nuestra lista de y_pred, es decir la etiqueta que nos dio la predicción.\n",
    "            eval_Ys.append(1 if result > threshold else 0)\n",
    "\n",
    "    files      = np.array(files)\n",
    "    eval_preds = np.array(eval_preds)\n",
    "    eval_Xs    = np.array(eval_Xs)\n",
    "    eval_Ys    = np.array(eval_Ys)\n",
    "    \n",
    "    momoModel.load_weights(DEFAULT_WEIGHTS_FILE_PATH)\n",
    "    return (files,eval_preds,eval_Xs,eval_Ys)\n",
    "        "
   ]
  },
  {
   "cell_type": "markdown",
   "metadata": {
    "colab_type": "text",
    "id": "vTXSqS80A9Ag"
   },
   "source": [
    "# Observe a single example"
   ]
  },
  {
   "cell_type": "code",
   "execution_count": 7,
   "metadata": {
    "colab": {
     "base_uri": "https://localhost:8080/",
     "height": 68
    },
    "colab_type": "code",
    "id": "XDBff4J_A9Ah",
    "outputId": "94968712-1d91-4865-f065-a26999e1f0a4"
   },
   "outputs": [
    {
     "name": "stdout",
     "output_type": "stream",
     "text": [
      "Momo class random file path [[0.12077439 0.12372357 0.04205623 ... 0.3943367  0.92467964 0.6583035 ]]\n"
     ]
    },
    {
     "data": {
      "text/plain": [
       "array([[0.12077439, 0.12372357, 0.04205623, ..., 0.3943367 , 0.92467964,\n",
       "        0.6583035 ]], dtype=float32)"
      ]
     },
     "execution_count": 7,
     "metadata": {
      "tags": []
     },
     "output_type": "execute_result"
    }
   ],
   "source": [
    "np.random.seed(SEED_APP)\n",
    "CLASSES = getDatasetClasses()\n",
    "RANDOM_POSITIVE_EXAMPLE_PATH = getRandomExample(\"momo\")\n",
    "RANDOM_POSITIVE_EXAMPLE_FILE = predict(RANDOM_POSITIVE_EXAMPLE_PATH)\n",
    "print(\"Momo class random file path\" , RANDOM_POSITIVE_EXAMPLE_FILE)\n",
    "\n",
    "predict(RANDOM_POSITIVE_EXAMPLE_PATH)\n"
   ]
  },
  {
   "cell_type": "markdown",
   "metadata": {
    "colab_type": "text",
    "id": "8320VMXlA9Aj"
   },
   "source": [
    "# Preparing InceptionV3 Model to fit it to our problem: identify momo in. images"
   ]
  },
  {
   "cell_type": "markdown",
   "metadata": {
    "colab_type": "raw",
    "id": "bHQU4JM1A9Ak"
   },
   "source": []
  },
  {
   "cell_type": "code",
   "execution_count": null,
   "metadata": {
    "colab": {},
    "colab_type": "code",
    "id": "VtMS9lQEA9Ak"
   },
   "outputs": [],
   "source": [
    "# Take the output of the model\n",
    "x = inceptionV3Model.output\n",
    "\n",
    "# Add a full-conected layer of 1024 neurons with relu activation to our model output\n",
    "x = Dense(2048, activation='relu')(x)\n",
    "#x = Dense(512, activation='relu')(x)\n",
    "\n",
    "# Add a output layer with only one neurone\n",
    "momoOutput = Dense(1, activation='sigmoid')(x)\n",
    "\n",
    "# Create the momo Model from our outputs\n",
    "momoModel = Model(inputs=inceptionV3Model.input, outputs=momoOutput)\n",
    "\n",
    "# Compile our model using adam and an optimizer for binari clasification\n",
    "momoModel.compile(optimizer='adam', loss='binary_crossentropy',metrics=['accuracy'])"
   ]
  },
  {
   "cell_type": "code",
   "execution_count": null,
   "metadata": {
    "colab": {},
    "colab_type": "code",
    "id": "unM9tz7kA9An"
   },
   "outputs": [],
   "source": [
    "#print(momoModel.summary())"
   ]
  },
  {
   "cell_type": "markdown",
   "metadata": {
    "colab_type": "text",
    "id": "GFMSiiU1A9Ap"
   },
   "source": [
    "# Pre training"
   ]
  },
  {
   "cell_type": "markdown",
   "metadata": {
    "colab_type": "text",
    "id": "3ZaWxM93A9Ap"
   },
   "source": [
    "## Prepare our test/training folders"
   ]
  },
  {
   "cell_type": "code",
   "execution_count": null,
   "metadata": {
    "colab": {},
    "colab_type": "code",
    "id": "73006ufKA9Aq"
   },
   "outputs": [],
   "source": [
    "# Read each class of the dataset\n",
    "for ds_class in getOutputClasses():\n",
    "    # Create the folders in the train/test folders\n",
    "    resetFolderIfExist( DATESET_TRAINING_PATH  +  ds_class  )\n",
    "    resetFolderIfExist( DATESET_TESTING_PATH   +  ds_class  )\n",
    "    resetFolderIfExist( DATESET_EVAL_PATH      +  ds_class  )\n"
   ]
  },
  {
   "cell_type": "markdown",
   "metadata": {
    "colab_type": "text",
    "id": "ud7r12EdA9As"
   },
   "source": [
    "## Fill the train/test/eval folders"
   ]
  },
  {
   "cell_type": "code",
   "execution_count": null,
   "metadata": {
    "colab": {
     "base_uri": "https://localhost:8080/",
     "height": 374
    },
    "colab_type": "code",
    "id": "UYF0M09zA9At",
    "outputId": "f0ccea56-e9dd-47c7-986c-4c99d9781b84"
   },
   "outputs": [
    {
     "name": "stdout",
     "output_type": "stream",
     "text": [
      "From folder 'meme' take 36 Training examples, 12 Testing examples, and 12 Eval examples.\n",
      "Copying traning files from ./dataset/basic/meme to ./dataset/train/no_momo\n",
      "100%|██████████| 36/36 [00:00<00:00, 3362.69it/s]\n",
      "Copying testing files from ./dataset/basic/meme to ./dataset/test/no_momo\n",
      "100%|██████████| 12/12 [00:00<00:00, 2617.62it/s]\n",
      "Copying eval files from ./dataset/basic/meme to ./dataset/eval/no_momo\n",
      "100%|██████████| 12/12 [00:00<00:00, 3222.88it/s]\n",
      "From folder 'person' take 53 Training examples, 18 Testing examples, and 17 Eval examples.\n",
      "Copying traning files from ./dataset/basic/person to ./dataset/train/no_momo\n",
      "100%|██████████| 53/53 [00:00<00:00, 1773.01it/s]\n",
      "Copying testing files from ./dataset/basic/person to ./dataset/test/no_momo\n",
      "100%|██████████| 18/18 [00:00<00:00, 2266.99it/s]\n",
      "Copying eval files from ./dataset/basic/person to ./dataset/eval/no_momo\n",
      "100%|██████████| 17/17 [00:00<00:00, 1412.76it/s]\n",
      "From folder 'momo' take 68 Training examples, 23 Testing examples, and 22 Eval examples.\n",
      "Copying traning files from ./dataset/basic/momo to ./dataset/train/momo\n",
      "100%|██████████| 68/68 [00:00<00:00, 5134.34it/s]\n",
      "Copying testing files from ./dataset/basic/momo to ./dataset/test/momo\n",
      "100%|██████████| 23/23 [00:00<00:00, 3719.79it/s]\n",
      "Copying eval files from ./dataset/basic/momo to ./dataset/eval/momo\n",
      "100%|██████████| 22/22 [00:00<00:00, 3617.62it/s]\n"
     ]
    }
   ],
   "source": [
    "def CreateTrainTestAndEvalFolders():\n",
    "    np.random.seed(SEED_APP)\n",
    "    DATASET_CLASSES = getDatasetClasses()\n",
    "\n",
    "    ds_folders = getFolders(DATESET_BASIC_PATH)\n",
    "\n",
    "    for ds_folder in ds_folders:\n",
    "\n",
    "        path      = DATESET_BASIC_PATH + ds_folder\n",
    "        files     = np.array(getFolderFiles(path))\n",
    "\n",
    "        m         = len(files)\n",
    "\n",
    "        trainIdx  = math.ceil( m * TRAINING_PERCENTAGE )\n",
    "        testIdx   = math.ceil( m * TESTING_PERCENTAGE  ) \n",
    "        evalIdx   = math.ceil( m * EVAL_PERCENTAGE     )     \n",
    "\n",
    "        np.random.shuffle(files)\n",
    "\n",
    "        isPositiveClass      = ds_folder == MOMO_CLASSNAME\n",
    "        folderTo             = MOMO_CLASSNAME if isPositiveClass else NO_MOMO_CLASSNAME\n",
    "\n",
    "        trainingClassPath    = DATESET_TRAINING_PATH + folderTo\n",
    "        testClassPath        = DATESET_TESTING_PATH  + folderTo\n",
    "        evalClassPath        = DATESET_EVAL_PATH     + folderTo\n",
    "\n",
    "        currentIndex     = 0\n",
    "        trainingImages   = files[ currentIndex : currentIndex + trainIdx ]\n",
    "\n",
    "        currentIndex     = currentIndex + trainIdx \n",
    "        testImages       = files[ currentIndex : currentIndex + testIdx  ]\n",
    "\n",
    "        currentIndex     = currentIndex + testIdx\n",
    "        evalImages       = files[ currentIndex :          ]\n",
    "\n",
    "        print(\n",
    "            \"From folder '\" + ds_folder  + \"'\"\n",
    "            + \" take \" \n",
    "            + str(len(trainingImages)) + \" Training examples, \"\n",
    "            + str(len(testImages))     + \" Testing examples, and \"\n",
    "            + str(len(evalImages))     + \" Eval examples.\"        \n",
    "        )\n",
    "\n",
    "        print(\"Copying traning files from \" + path + \" to \" + trainingClassPath)\n",
    "        for imageName in tqdm(trainingImages, file=stdout):\n",
    "            copy2(path+ \"/\"+  imageName ,trainingClassPath + \"/\"+  imageName)\n",
    "\n",
    "        print(\"Copying testing files from \" + path + \" to \" + testClassPath)\n",
    "        for imageName in tqdm(testImages, file=stdout):\n",
    "            copy2(path+ \"/\"+  imageName ,testClassPath + \"/\"+  imageName)\n",
    "\n",
    "        print(\"Copying eval files from \"    + path + \" to \" + evalClassPath)\n",
    "        for imageName in tqdm(evalImages, file=stdout):\n",
    "            copy2(path+ \"/\"+  imageName ,evalClassPath + \"/\"+  imageName)\n",
    "            \n",
    "CreateTrainTestAndEvalFolders()\n"
   ]
  },
  {
   "cell_type": "markdown",
   "metadata": {
    "colab_type": "text",
    "id": "KmByjHODA9Av"
   },
   "source": [
    "\n",
    "## Data augmentation"
   ]
  },
  {
   "cell_type": "code",
   "execution_count": null,
   "metadata": {
    "colab": {
     "base_uri": "https://localhost:8080/",
     "height": 51
    },
    "colab_type": "code",
    "id": "jXMsHscUA9Av",
    "outputId": "e87cda32-050c-4368-c6af-68cb4989eca9"
   },
   "outputs": [
    {
     "name": "stdout",
     "output_type": "stream",
     "text": [
      "Found 157 images belonging to 2 classes.\n",
      "Found 53 images belonging to 2 classes.\n"
     ]
    }
   ],
   "source": [
    "# Create a generator to pre process our dataset images\n",
    "imageGenerator = ImageDataGenerator(\n",
    "    rescale            = 1./255,       # Scale our data to our dataset scale\n",
    "    horizontal_flip    = True,         # Horizontal mirror\n",
    "    vertical_flip      = False,         # Disable vertical mirror\n",
    "    rotation_range     = 7,\n",
    "    width_shift_range  = 0.3,\n",
    "    height_shift_range = 0.3,\n",
    "    brightness_range   = (0.3, 0.7),\n",
    "    shear_range        = 45.0,\n",
    "    zoom_range         = [0.5, 1.5],\n",
    "    fill_mode          = \"reflect\"\n",
    ")\n",
    "\n",
    "trainGenerator = imageGenerator.flow_from_directory(\n",
    "        directory   = DATESET_TRAINING_PATH,\n",
    "        target_size =  (IMG_H, IMG_W),\n",
    "        batch_size  =  BATCH_SIZE,\n",
    "        class_mode  =  'binary',\n",
    "        classes     =  getOutputClasses())\n",
    "\n",
    "testGenerator= imageGenerator.flow_from_directory(\n",
    "        directory    = DATESET_TESTING_PATH,\n",
    "        target_size  = (IMG_H, IMG_W),\n",
    "        batch_size   = BATCH_SIZE,\n",
    "        class_mode   = 'binary',\n",
    "        classes      = getOutputClasses())"
   ]
  },
  {
   "cell_type": "code",
   "execution_count": null,
   "metadata": {
    "colab": {
     "base_uri": "https://localhost:8080/",
     "height": 34
    },
    "colab_type": "code",
    "id": "5fa2xYh4A9Ax",
    "outputId": "c0783b4a-8c7a-4049-ee3a-d7106da9d1bf"
   },
   "outputs": [
    {
     "data": {
      "text/plain": [
       "{'momo': 1, 'no_momo': 0}"
      ]
     },
     "execution_count": 13,
     "metadata": {
      "tags": []
     },
     "output_type": "execute_result"
    }
   ],
   "source": [
    "trainGenerator.class_indices"
   ]
  },
  {
   "cell_type": "markdown",
   "metadata": {
    "colab_type": "text",
    "id": "-PvUAm4lA9Az"
   },
   "source": [
    "# Training"
   ]
  },
  {
   "cell_type": "markdown",
   "metadata": {
    "colab_type": "text",
    "id": "3_g4RiH_A9A0"
   },
   "source": [
    "Lets save some util data from our foulders"
   ]
  },
  {
   "cell_type": "code",
   "execution_count": null,
   "metadata": {
    "colab": {
     "base_uri": "https://localhost:8080/",
     "height": 119
    },
    "colab_type": "code",
    "id": "c8X7Jyp3A9A0",
    "outputId": "19ea44fb-0ac9-43d5-febd-83b8cc0b06eb"
   },
   "outputs": [
    {
     "name": "stdout",
     "output_type": "stream",
     "text": [
      "Total train examples:  157 positive:  68  negative:  89\n",
      "Total test examples:  53 positive:  23  negative:  30\n",
      "\n",
      "Train Steps per epoch  6\n",
      "Test Steps per epoch  2\n",
      "WARNING:tensorflow:`period` argument is deprecated. Please use `save_freq` to specify the frequency in number of batches seen.\n"
     ]
    }
   ],
   "source": [
    "trainPositiveFiles          = getFolderFiles(DATESET_TRAINING_PATH + MOMO_CLASSNAME)\n",
    "trainNegativeFiles          = getFolderFiles(DATESET_TRAINING_PATH + NO_MOMO_CLASSNAME)\n",
    "trainPositiveExamplesLength = len(trainPositiveFiles)\n",
    "trainNegativeExamplesLength = len(trainNegativeFiles)\n",
    "trainLength                 = trainPositiveExamplesLength + trainNegativeExamplesLength\n",
    "\n",
    "print(\"Total train examples: \", trainLength , \"positive: \" , trainPositiveExamplesLength  , \" negative: \" , trainNegativeExamplesLength)\n",
    "\n",
    "testPositiveFiles           = getFolderFiles(DATESET_TESTING_PATH + MOMO_CLASSNAME)\n",
    "testNegativeFiles           = getFolderFiles(DATESET_TESTING_PATH + NO_MOMO_CLASSNAME)\n",
    "testPositiveExamplesLength  = len(testPositiveFiles)\n",
    "testNegativeExamplesLength  = len(testNegativeFiles)\n",
    "testLength                  = testPositiveExamplesLength + testNegativeExamplesLength\n",
    "\n",
    "print(\"Total test examples: \", testLength , \"positive: \" , testPositiveExamplesLength  , \" negative: \" , testNegativeExamplesLength)\n",
    "print()\n",
    "\n",
    "trainSteps = trainLength // BATCH_SIZE\n",
    "testSteps  = testLength // BATCH_SIZE\n",
    "\n",
    "print(\"Train Steps per epoch \" , trainSteps)\n",
    "print(\"Test Steps per epoch \" , testSteps)\n",
    "\n",
    "callbacks   = []\n",
    "\n",
    "resetFolderIfExist(RESULT_FOLDER_WEIGHTS_INCEPTION_V3_PATH)\n",
    "\n",
    "if SAVE_WEIGHTS:\n",
    "    weightsFileName  =  RESULT_FOLDER_WEIGHTS_INCEPTION_V3_PATH + 'weights-{epoch}.h5'\n",
    "    mc = keras.callbacks.ModelCheckpoint(\n",
    "        weightsFileName,\n",
    "        save_weights_only=True,\n",
    "\n",
    "        # Disable\n",
    "        #save_best_only=True\n",
    "        \n",
    "        # Frequency of saving\n",
    "        save_freq=SAVE_WEIGHTS_FREQUENCY,\n",
    "\n",
    "        #Save the weights each epoch, dont take checkpoints if SAVE_WEIGTHS_PERIOD <= 0\n",
    "        period= SAVE_WEIGTHS_PERIOD if SAVE_WEIGTHS_PERIOD > 0 else (EPOCHS+1)\n",
    "    )\n",
    "    callbacks.append( mc )"
   ]
  },
  {
   "cell_type": "code",
   "execution_count": null,
   "metadata": {
    "colab": {
     "base_uri": "https://localhost:8080/",
     "height": 428
    },
    "colab_type": "code",
    "id": "1fW7oLLTA9A2",
    "outputId": "374b4fe9-17d6-4a93-8189-5beabb77598f"
   },
   "outputs": [
    {
     "name": "stdout",
     "output_type": "stream",
     "text": [
      "WARNING:tensorflow:From <ipython-input-15-48a5d6cd2f05>:7: Model.fit_generator (from tensorflow.python.keras.engine.training) is deprecated and will be removed in a future version.\n",
      "Instructions for updating:\n",
      "Please use Model.fit, which supports generators.\n",
      "Epoch 1/10\n",
      "6/6 [==============================] - 7s 1s/step - loss: 1.2350 - accuracy: 0.7200 - val_loss: 12.0038 - val_accuracy: 0.6000\n",
      "Epoch 2/10\n",
      "6/6 [==============================] - 7s 1s/step - loss: 0.3681 - accuracy: 0.8712 - val_loss: 24.1050 - val_accuracy: 0.3000\n",
      "Epoch 3/10\n",
      "6/6 [==============================] - 6s 1s/step - loss: 0.3636 - accuracy: 0.8258 - val_loss: 41.8900 - val_accuracy: 0.4200\n",
      "Epoch 4/10\n",
      "6/6 [==============================] - 7s 1s/step - loss: 0.4653 - accuracy: 0.7955 - val_loss: 5.3537 - val_accuracy: 0.5200\n",
      "Epoch 5/10\n",
      "6/6 [==============================] - 7s 1s/step - loss: 0.3689 - accuracy: 0.8030 - val_loss: 21.3015 - val_accuracy: 0.6000\n",
      "Epoch 6/10\n",
      "6/6 [==============================] - 6s 1s/step - loss: 0.3844 - accuracy: 0.8788 - val_loss: 62.8131 - val_accuracy: 0.4600\n",
      "Epoch 7/10\n",
      "6/6 [==============================] - 6s 1s/step - loss: 0.3102 - accuracy: 0.8864 - val_loss: 9.3317 - val_accuracy: 0.4200\n",
      "Epoch 8/10\n",
      "6/6 [==============================] - 7s 1s/step - loss: 0.3391 - accuracy: 0.8712 - val_loss: 25.2788 - val_accuracy: 0.5000\n",
      "Epoch 9/10\n",
      "6/6 [==============================] - 6s 1s/step - loss: 0.3656 - accuracy: 0.8939 - val_loss: 232.5617 - val_accuracy: 0.5600\n",
      "Epoch 10/10\n",
      "6/6 [==============================] - 7s 1s/step - loss: 0.1961 - accuracy: 0.9470 - val_loss: 199.2038 - val_accuracy: 0.5400\n"
     ]
    }
   ],
   "source": [
    "progress = momoModel.fit_generator(\n",
    "        trainGenerator,\n",
    "        steps_per_epoch=trainSteps,\n",
    "        epochs=EPOCHS,\n",
    "        validation_data=testGenerator,\n",
    "        validation_steps=testSteps,\n",
    "        callbacks=callbacks\n",
    ")"
   ]
  },
  {
   "cell_type": "code",
   "execution_count": null,
   "metadata": {
    "colab": {
     "base_uri": "https://localhost:8080/",
     "height": 590
    },
    "colab_type": "code",
    "id": "Sq9RjGn4A9A8",
    "outputId": "1c02ba24-9679-4fc7-c99a-1b204ca16118"
   },
   "outputs": [
    {
     "name": "stdout",
     "output_type": "stream",
     "text": [
      "dict_keys(['loss', 'accuracy', 'val_loss', 'val_accuracy'])\n"
     ]
    },
    {
     "data": {
      "image/png": "[encoded data removed]",
      "text/plain": [
       "<Figure size 432x288 with 1 Axes>"
      ]
     },
     "metadata": {
      "needs_background": "light",
      "tags": []
     },
     "output_type": "display_data"
    },
    {
     "data": {
      "image/png": "[encoded data removed]",
      "text/plain": [
       "<Figure size 432x288 with 1 Axes>"
      ]
     },
     "metadata": {
      "needs_background": "light",
      "tags": []
     },
     "output_type": "display_data"
    }
   ],
   "source": [
    "# listamos la información del entrenamiento\n",
    "print(progress.history.keys())\n",
    "momoModel.save_weights( DEFAULT_WEIGHTS_FILE_PATH)\n",
    "plotModelTrainingProgress(progress)"
   ]
  },
  {
   "cell_type": "code",
   "execution_count": null,
   "metadata": {
    "colab": {
     "base_uri": "https://localhost:8080/",
     "height": 365
    },
    "colab_type": "code",
    "id": "0OnY0qoXA9A_",
    "outputId": "755ae946-b2a4-42fe-b1fb-a335003da171"
   },
   "outputs": [
    {
     "name": "stdout",
     "output_type": "stream",
     "text": [
      "Processing no_momo  total of images:  29\n",
      "100%|██████████| 29/29 [00:03<00:00,  9.59it/s]\n",
      "Processing momo  total of images:  22\n",
      "100%|██████████| 22/22 [00:01<00:00, 15.65it/s]\n"
     ]
    },
    {
     "data": {
      "image/png": "[encoded data removed]",
      "text/plain": [
       "<Figure size 432x288 with 2 Axes>"
      ]
     },
     "metadata": {
      "needs_background": "light",
      "tags": []
     },
     "output_type": "display_data"
    }
   ],
   "source": [
    "files,eval_preds,eval_Xs,eval_Ys = getDataForConfusionMatrix()\n",
    "\n",
    "createConfusionMatrix(\n",
    "  eval_Xs,\n",
    "  eval_Ys,\n",
    "  title=\"Epochs: \" + str(EPOCHS) + \" Bacth size: \" + str(BATCH_SIZE),\n",
    "  classes=getOutputClasses(),\n",
    "  normalize=True\n",
    ")"
   ]
  }
 ],
 "metadata": {
  "accelerator": "GPU",
  "colab": {
   "collapsed_sections": [],
   "name": "training-inceptionV3.ipynb",
   "provenance": [],
   "toc_visible": true
  },
  "kernelspec": {
   "display_name": "Python 3",
   "language": "python",
   "name": "python3"
  },
  "language_info": {
   "codemirror_mode": {
    "name": "ipython",
    "version": 3
   },
   "file_extension": ".py",
   "mimetype": "text/x-python",
   "name": "python",
   "nbconvert_exporter": "python",
   "pygments_lexer": "ipython3",
   "version": "3.7.6"
  }
 },
 "nbformat": 4,
 "nbformat_minor": 4
}
