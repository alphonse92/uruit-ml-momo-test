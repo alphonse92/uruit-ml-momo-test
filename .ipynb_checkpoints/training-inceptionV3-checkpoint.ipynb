{
 "cells": [
  {
   "cell_type": "markdown",
   "metadata": {},
   "source": [
    "# Introduction\n",
    "\n",
    "This notebook shows how to create a neural networ to detect momo in images using Inception V3"
   ]
  },
  {
   "cell_type": "markdown",
   "metadata": {},
   "source": [
    "# Imports"
   ]
  },
  {
   "cell_type": "code",
   "execution_count": 1,
   "metadata": {},
   "outputs": [],
   "source": [
    "import numpy as np\n",
    "import tensorflow as tf\n",
    "import datetime; \n",
    "import pandas as pd\n",
    "import matplotlib.pyplot as plt\n",
    "import math\n",
    "\n",
    "from shutil import copy2, rmtree\n",
    "from tqdm import tqdm\n",
    "from sys import stdout\n",
    "from os import listdir, makedirs, remove\n",
    "from os.path import isfile, join, isdir, exists, dirname\n",
    "from tensorflow import keras\n",
    "from numpy.random import seed\n",
    "from sklearn.decomposition import PCA\n",
    "from sklearn.preprocessing import StandardScaler\n",
    "from sklearn.metrics import classification_report, confusion_matrix\n",
    "from itertools import product\n",
    "\n",
    "\n",
    "# Project modules below\n",
    "from lib import util"
   ]
  },
  {
   "cell_type": "code",
   "execution_count": 2,
   "metadata": {},
   "outputs": [],
   "source": [
    "# Load Inception V3.\n",
    "\n",
    "InceptionV3        = keras.applications.inception_v3.InceptionV3\n",
    "preprocess_input   = keras.applications.inception_v3.preprocess_input\n",
    "image              = keras.preprocessing.image\n",
    "Model              = keras.models.Model\n",
    "Dense              = keras.layers.Dense\n",
    "ImageDataGenerator = keras.preprocessing.image.ImageDataGenerator\n",
    "Callback           = keras.callbacks\n"
   ]
  },
  {
   "cell_type": "code",
   "execution_count": 3,
   "metadata": {},
   "outputs": [],
   "source": [
    "inceptionV3Model = InceptionV3(weights='imagenet', include_top=False, pooling=  'avg')\n",
    "\n",
    "# Uncomment to describe the inception v3 summary model\n",
    "#print(inceptionV3Model.summary())"
   ]
  },
  {
   "cell_type": "markdown",
   "metadata": {},
   "source": [
    "# Configuration \n"
   ]
  },
  {
   "cell_type": "code",
   "execution_count": 4,
   "metadata": {},
   "outputs": [],
   "source": [
    "\n",
    "# Change this value if you want to change the randomic data\n",
    "SEED_APP = 9\n",
    "SAVE_WEIGHTS = True\n",
    "EPOCHS = 60\n",
    "BATCH_SIZE = 10\n",
    "IMG_W = IMG_H = 299\n",
    "RESET_TRAINING_EXAMPLES = True\n"
   ]
  },
  {
   "cell_type": "markdown",
   "metadata": {},
   "source": [
    "# Variables"
   ]
  },
  {
   "cell_type": "code",
   "execution_count": 5,
   "metadata": {},
   "outputs": [
    {
     "name": "stdout",
     "output_type": "stream",
     "text": [
      "./dataset/basic/\n"
     ]
    }
   ],
   "source": [
    "\n",
    "\n",
    "tf.random.set_seed(SEED_APP)\n",
    "\n",
    "MOMO_CLASSNAME    = \"momo\"\n",
    "NO_MOMO_CLASSNAME = \"no_momo\"\n",
    "\n",
    "MOUNT = \"./\"\n",
    "DATASET_PATH = join(MOUNT, \"dataset/\")\n",
    "RESULT_FOLDER_PATH = join(MOUNT,\"result/\")\n",
    "RESULT_FOLDER_WEIGHTS_INCEPTION_V3_PATH = RESULT_FOLDER_PATH + \"inception_v3/\"\n",
    "DATESET_BASIC_PATH    = join(DATASET_PATH,'basic/')\n",
    "DATESET_TRAINING_PATH = join(DATASET_PATH,'train/')\n",
    "DATESET_TESTING_PATH  = join(DATASET_PATH,'test/')\n",
    "DATESET_EVAL_PATH     = join(DATASET_PATH,'eval/')\n",
    "\n",
    "\n",
    "DEFAULT_WEIGHTS_FILE_PATH = RESULT_FOLDER_WEIGHTS_INCEPTION_V3_PATH + 'weights.h5'\n",
    "\n",
    "print(DATESET_BASIC_PATH)"
   ]
  },
  {
   "cell_type": "markdown",
   "metadata": {},
   "source": [
    "# Functions"
   ]
  },
  {
   "cell_type": "code",
   "execution_count": 6,
   "metadata": {},
   "outputs": [],
   "source": [
    "def getFolders(path):\n",
    "    return [d for d in listdir(path) if isdir(join(path, d))]\n",
    "\n",
    "def getFolderFiles(path: str):\n",
    "    return [f for f in listdir(path) if isfile(join(path, f))]  \n",
    "\n",
    "\n",
    "def predict(path: str, model=inceptionV3Model) -> np.array:\n",
    "    img = image.load_img(path, target_size=(299, 299))\n",
    "    # Size  (299, 299, 3)\n",
    "    imgArray = image.img_to_array(img) \n",
    "    \n",
    "    # Size  (1, 299, 299, 3)\n",
    "    expandedImgArray = np.expand_dims(imgArray, axis=0) \n",
    "    \n",
    "    # Preproces to inceptionV3, normalize each pixel RGB value to an scale of zero to one\n",
    "    processedImgArray = preprocess_input(expandedImgArray) \n",
    "    \n",
    "    return model.predict(processedImgArray)\n",
    "\n",
    "def getTimestamp():\n",
    "    return datetime.datetime.now().timestamp()\n",
    "    \n",
    "def getRandomExample(xClass:str):\n",
    "    np.random.seed(SEED_APP)\n",
    "    exampleFileList = getFolderFiles(DATESET_BASIC_PATH + xClass)\n",
    "    \n",
    "    rndIndex = np.random.randint(0,len(exampleFileList))\n",
    "    filename = exampleFileList[rndIndex]\n",
    "    return join(DATESET_BASIC_PATH,xClass,filename)\n",
    "\n",
    "def getDatasetClasses():\n",
    "    return getFolders(DATESET_BASIC_PATH)\n",
    "\n",
    "def getOutputClasses():\n",
    "    return [NO_MOMO_CLASSNAME,MOMO_CLASSNAME]\n",
    "    \n",
    "def createFolderIfNotExist(folderPath):\n",
    "    if not exists(folderPath):\n",
    "        makedirs(folderPath)\n",
    "\n",
    "def deleteIfExist(filepath):\n",
    "    if exists(filepath):\n",
    "        rmtree(filepath)\n",
    "        \n",
    "def resetFolderIfExist(path : str):\n",
    "    deleteIfExist(path)\n",
    "    createFolderIfNotExist(path)\n",
    "\n",
    "def saveInFileIfNotExist(filepath: str, content: str):\n",
    "  \n",
    "    # Create (or not) the result folder\n",
    "    createFolderIfNotExist(dirname(filepath))\n",
    "    \n",
    "    with open(filepath, mode=\"a\") as f:\n",
    "        f.write(content + '\\n')\n",
    "        \n",
    "\n",
    "def createConfusionMatrix(y_true, y_pred, classes,\n",
    "                          normalize=False,\n",
    "                          title=None,\n",
    "                          cmap=plt.cm.Blues):\n",
    "    \"\"\"\n",
    "    This function prints and plots the confusion matrix.\n",
    "    Normalization can be applied by setting `normalize=True`.\n",
    "    \"\"\"\n",
    "    if not title:\n",
    "        if normalize:\n",
    "            title = 'Normalized confusion matrix'\n",
    "        else:\n",
    "            title = 'Confusion matrix, without normalization'\n",
    "\n",
    "    # Compute confusion matrix\n",
    "    cm = confusion_matrix(y_true, y_pred)\n",
    "    if normalize:\n",
    "        cm = cm.astype('float') / cm.sum(axis=1)[:, np.newaxis]                \n",
    "    plt.imshow(cm, interpolation='nearest', cmap=cmap)\n",
    "    plt.title(title)\n",
    "    plt.colorbar()\n",
    "    tick_marks = np.arange(len(classes))\n",
    "    plt.xticks(tick_marks, classes, rotation=45)\n",
    "    plt.yticks(tick_marks, classes)\n",
    "    fmt = '.2f' if normalize else 'd'\n",
    "    thresh = cm.max() / 2.\n",
    "    for i, j in product(range(cm.shape[0]), range(cm.shape[1])):\n",
    "        plt.text(j, i, format(cm[i, j], fmt),\n",
    "                 horizontalalignment=\"center\",\n",
    "                 color=\"white\" if cm[i, j] > thresh else \"black\")\n",
    "    plt.ylabel('True label')\n",
    "    plt.xlabel('Predicted label')\n",
    "    plt.tight_layout()\n",
    "    \n",
    "def getDataForConfusionMatrix(useWeights:str =  DEFAULT_WEIGHTS_FILE_PATH ):\n",
    "    \n",
    "    momoModel.load_weights(useWeights)\n",
    "    \n",
    "    threshold = 0.1\n",
    "    eval_Xs = []\n",
    "    eval_Ys = []\n",
    "    eval_preds = []\n",
    "    files = []\n",
    "\n",
    "    #folderPath = DATESET_TRAINING_PATH\n",
    "    folderPath = DATESET_EVAL_PATH\n",
    "\n",
    "    folders = getFolders(folderPath)\n",
    "\n",
    "    for folder in folders:\n",
    "\n",
    "        images                = getFolderFiles(folderPath+ folder)\n",
    "        totalOfImagesInFolder = len(images)\n",
    "\n",
    "        print(\"Processing\" ,  folder , \" total of images: \",totalOfImagesInFolder)\n",
    "\n",
    "        for img in tqdm(images, file=stdout):\n",
    "            src = folderPath + folder + \"/\" + img        \n",
    "            files.append(src)\n",
    "            result = predict(src,momoModel)[0][0]\n",
    "\n",
    "            # generamos una lista con las probabilidades devueltas por el modelo para cada imagen.\n",
    "            eval_preds.append(result)\n",
    "\n",
    "            # generamos nuestra lista de y_true, es decir la etiqueta de quebería tener la foto.\n",
    "            eval_Xs.append(1 if folder == MOMO_CLASSNAME else 0)\n",
    "\n",
    "            # generamos nuestra lista de y_pred, es decir la etiqueta que nos dio la predicción.\n",
    "            eval_Ys.append(1 if result > threshold else 0)\n",
    "\n",
    "    files      = np.array(files)\n",
    "    eval_preds = np.array(eval_preds)\n",
    "    eval_Xs    = np.array(eval_Xs)\n",
    "    eval_Ys    = np.array(eval_Ys)\n",
    "    \n",
    "    momoModel.load_weights(DEFAULT_WEIGHTS_FILE_PATH)\n",
    "    return (files,eval_preds,eval_Xs,eval_Ys)\n",
    "        "
   ]
  },
  {
   "cell_type": "markdown",
   "metadata": {},
   "source": [
    "# Observe a single example"
   ]
  },
  {
   "cell_type": "code",
   "execution_count": 7,
   "metadata": {},
   "outputs": [
    {
     "name": "stdout",
     "output_type": "stream",
     "text": [
      "Momo class random file path [[0.31326243 0.19618562 0.03071248 ... 0.29802546 0.24973837 0.29111505]]\n"
     ]
    },
    {
     "data": {
      "text/plain": [
       "array([[0.31326243, 0.19618562, 0.03071248, ..., 0.29802546, 0.24973837,\n",
       "        0.29111505]], dtype=float32)"
      ]
     },
     "execution_count": 7,
     "metadata": {},
     "output_type": "execute_result"
    }
   ],
   "source": [
    "np.random.seed(SEED_APP)\n",
    "\n",
    "CLASSES = getDatasetClasses()\n",
    "RANDOM_POSITIVE_EXAMPLE_PATH = getRandomExample(\"momo\")\n",
    "RANDOM_POSITIVE_EXAMPLE_FILE = predict(RANDOM_POSITIVE_EXAMPLE_PATH)\n",
    "print(\"Momo class random file path\" , RANDOM_POSITIVE_EXAMPLE_FILE)\n",
    "\n",
    "predict(RANDOM_POSITIVE_EXAMPLE_PATH)\n"
   ]
  },
  {
   "cell_type": "markdown",
   "metadata": {},
   "source": [
    "# Preparing InceptionV3 Model to fit it to our problem: identify momo in. images"
   ]
  },
  {
   "cell_type": "raw",
   "metadata": {},
   "source": []
  },
  {
   "cell_type": "code",
   "execution_count": 8,
   "metadata": {},
   "outputs": [],
   "source": [
    "# Take the output of the model\n",
    "x = inceptionV3Model.output\n",
    "\n",
    "# Add a full-conected layer of 1024 neurons with relu activation to our model output\n",
    "x = Dense(1024, activation='relu')(x)\n",
    "#x = Dense(512, activation='relu')(x)\n",
    "\n",
    "# Add a output layer with only one neurone\n",
    "momoOutput = Dense(1, activation='sigmoid')(x)\n",
    "\n",
    "# Create the momo Model from our outputs\n",
    "momoModel = Model(inputs=inceptionV3Model.input, outputs=momoOutput)\n",
    "\n",
    "# Compile our model using adam and an optimizer for binari clasification\n",
    "momoModel.compile(optimizer='adam', loss='binary_crossentropy',metrics=['accuracy'])"
   ]
  },
  {
   "cell_type": "code",
   "execution_count": 9,
   "metadata": {},
   "outputs": [],
   "source": [
    "#print(momoModel.summary())"
   ]
  },
  {
   "cell_type": "markdown",
   "metadata": {},
   "source": [
    "# Pre training"
   ]
  },
  {
   "cell_type": "markdown",
   "metadata": {},
   "source": [
    "## Prepare our test/training folders"
   ]
  },
  {
   "cell_type": "code",
   "execution_count": 10,
   "metadata": {},
   "outputs": [],
   "source": [
    "# Read each class of the dataset\n",
    "for ds_class in getOutputClasses():\n",
    "    # Create the folders in the train/test folders\n",
    "    resetFolderIfExist( DATESET_TRAINING_PATH  +  ds_class  )\n",
    "    resetFolderIfExist( DATESET_TESTING_PATH   +  ds_class  )\n",
    "    resetFolderIfExist( DATESET_EVAL_PATH      +  ds_class  )\n"
   ]
  },
  {
   "cell_type": "markdown",
   "metadata": {},
   "source": [
    "## Fill the train/test/eval folders"
   ]
  },
  {
   "cell_type": "code",
   "execution_count": 11,
   "metadata": {},
   "outputs": [
    {
     "name": "stdout",
     "output_type": "stream",
     "text": [
      "From folder 'meme' take 42 Training examples, 9 Testing examples, and 9 Eval examples.\n",
      "Copying traning files from ./dataset/basic/meme to ./dataset/train/no_momo\n",
      "100%|██████████| 42/42 [00:00<00:00, 709.42it/s]\n",
      "Copying testing files from ./dataset/basic/meme to ./dataset/test/no_momo\n",
      "100%|██████████| 9/9 [00:00<00:00, 890.93it/s]\n",
      "Copying eval files from ./dataset/basic/meme to ./dataset/eval/no_momo\n",
      "100%|██████████| 9/9 [00:00<00:00, 894.48it/s]\n",
      "From folder 'person' take 62 Training examples, 14 Testing examples, and 12 Eval examples.\n",
      "Copying traning files from ./dataset/basic/person to ./dataset/train/no_momo\n",
      "100%|██████████| 62/62 [00:00<00:00, 750.07it/s]\n",
      "Copying testing files from ./dataset/basic/person to ./dataset/test/no_momo\n",
      "100%|██████████| 14/14 [00:00<00:00, 636.86it/s]\n",
      "Copying eval files from ./dataset/basic/person to ./dataset/eval/no_momo\n",
      "100%|██████████| 12/12 [00:00<00:00, 1281.94it/s]\n",
      "From folder 'momo' take 80 Training examples, 17 Testing examples, and 16 Eval examples.\n",
      "Copying traning files from ./dataset/basic/momo to ./dataset/train/momo\n",
      "100%|██████████| 80/80 [00:00<00:00, 988.46it/s]\n",
      "Copying testing files from ./dataset/basic/momo to ./dataset/test/momo\n",
      "100%|██████████| 17/17 [00:00<00:00, 973.16it/s]\n",
      "Copying eval files from ./dataset/basic/momo to ./dataset/eval/momo\n",
      "100%|██████████| 16/16 [00:00<00:00, 996.51it/s]\n"
     ]
    }
   ],
   "source": [
    "def CreateTrainTestAndEvalFolders():\n",
    "    np.random.seed(SEED_APP)\n",
    "    DATASET_CLASSES = getDatasetClasses()\n",
    "\n",
    "    # Proportions\n",
    "    TRAINING_PERCENTAGE = 0.7\n",
    "    TESTING_PERCENTAGE  = 0.15\n",
    "    EVAL_PERCENTAGE     = 0.15\n",
    "\n",
    "    ds_folders = getFolders(DATESET_BASIC_PATH)\n",
    "\n",
    "    for ds_folder in ds_folders:\n",
    "\n",
    "        path      = DATESET_BASIC_PATH + ds_folder\n",
    "        files     = np.array(getFolderFiles(path))\n",
    "\n",
    "        m         = len(files)\n",
    "\n",
    "        trainIdx  = math.ceil( m * TRAINING_PERCENTAGE )\n",
    "        testIdx   = math.ceil( m * TESTING_PERCENTAGE  ) \n",
    "        evalIdx   = math.ceil( m * EVAL_PERCENTAGE     )     \n",
    "\n",
    "        np.random.shuffle(files)\n",
    "\n",
    "        isPositiveClass      = ds_folder == MOMO_CLASSNAME\n",
    "        folderTo             = MOMO_CLASSNAME if isPositiveClass else NO_MOMO_CLASSNAME\n",
    "\n",
    "        trainingClassPath    = DATESET_TRAINING_PATH + folderTo\n",
    "        testClassPath        = DATESET_TESTING_PATH  + folderTo\n",
    "        evalClassPath        = DATESET_EVAL_PATH     + folderTo\n",
    "        \n",
    "\n",
    "\n",
    "\n",
    "        currentIndex     = 0\n",
    "        trainingImages   = files[ currentIndex : currentIndex + trainIdx ]\n",
    "\n",
    "        currentIndex     = currentIndex + trainIdx \n",
    "        testImages       = files[ currentIndex : currentIndex + testIdx  ]\n",
    "\n",
    "        currentIndex     = currentIndex + testIdx\n",
    "        evalImages       = files[ currentIndex :          ]\n",
    "\n",
    "        print(\n",
    "            \"From folder '\" + ds_folder  + \"'\"\n",
    "            + \" take \" \n",
    "            + str(len(trainingImages)) + \" Training examples, \"\n",
    "            + str(len(testImages))     + \" Testing examples, and \"\n",
    "            + str(len(evalImages))     + \" Eval examples.\"        \n",
    "        )\n",
    "\n",
    "        print(\"Copying traning files from \" + path + \" to \" + trainingClassPath)\n",
    "        for imageName in tqdm(trainingImages, file=stdout):\n",
    "            copy2(path+ \"/\"+  imageName ,trainingClassPath + \"/\"+  imageName)\n",
    "\n",
    "        print(\"Copying testing files from \" + path + \" to \" + testClassPath)\n",
    "        for imageName in tqdm(testImages, file=stdout):\n",
    "            copy2(path+ \"/\"+  imageName ,testClassPath + \"/\"+  imageName)\n",
    "\n",
    "        print(\"Copying eval files from \"    + path + \" to \" + evalClassPath)\n",
    "        for imageName in tqdm(evalImages, file=stdout):\n",
    "            copy2(path+ \"/\"+  imageName ,evalClassPath + \"/\"+  imageName)\n",
    "            \n",
    "CreateTrainTestAndEvalFolders()\n"
   ]
  },
  {
   "cell_type": "markdown",
   "metadata": {},
   "source": [
    "\n",
    "## Data augmentation"
   ]
  },
  {
   "cell_type": "code",
   "execution_count": 12,
   "metadata": {},
   "outputs": [
    {
     "name": "stdout",
     "output_type": "stream",
     "text": [
      "Found 184 images belonging to 2 classes.\n",
      "Found 40 images belonging to 2 classes.\n"
     ]
    }
   ],
   "source": [
    "# Create a generator to pre process our dataset images\n",
    "imageGenerator = ImageDataGenerator(\n",
    "    rescale            = 1./255,       # Scale our data to our dataset scale\n",
    "    horizontal_flip    = True,         # Horizontal mirror\n",
    "    vertical_flip      = False,         # Disable vertical mirror\n",
    "    rotation_range     = 7,\n",
    "    width_shift_range  = 0.3,\n",
    "    height_shift_range = 0.3,\n",
    "    brightness_range   = (0.3, 0.7),\n",
    "    shear_range        = 45.0,\n",
    "    zoom_range         = [0.5, 1.5],\n",
    "    fill_mode          = \"reflect\"\n",
    ")\n",
    "\n",
    "trainGenerator = imageGenerator.flow_from_directory(\n",
    "        directory   = DATESET_TRAINING_PATH,\n",
    "        target_size =  (IMG_H, IMG_W),\n",
    "        batch_size  =  BATCH_SIZE,\n",
    "        class_mode  =  'binary',\n",
    "        classes     =  getOutputClasses())\n",
    "\n",
    "testGenerator= imageGenerator.flow_from_directory(\n",
    "        directory    = DATESET_TESTING_PATH,\n",
    "        target_size  = (IMG_H, IMG_W),\n",
    "        batch_size   = BATCH_SIZE,\n",
    "        class_mode   = 'binary',\n",
    "        classes      = getOutputClasses())"
   ]
  },
  {
   "cell_type": "code",
   "execution_count": 13,
   "metadata": {},
   "outputs": [
    {
     "data": {
      "text/plain": [
       "{'no_momo': 0, 'momo': 1}"
      ]
     },
     "execution_count": 13,
     "metadata": {},
     "output_type": "execute_result"
    }
   ],
   "source": [
    "trainGenerator.class_indices"
   ]
  },
  {
   "cell_type": "markdown",
   "metadata": {},
   "source": [
    "# Training"
   ]
  },
  {
   "cell_type": "markdown",
   "metadata": {},
   "source": [
    "Lets save some util data from our foulders"
   ]
  },
  {
   "cell_type": "code",
   "execution_count": 14,
   "metadata": {},
   "outputs": [
    {
     "name": "stdout",
     "output_type": "stream",
     "text": [
      "Total train examples:  184 positive:  80  negative:  104\n",
      "Total test examples:  40 positive:  17  negative:  23\n",
      "\n",
      "Train Steps per epoch  18\n",
      "Test Steps per epoch  4\n"
     ]
    }
   ],
   "source": [
    "trainPositiveFiles          = getFolderFiles(DATESET_TRAINING_PATH + MOMO_CLASSNAME)\n",
    "trainNegativeFiles          = getFolderFiles(DATESET_TRAINING_PATH + NO_MOMO_CLASSNAME)\n",
    "trainPositiveExamplesLength = len(trainPositiveFiles)\n",
    "trainNegativeExamplesLength = len(trainNegativeFiles)\n",
    "trainLength                 = trainPositiveExamplesLength + trainNegativeExamplesLength\n",
    "\n",
    "print(\"Total train examples: \", trainLength , \"positive: \" , trainPositiveExamplesLength  , \" negative: \" , trainNegativeExamplesLength)\n",
    "\n",
    "testPositiveFiles           = getFolderFiles(DATESET_TESTING_PATH + MOMO_CLASSNAME)\n",
    "testNegativeFiles           = getFolderFiles(DATESET_TESTING_PATH + NO_MOMO_CLASSNAME)\n",
    "testPositiveExamplesLength  = len(testPositiveFiles)\n",
    "testNegativeExamplesLength  = len(testNegativeFiles)\n",
    "testLength                  = testPositiveExamplesLength + testNegativeExamplesLength\n",
    "\n",
    "print(\"Total test examples: \", testLength , \"positive: \" , testPositiveExamplesLength  , \" negative: \" , testNegativeExamplesLength)\n",
    "print()\n",
    "\n",
    "trainSteps = trainLength // BATCH_SIZE\n",
    "testSteps  = testLength // BATCH_SIZE\n",
    "\n",
    "print(\"Train Steps per epoch \" , trainSteps)\n",
    "print(\"Test Steps per epoch \" , testSteps)\n",
    "\n",
    "callbacks   = []\n",
    "\n",
    "resetFolderIfExist(RESULT_FOLDER_WEIGHTS_INCEPTION_V3_PATH)\n",
    "\n",
    "if SAVE_WEIGHTS:\n",
    "    weightsFileName  =  RESULT_FOLDER_WEIGHTS_INCEPTION_V3_PATH + 'weights-{epoch}.h5'\n",
    "    mc = keras.callbacks.ModelCheckpoint(\n",
    "        weightsFileName,\n",
    "        save_weights_only=True,\n",
    "         save_best_only=True\n",
    "    )\n",
    "    callbacks.append( mc )"
   ]
  },
  {
   "cell_type": "code",
   "execution_count": 15,
   "metadata": {},
   "outputs": [
    {
     "name": "stdout",
     "output_type": "stream",
     "text": [
      "WARNING:tensorflow:From <ipython-input-15-48a5d6cd2f05>:7: Model.fit_generator (from tensorflow.python.keras.engine.training) is deprecated and will be removed in a future version.\n",
      "Instructions for updating:\n",
      "Please use Model.fit, which supports generators.\n",
      "Epoch 1/60\n",
      "18/18 [==============================] - 51s 3s/step - loss: 0.4664 - accuracy: 0.8046 - val_loss: 2819.0500 - val_accuracy: 0.5750\n",
      "Epoch 2/60\n",
      "18/18 [==============================] - 49s 3s/step - loss: 0.4311 - accuracy: 0.8678 - val_loss: 831531.1875 - val_accuracy: 0.4250\n",
      "Epoch 3/60\n",
      "18/18 [==============================] - 54s 3s/step - loss: 0.5204 - accuracy: 0.7989 - val_loss: 58311.4375 - val_accuracy: 0.4250\n",
      "Epoch 4/60\n",
      "18/18 [==============================] - 57s 3s/step - loss: 0.4729 - accuracy: 0.8506 - val_loss: 23.0719 - val_accuracy: 0.5500\n",
      "Epoch 5/60\n",
      "18/18 [==============================] - 55s 3s/step - loss: 0.6399 - accuracy: 0.7644 - val_loss: 3321.4036 - val_accuracy: 0.4250\n",
      "Epoch 6/60\n",
      "18/18 [==============================] - 56s 3s/step - loss: 0.5097 - accuracy: 0.7931 - val_loss: 2.2521 - val_accuracy: 0.6500\n",
      "Epoch 7/60\n",
      "18/18 [==============================] - 56s 3s/step - loss: 0.4109 - accuracy: 0.8391 - val_loss: 37.2668 - val_accuracy: 0.5750\n",
      "Epoch 8/60\n",
      "18/18 [==============================] - 57s 3s/step - loss: 0.3801 - accuracy: 0.8333 - val_loss: 0.9366 - val_accuracy: 0.6500\n",
      "Epoch 9/60\n",
      "18/18 [==============================] - 57s 3s/step - loss: 0.3383 - accuracy: 0.9080 - val_loss: 7.2526 - val_accuracy: 0.7500\n",
      "Epoch 10/60\n",
      "18/18 [==============================] - 56s 3s/step - loss: 0.2813 - accuracy: 0.8966 - val_loss: 16.8194 - val_accuracy: 0.5000\n",
      "Epoch 11/60\n",
      "18/18 [==============================] - 59s 3s/step - loss: 0.2806 - accuracy: 0.8908 - val_loss: 3.7043 - val_accuracy: 0.5500\n",
      "Epoch 12/60\n",
      "18/18 [==============================] - 56s 3s/step - loss: 0.2216 - accuracy: 0.9195 - val_loss: 1.9112 - val_accuracy: 0.7500\n",
      "Epoch 13/60\n",
      "18/18 [==============================] - 58s 3s/step - loss: 0.2179 - accuracy: 0.9253 - val_loss: 0.3601 - val_accuracy: 0.8500\n",
      "Epoch 14/60\n",
      "18/18 [==============================] - 58s 3s/step - loss: 0.2531 - accuracy: 0.9253 - val_loss: 0.9286 - val_accuracy: 0.8250\n",
      "Epoch 15/60\n",
      "18/18 [==============================] - 57s 3s/step - loss: 0.3351 - accuracy: 0.8793 - val_loss: 18.9907 - val_accuracy: 0.7250\n",
      "Epoch 16/60\n",
      "18/18 [==============================] - 57s 3s/step - loss: 0.2008 - accuracy: 0.9310 - val_loss: 4.7362 - val_accuracy: 0.7500\n",
      "Epoch 17/60\n",
      "18/18 [==============================] - 56s 3s/step - loss: 0.1817 - accuracy: 0.9425 - val_loss: 0.6265 - val_accuracy: 0.8500\n",
      "Epoch 18/60\n",
      "18/18 [==============================] - 56s 3s/step - loss: 0.3202 - accuracy: 0.9195 - val_loss: 1.2140 - val_accuracy: 0.7000\n",
      "Epoch 19/60\n",
      "18/18 [==============================] - 60s 3s/step - loss: 0.2687 - accuracy: 0.8966 - val_loss: 4.6472 - val_accuracy: 0.7500\n",
      "Epoch 20/60\n",
      "18/18 [==============================] - 56s 3s/step - loss: 0.2438 - accuracy: 0.9195 - val_loss: 4.6523 - val_accuracy: 0.7000\n",
      "Epoch 21/60\n",
      "18/18 [==============================] - 59s 3s/step - loss: 0.2136 - accuracy: 0.9195 - val_loss: 1.4643 - val_accuracy: 0.7000\n",
      "Epoch 22/60\n",
      "18/18 [==============================] - 57s 3s/step - loss: 0.2201 - accuracy: 0.9138 - val_loss: 0.8140 - val_accuracy: 0.8500\n",
      "Epoch 23/60\n",
      "18/18 [==============================] - 57s 3s/step - loss: 0.3373 - accuracy: 0.9080 - val_loss: 1.0700 - val_accuracy: 0.8000\n",
      "Epoch 24/60\n",
      "18/18 [==============================] - 60s 3s/step - loss: 0.3630 - accuracy: 0.8444 - val_loss: 5.6991 - val_accuracy: 0.6250\n",
      "Epoch 25/60\n",
      "18/18 [==============================] - 57s 3s/step - loss: 0.4052 - accuracy: 0.7874 - val_loss: 1.9938 - val_accuracy: 0.5250\n",
      "Epoch 26/60\n",
      "18/18 [==============================] - 59s 3s/step - loss: 0.2583 - accuracy: 0.8851 - val_loss: 3.5459 - val_accuracy: 0.5000\n",
      "Epoch 27/60\n",
      "18/18 [==============================] - 57s 3s/step - loss: 0.3665 - accuracy: 0.8678 - val_loss: 1.4380 - val_accuracy: 0.5500\n",
      "Epoch 28/60\n",
      "18/18 [==============================] - 57s 3s/step - loss: 0.3203 - accuracy: 0.8851 - val_loss: 0.4278 - val_accuracy: 0.7500\n",
      "Epoch 29/60\n",
      "18/18 [==============================] - 59s 3s/step - loss: 0.2503 - accuracy: 0.9138 - val_loss: 0.2581 - val_accuracy: 0.8750\n",
      "Epoch 30/60\n",
      "18/18 [==============================] - 56s 3s/step - loss: 0.3045 - accuracy: 0.9023 - val_loss: 24.3785 - val_accuracy: 0.8250\n",
      "Epoch 31/60\n",
      "18/18 [==============================] - 58s 3s/step - loss: 0.3524 - accuracy: 0.8621 - val_loss: 13.1394 - val_accuracy: 0.9000\n",
      "Epoch 32/60\n",
      "18/18 [==============================] - 56s 3s/step - loss: 0.3105 - accuracy: 0.8851 - val_loss: 12.6755 - val_accuracy: 0.7500\n",
      "Epoch 33/60\n",
      "18/18 [==============================] - 56s 3s/step - loss: 0.2617 - accuracy: 0.9023 - val_loss: 353.9441 - val_accuracy: 0.5750\n",
      "Epoch 34/60\n",
      "18/18 [==============================] - 57s 3s/step - loss: 0.2723 - accuracy: 0.9138 - val_loss: 271.4543 - val_accuracy: 0.5750\n",
      "Epoch 35/60\n",
      "18/18 [==============================] - 57s 3s/step - loss: 0.2262 - accuracy: 0.9253 - val_loss: 16.2336 - val_accuracy: 0.6250\n",
      "Epoch 36/60\n",
      "18/18 [==============================] - 57s 3s/step - loss: 0.2539 - accuracy: 0.9023 - val_loss: 2.2123 - val_accuracy: 0.8750\n",
      "Epoch 37/60\n",
      "18/18 [==============================] - 56s 3s/step - loss: 0.1831 - accuracy: 0.9368 - val_loss: 0.9468 - val_accuracy: 0.8250\n",
      "Epoch 38/60\n",
      "18/18 [==============================] - 57s 3s/step - loss: 0.2752 - accuracy: 0.9023 - val_loss: 1.0598 - val_accuracy: 0.7250\n",
      "Epoch 39/60\n",
      "18/18 [==============================] - 57s 3s/step - loss: 0.2549 - accuracy: 0.9080 - val_loss: 3.6471 - val_accuracy: 0.6500\n",
      "Epoch 40/60\n",
      "18/18 [==============================] - 57s 3s/step - loss: 0.2005 - accuracy: 0.9195 - val_loss: 0.3581 - val_accuracy: 0.9250\n",
      "Epoch 41/60\n",
      "18/18 [==============================] - 58s 3s/step - loss: 0.1711 - accuracy: 0.9368 - val_loss: 0.1984 - val_accuracy: 0.9250\n",
      "Epoch 42/60\n",
      "18/18 [==============================] - 57s 3s/step - loss: 0.1537 - accuracy: 0.9483 - val_loss: 1.5662 - val_accuracy: 0.9000\n",
      "Epoch 43/60\n",
      "18/18 [==============================] - 57s 3s/step - loss: 0.3390 - accuracy: 0.8448 - val_loss: 0.2607 - val_accuracy: 0.9000\n",
      "Epoch 44/60\n",
      "18/18 [==============================] - 60s 3s/step - loss: 0.3696 - accuracy: 0.8778 - val_loss: 0.1864 - val_accuracy: 0.9250\n",
      "Epoch 45/60\n",
      "18/18 [==============================] - 58s 3s/step - loss: 0.1879 - accuracy: 0.9368 - val_loss: 0.3280 - val_accuracy: 0.8750\n",
      "Epoch 46/60\n",
      "18/18 [==============================] - 56s 3s/step - loss: 0.2141 - accuracy: 0.9310 - val_loss: 0.1936 - val_accuracy: 0.9250\n",
      "Epoch 47/60\n",
      "18/18 [==============================] - 56s 3s/step - loss: 0.1696 - accuracy: 0.9368 - val_loss: 0.4022 - val_accuracy: 0.8750\n",
      "Epoch 48/60\n",
      "18/18 [==============================] - 57s 3s/step - loss: 0.2780 - accuracy: 0.9138 - val_loss: 0.2950 - val_accuracy: 0.8250\n",
      "Epoch 49/60\n",
      "18/18 [==============================] - 56s 3s/step - loss: 0.2299 - accuracy: 0.9023 - val_loss: 0.3393 - val_accuracy: 0.8750\n",
      "Epoch 50/60\n",
      "18/18 [==============================] - 57s 3s/step - loss: 0.2271 - accuracy: 0.9368 - val_loss: 2.4840 - val_accuracy: 0.6250\n",
      "Epoch 51/60\n",
      "18/18 [==============================] - 57s 3s/step - loss: 0.1897 - accuracy: 0.9540 - val_loss: 1.1241 - val_accuracy: 0.9000\n",
      "Epoch 52/60\n",
      "18/18 [==============================] - 58s 3s/step - loss: 0.1439 - accuracy: 0.9540 - val_loss: 0.6856 - val_accuracy: 0.8750\n",
      "Epoch 53/60\n",
      "18/18 [==============================] - 58s 3s/step - loss: 0.1612 - accuracy: 0.9368 - val_loss: 0.5447 - val_accuracy: 0.8500\n",
      "Epoch 54/60\n",
      "18/18 [==============================] - 56s 3s/step - loss: 0.1988 - accuracy: 0.9310 - val_loss: 0.8261 - val_accuracy: 0.8250\n",
      "Epoch 55/60\n",
      "18/18 [==============================] - 57s 3s/step - loss: 0.3029 - accuracy: 0.9195 - val_loss: 0.8150 - val_accuracy: 0.9500\n",
      "Epoch 56/60\n",
      "18/18 [==============================] - 56s 3s/step - loss: 0.1723 - accuracy: 0.9483 - val_loss: 2.3026 - val_accuracy: 0.8500\n",
      "Epoch 57/60\n",
      "18/18 [==============================] - 58s 3s/step - loss: 0.1617 - accuracy: 0.9483 - val_loss: 0.0916 - val_accuracy: 1.0000\n",
      "Epoch 58/60\n",
      "18/18 [==============================] - 59s 3s/step - loss: 0.1493 - accuracy: 0.9310 - val_loss: 0.2208 - val_accuracy: 0.9000\n",
      "Epoch 59/60\n",
      "18/18 [==============================] - 58s 3s/step - loss: 0.2622 - accuracy: 0.9195 - val_loss: 0.2465 - val_accuracy: 0.9250\n",
      "Epoch 60/60\n",
      "18/18 [==============================] - 58s 3s/step - loss: 0.1692 - accuracy: 0.9425 - val_loss: 0.6044 - val_accuracy: 0.8500\n"
     ]
    }
   ],
   "source": [
    "progress = momoModel.fit_generator(\n",
    "        trainGenerator,\n",
    "        steps_per_epoch=trainSteps,\n",
    "        epochs=EPOCHS,\n",
    "        validation_data=testGenerator,\n",
    "        validation_steps=testSteps,\n",
    "        callbacks=callbacks\n",
    ")"
   ]
  },
  {
   "cell_type": "code",
   "execution_count": 20,
   "metadata": {},
   "outputs": [
    {
     "name": "stdout",
     "output_type": "stream",
     "text": [
      "dict_keys(['loss', 'accuracy', 'val_loss', 'val_accuracy'])\n"
     ]
    },
    {
     "data": {
      "image/png": "[encoded data removed]",
      "text/plain": [
       "<Figure size 432x288 with 1 Axes>"
      ]
     },
     "metadata": {
      "needs_background": "light"
     },
     "output_type": "display_data"
    },
    {
     "data": {
      "image/png": "[encoded data removed]",
      "text/plain": [
       "<Figure size 432x288 with 1 Axes>"
      ]
     },
     "metadata": {
      "needs_background": "light"
     },
     "output_type": "display_data"
    }
   ],
   "source": [
    "# listamos la información del entrenamiento\n",
    "print(progress.history.keys())\n",
    "\n",
    "momoModel.save_weights( DEFAULT_WEIGHTS_FILE_PATH)\n",
    "\n",
    "# Acc stats\n",
    "plt.plot(progress.history['accuracy'])\n",
    "plt.plot(progress.history['val_accuracy'])\n",
    "plt.title('model accuracy')\n",
    "plt.ylabel('accuracy')\n",
    "plt.xlabel('epoch')\n",
    "plt.legend(['train', 'test'], loc='upper left')\n",
    "plt.show()\n",
    "\n",
    "# Loss stats\n",
    "plt.plot(progress.history['loss'])\n",
    "plt.plot(progress.history['val_loss'])\n",
    "plt.title('model loss')\n",
    "plt.ylabel('loss')\n",
    "plt.xlabel('epoch')\n",
    "plt.legend(['train', 'test'], loc='upper left')\n",
    "plt.show()"
   ]
  },
  {
   "cell_type": "code",
   "execution_count": 23,
   "metadata": {},
   "outputs": [
    {
     "name": "stdout",
     "output_type": "stream",
     "text": [
      "Epoch 1/60\n",
      "18/18 [==============================] - 49s 3s/step - loss: 0.1471 - accuracy: 0.9598 - val_loss: 0.3472 - val_accuracy: 0.8750\n",
      "Epoch 2/60\n",
      "18/18 [==============================] - 62s 3s/step - loss: 0.1318 - accuracy: 0.9655 - val_loss: 0.4708 - val_accuracy: 0.8750\n",
      "Epoch 3/60\n",
      "18/18 [==============================] - 57s 3s/step - loss: 0.1302 - accuracy: 0.9655 - val_loss: 0.2833 - val_accuracy: 0.9250\n",
      "Epoch 4/60\n",
      "18/18 [==============================] - 58s 3s/step - loss: 0.1751 - accuracy: 0.9278 - val_loss: 0.9709 - val_accuracy: 0.7750\n",
      "Epoch 5/60\n",
      "18/18 [==============================] - 58s 3s/step - loss: 0.1775 - accuracy: 0.9500 - val_loss: 0.3857 - val_accuracy: 0.8500\n",
      "Epoch 6/60\n",
      "18/18 [==============================] - 56s 3s/step - loss: 0.1336 - accuracy: 0.9425 - val_loss: 0.2256 - val_accuracy: 0.9250\n",
      "Epoch 7/60\n",
      "18/18 [==============================] - 57s 3s/step - loss: 0.1589 - accuracy: 0.9368 - val_loss: 0.5514 - val_accuracy: 0.8250\n",
      "Epoch 8/60\n",
      "18/18 [==============================] - 57s 3s/step - loss: 0.1177 - accuracy: 0.9425 - val_loss: 0.2981 - val_accuracy: 0.9000\n",
      "Epoch 9/60\n",
      "18/18 [==============================] - 58s 3s/step - loss: 0.1054 - accuracy: 0.9713 - val_loss: 0.4058 - val_accuracy: 0.9000\n",
      "Epoch 10/60\n",
      "18/18 [==============================] - 57s 3s/step - loss: 0.1545 - accuracy: 0.9483 - val_loss: 55.5395 - val_accuracy: 0.5750\n",
      "Epoch 11/60\n",
      "18/18 [==============================] - 57s 3s/step - loss: 0.3057 - accuracy: 0.9080 - val_loss: 29.7137 - val_accuracy: 0.5000\n",
      "Epoch 12/60\n",
      "18/18 [==============================] - 56s 3s/step - loss: 0.2998 - accuracy: 0.8908 - val_loss: 22.7594 - val_accuracy: 0.5250\n",
      "Epoch 13/60\n",
      "18/18 [==============================] - 56s 3s/step - loss: 0.2353 - accuracy: 0.9138 - val_loss: 0.5249 - val_accuracy: 0.7750\n",
      "Epoch 14/60\n",
      "18/18 [==============================] - 57s 3s/step - loss: 0.1408 - accuracy: 0.9425 - val_loss: 0.5940 - val_accuracy: 0.8250\n",
      "Epoch 15/60\n",
      "18/18 [==============================] - 57s 3s/step - loss: 0.2867 - accuracy: 0.8966 - val_loss: 1.5387 - val_accuracy: 0.6750\n",
      "Epoch 16/60\n",
      "18/18 [==============================] - 56s 3s/step - loss: 0.2207 - accuracy: 0.9195 - val_loss: 1.0241 - val_accuracy: 0.8000\n",
      "Epoch 17/60\n",
      "18/18 [==============================] - 57s 3s/step - loss: 0.2056 - accuracy: 0.9368 - val_loss: 0.5879 - val_accuracy: 0.8500\n",
      "Epoch 18/60\n",
      "18/18 [==============================] - 57s 3s/step - loss: 0.2032 - accuracy: 0.9310 - val_loss: 0.3041 - val_accuracy: 0.9000\n",
      "Epoch 19/60\n",
      "18/18 [==============================] - 57s 3s/step - loss: 0.1566 - accuracy: 0.9368 - val_loss: 0.2405 - val_accuracy: 0.9000\n",
      "Epoch 20/60\n",
      "18/18 [==============================] - 57s 3s/step - loss: 0.1679 - accuracy: 0.9368 - val_loss: 0.1507 - val_accuracy: 0.9250\n",
      "Epoch 21/60\n",
      "18/18 [==============================] - 56s 3s/step - loss: 0.1716 - accuracy: 0.9425 - val_loss: 0.2522 - val_accuracy: 0.9500\n",
      "Epoch 22/60\n",
      "18/18 [==============================] - 56s 3s/step - loss: 0.1654 - accuracy: 0.9425 - val_loss: 0.1965 - val_accuracy: 0.9000\n",
      "Epoch 23/60\n",
      "18/18 [==============================] - 58s 3s/step - loss: 0.1842 - accuracy: 0.9310 - val_loss: 0.4649 - val_accuracy: 0.9000\n",
      "Epoch 24/60\n",
      "18/18 [==============================] - 56s 3s/step - loss: 0.1444 - accuracy: 0.9598 - val_loss: 0.1179 - val_accuracy: 0.9750\n",
      "Epoch 25/60\n",
      "18/18 [==============================] - 57s 3s/step - loss: 0.1465 - accuracy: 0.9540 - val_loss: 0.2675 - val_accuracy: 0.8750\n",
      "Epoch 26/60\n",
      "18/18 [==============================] - 56s 3s/step - loss: 0.1996 - accuracy: 0.9138 - val_loss: 0.2342 - val_accuracy: 0.9250\n",
      "Epoch 27/60\n",
      "18/18 [==============================] - 56s 3s/step - loss: 0.1934 - accuracy: 0.9598 - val_loss: 0.5113 - val_accuracy: 0.8500\n",
      "Epoch 28/60\n",
      "18/18 [==============================] - 57s 3s/step - loss: 0.1590 - accuracy: 0.9425 - val_loss: 0.5193 - val_accuracy: 0.8500\n",
      "Epoch 29/60\n",
      "18/18 [==============================] - 56s 3s/step - loss: 0.1195 - accuracy: 0.9655 - val_loss: 0.5738 - val_accuracy: 0.8750\n",
      "Epoch 30/60\n",
      "18/18 [==============================] - 56s 3s/step - loss: 0.1649 - accuracy: 0.9425 - val_loss: 0.1844 - val_accuracy: 0.9250\n",
      "Epoch 31/60\n",
      "18/18 [==============================] - 56s 3s/step - loss: 0.1108 - accuracy: 0.9598 - val_loss: 0.3103 - val_accuracy: 0.9500\n",
      "Epoch 32/60\n",
      "18/18 [==============================] - 56s 3s/step - loss: 0.1149 - accuracy: 0.9655 - val_loss: 0.2248 - val_accuracy: 0.9500\n",
      "Epoch 33/60\n",
      "18/18 [==============================] - 56s 3s/step - loss: 0.1531 - accuracy: 0.9253 - val_loss: 0.2073 - val_accuracy: 0.8750\n",
      "Epoch 34/60\n",
      "18/18 [==============================] - 56s 3s/step - loss: 0.1553 - accuracy: 0.9195 - val_loss: 0.1910 - val_accuracy: 0.9250\n",
      "Epoch 35/60\n",
      "18/18 [==============================] - 56s 3s/step - loss: 0.1463 - accuracy: 0.9425 - val_loss: 0.1699 - val_accuracy: 0.9500\n",
      "Epoch 36/60\n",
      "18/18 [==============================] - 55s 3s/step - loss: 0.0964 - accuracy: 0.9770 - val_loss: 0.2653 - val_accuracy: 0.9500\n",
      "Epoch 37/60\n",
      "18/18 [==============================] - 56s 3s/step - loss: 0.2447 - accuracy: 0.9080 - val_loss: 0.1988 - val_accuracy: 0.9500\n",
      "Epoch 38/60\n",
      "18/18 [==============================] - 55s 3s/step - loss: 0.1652 - accuracy: 0.9425 - val_loss: 0.1722 - val_accuracy: 0.9500\n",
      "Epoch 39/60\n",
      "18/18 [==============================] - 56s 3s/step - loss: 0.1137 - accuracy: 0.9770 - val_loss: 0.5602 - val_accuracy: 0.9000\n",
      "Epoch 40/60\n",
      "18/18 [==============================] - 55s 3s/step - loss: 0.0696 - accuracy: 0.9713 - val_loss: 0.2173 - val_accuracy: 0.9500\n",
      "Epoch 41/60\n",
      "18/18 [==============================] - 58s 3s/step - loss: 0.1508 - accuracy: 0.9253 - val_loss: 0.2295 - val_accuracy: 0.9000\n",
      "Epoch 42/60\n",
      "18/18 [==============================] - 56s 3s/step - loss: 0.1462 - accuracy: 0.9425 - val_loss: 0.1620 - val_accuracy: 0.9500\n",
      "Epoch 43/60\n",
      "18/18 [==============================] - 56s 3s/step - loss: 0.1582 - accuracy: 0.9425 - val_loss: 0.1613 - val_accuracy: 0.9500\n",
      "Epoch 44/60\n",
      "18/18 [==============================] - 55s 3s/step - loss: 0.1398 - accuracy: 0.9540 - val_loss: 0.2360 - val_accuracy: 0.9000\n",
      "Epoch 45/60\n",
      "18/18 [==============================] - 55s 3s/step - loss: 0.1803 - accuracy: 0.9310 - val_loss: 0.1716 - val_accuracy: 0.9500\n",
      "Epoch 46/60\n",
      "18/18 [==============================] - 55s 3s/step - loss: 0.1262 - accuracy: 0.9483 - val_loss: 0.8172 - val_accuracy: 0.8500\n",
      "Epoch 47/60\n",
      "18/18 [==============================] - 55s 3s/step - loss: 0.2075 - accuracy: 0.9368 - val_loss: 0.5519 - val_accuracy: 0.9250\n",
      "Epoch 48/60\n",
      "18/18 [==============================] - 54s 3s/step - loss: 0.1614 - accuracy: 0.9310 - val_loss: 0.5360 - val_accuracy: 0.8500\n",
      "Epoch 49/60\n",
      "18/18 [==============================] - 58s 3s/step - loss: 0.3095 - accuracy: 0.8736 - val_loss: 0.6691 - val_accuracy: 0.8000\n",
      "Epoch 50/60\n",
      "18/18 [==============================] - 61s 3s/step - loss: 0.2213 - accuracy: 0.9253 - val_loss: 0.1284 - val_accuracy: 0.9500\n",
      "Epoch 51/60\n",
      "18/18 [==============================] - 52s 3s/step - loss: 0.2174 - accuracy: 0.9310 - val_loss: 0.2528 - val_accuracy: 0.9500\n",
      "Epoch 52/60\n",
      "18/18 [==============================] - 52s 3s/step - loss: 0.1936 - accuracy: 0.9368 - val_loss: 0.3371 - val_accuracy: 0.8500\n",
      "Epoch 53/60\n",
      "18/18 [==============================] - 52s 3s/step - loss: 0.1234 - accuracy: 0.9655 - val_loss: 0.1534 - val_accuracy: 0.9500\n",
      "Epoch 54/60\n",
      "18/18 [==============================] - 52s 3s/step - loss: 0.1236 - accuracy: 0.9540 - val_loss: 0.1758 - val_accuracy: 0.9250\n",
      "Epoch 55/60\n",
      "18/18 [==============================] - 53s 3s/step - loss: 0.1196 - accuracy: 0.9655 - val_loss: 0.2452 - val_accuracy: 0.9250\n",
      "Epoch 56/60\n",
      "18/18 [==============================] - 54s 3s/step - loss: 0.1119 - accuracy: 0.9556 - val_loss: 0.3208 - val_accuracy: 0.9250\n",
      "Epoch 57/60\n",
      "18/18 [==============================] - 53s 3s/step - loss: 0.1029 - accuracy: 0.9713 - val_loss: 0.5539 - val_accuracy: 0.8750\n",
      "Epoch 58/60\n",
      "18/18 [==============================] - 53s 3s/step - loss: 0.0987 - accuracy: 0.9770 - val_loss: 0.2133 - val_accuracy: 0.9500\n",
      "Epoch 59/60\n",
      "18/18 [==============================] - 51s 3s/step - loss: 0.1930 - accuracy: 0.9425 - val_loss: 0.2374 - val_accuracy: 0.9000\n",
      "Epoch 60/60\n",
      "18/18 [==============================] - 52s 3s/step - loss: 0.1260 - accuracy: 0.9540 - val_loss: 0.4486 - val_accuracy: 0.8500\n"
     ]
    }
   ],
   "source": [
    "momoModel.load_weights(DEFAULT_WEIGHTS_FILE_PATH)\n",
    "progress = momoModel.fit_generator(\n",
    "        trainGenerator,\n",
    "        steps_per_epoch=trainSteps,\n",
    "        epochs=EPOCHS,\n",
    "        validation_data=testGenerator,\n",
    "        validation_steps=testSteps,\n",
    "        callbacks=callbacks\n",
    ")"
   ]
  },
  {
   "cell_type": "code",
   "execution_count": 24,
   "metadata": {},
   "outputs": [
    {
     "name": "stdout",
     "output_type": "stream",
     "text": [
      "dict_keys(['loss', 'accuracy', 'val_loss', 'val_accuracy'])\n"
     ]
    },
    {
     "data": {
      "image/png": "[encoded data removed]",
      "text/plain": [
       "<Figure size 432x288 with 1 Axes>"
      ]
     },
     "metadata": {
      "needs_background": "light"
     },
     "output_type": "display_data"
    },
    {
     "data": {
      "image/png": "[encoded data removed]",
      "text/plain": [
       "<Figure size 432x288 with 1 Axes>"
      ]
     },
     "metadata": {
      "needs_background": "light"
     },
     "output_type": "display_data"
    }
   ],
   "source": [
    "# listamos la información del entrenamiento\n",
    "print(progress.history.keys())\n",
    "\n",
    "momoModel.save_weights( DEFAULT_WEIGHTS_FILE_PATH)\n",
    "\n",
    "# Acc stats\n",
    "plt.plot(progress.history['accuracy'])\n",
    "plt.plot(progress.history['val_accuracy'])\n",
    "plt.title('model accuracy')\n",
    "plt.ylabel('accuracy')\n",
    "plt.xlabel('epoch')\n",
    "plt.legend(['train', 'test'], loc='upper left')\n",
    "plt.show()\n",
    "\n",
    "# Loss stats\n",
    "plt.plot(progress.history['loss'])\n",
    "plt.plot(progress.history['val_loss'])\n",
    "plt.title('model loss')\n",
    "plt.ylabel('loss')\n",
    "plt.xlabel('epoch')\n",
    "plt.legend(['train', 'test'], loc='upper left')\n",
    "plt.show()"
   ]
  },
  {
   "cell_type": "markdown",
   "metadata": {},
   "source": [
    "# Predict Using the momo model"
   ]
  },
  {
   "cell_type": "markdown",
   "metadata": {},
   "source": [
    "## Using the last weights"
   ]
  },
  {
   "cell_type": "code",
   "execution_count": 27,
   "metadata": {},
   "outputs": [
    {
     "name": "stdout",
     "output_type": "stream",
     "text": [
      "Processing no_momo  total of images:  21\n",
      "100%|██████████| 21/21 [00:01<00:00, 12.56it/s]\n",
      "Processing momo  total of images:  16\n",
      "100%|██████████| 16/16 [00:01<00:00, 12.79it/s]\n"
     ]
    },
    {
     "data": {
      "image/png": "[encoded data removed]",
      "text/plain": [
       "<Figure size 432x288 with 2 Axes>"
      ]
     },
     "metadata": {
      "needs_background": "light"
     },
     "output_type": "display_data"
    }
   ],
   "source": [
    "files,eval_preds,eval_Xs,eval_Ys = getDataForConfusionMatrix()\n",
    "createConfusionMatrix(eval_Xs, eval_Ys, classes=getOutputClasses(), normalize=True)"
   ]
  },
  {
   "cell_type": "code",
   "execution_count": 28,
   "metadata": {},
   "outputs": [
    {
     "name": "stdout",
     "output_type": "stream",
     "text": [
      "Epoch 1/60\n",
      "18/18 [==============================] - 46s 3s/step - loss: 0.0877 - accuracy: 0.9655 - val_loss: 0.1783 - val_accuracy: 0.9750\n",
      "Epoch 2/60\n",
      "18/18 [==============================] - 50s 3s/step - loss: 0.0819 - accuracy: 0.9770 - val_loss: 0.0827 - val_accuracy: 0.9750\n",
      "Epoch 3/60\n",
      "18/18 [==============================] - 56s 3s/step - loss: 0.1203 - accuracy: 0.9598 - val_loss: 0.3739 - val_accuracy: 0.8500\n",
      "Epoch 4/60\n",
      "18/18 [==============================] - 54s 3s/step - loss: 0.0874 - accuracy: 0.9713 - val_loss: 0.1604 - val_accuracy: 0.9500\n",
      "Epoch 5/60\n",
      "18/18 [==============================] - 60s 3s/step - loss: 0.2707 - accuracy: 0.9080 - val_loss: 0.4133 - val_accuracy: 0.9000\n",
      "Epoch 6/60\n",
      "18/18 [==============================] - 55s 3s/step - loss: 0.1489 - accuracy: 0.9483 - val_loss: 0.0783 - val_accuracy: 0.9750\n",
      "Epoch 7/60\n",
      "18/18 [==============================] - 56s 3s/step - loss: 0.0905 - accuracy: 0.9655 - val_loss: 0.1022 - val_accuracy: 0.9500\n",
      "Epoch 8/60\n",
      "18/18 [==============================] - 56s 3s/step - loss: 0.1389 - accuracy: 0.9483 - val_loss: 0.1448 - val_accuracy: 0.9500\n",
      "Epoch 9/60\n",
      "18/18 [==============================] - 57s 3s/step - loss: 0.0700 - accuracy: 0.9770 - val_loss: 0.1084 - val_accuracy: 0.9500\n",
      "Epoch 10/60\n",
      "18/18 [==============================] - 56s 3s/step - loss: 0.0995 - accuracy: 0.9713 - val_loss: 0.0974 - val_accuracy: 0.9750\n",
      "Epoch 11/60\n",
      "18/18 [==============================] - 57s 3s/step - loss: 0.0478 - accuracy: 0.9828 - val_loss: 0.1918 - val_accuracy: 0.9250\n",
      "Epoch 12/60\n",
      "18/18 [==============================] - 58s 3s/step - loss: 0.0967 - accuracy: 0.9556 - val_loss: 0.2029 - val_accuracy: 0.9250\n",
      "Epoch 13/60\n",
      "18/18 [==============================] - 56s 3s/step - loss: 0.1105 - accuracy: 0.9483 - val_loss: 0.2566 - val_accuracy: 0.9250\n",
      "Epoch 14/60\n",
      "18/18 [==============================] - 56s 3s/step - loss: 0.0964 - accuracy: 0.9655 - val_loss: 0.0135 - val_accuracy: 1.0000\n",
      "Epoch 15/60\n",
      "18/18 [==============================] - 63s 4s/step - loss: 0.0988 - accuracy: 0.9713 - val_loss: 0.0612 - val_accuracy: 0.9750\n",
      "Epoch 16/60\n",
      "18/18 [==============================] - 73s 4s/step - loss: 0.1665 - accuracy: 0.9425 - val_loss: 0.2927 - val_accuracy: 0.8250\n",
      "Epoch 17/60\n",
      "18/18 [==============================] - 59s 3s/step - loss: 0.2937 - accuracy: 0.8851 - val_loss: 0.2770 - val_accuracy: 0.8750\n",
      "Epoch 18/60\n",
      "18/18 [==============================] - 56s 3s/step - loss: 0.1877 - accuracy: 0.9425 - val_loss: 0.2460 - val_accuracy: 0.9000\n",
      "Epoch 19/60\n",
      "18/18 [==============================] - 56s 3s/step - loss: 0.1258 - accuracy: 0.9770 - val_loss: 0.3005 - val_accuracy: 0.8750\n",
      "Epoch 20/60\n",
      "18/18 [==============================] - 56s 3s/step - loss: 0.1975 - accuracy: 0.9253 - val_loss: 0.3634 - val_accuracy: 0.9000\n",
      "Epoch 21/60\n",
      "18/18 [==============================] - 57s 3s/step - loss: 0.3034 - accuracy: 0.9138 - val_loss: 0.4560 - val_accuracy: 0.8500\n",
      "Epoch 22/60\n",
      "18/18 [==============================] - 56s 3s/step - loss: 0.1278 - accuracy: 0.9540 - val_loss: 0.1629 - val_accuracy: 0.9250\n",
      "Epoch 23/60\n",
      "18/18 [==============================] - 58s 3s/step - loss: 0.2224 - accuracy: 0.9195 - val_loss: 0.3458 - val_accuracy: 0.9000\n",
      "Epoch 24/60\n",
      "18/18 [==============================] - 55s 3s/step - loss: 0.1534 - accuracy: 0.9253 - val_loss: 0.3091 - val_accuracy: 0.9000\n",
      "Epoch 25/60\n",
      "18/18 [==============================] - 56s 3s/step - loss: 0.2598 - accuracy: 0.9195 - val_loss: 0.0810 - val_accuracy: 1.0000\n",
      "Epoch 26/60\n",
      "18/18 [==============================] - 55s 3s/step - loss: 0.2518 - accuracy: 0.9023 - val_loss: 0.2537 - val_accuracy: 0.8500\n",
      "Epoch 27/60\n",
      "18/18 [==============================] - 56s 3s/step - loss: 0.1671 - accuracy: 0.9368 - val_loss: 0.1128 - val_accuracy: 0.9750\n",
      "Epoch 28/60\n",
      "18/18 [==============================] - 57s 3s/step - loss: 0.1168 - accuracy: 0.9598 - val_loss: 0.0935 - val_accuracy: 0.9750\n",
      "Epoch 29/60\n",
      "18/18 [==============================] - 56s 3s/step - loss: 0.1615 - accuracy: 0.9310 - val_loss: 0.0806 - val_accuracy: 0.9750\n",
      "Epoch 30/60\n",
      "18/18 [==============================] - 57s 3s/step - loss: 0.1533 - accuracy: 0.9368 - val_loss: 0.1575 - val_accuracy: 0.9250\n",
      "Epoch 31/60\n",
      "18/18 [==============================] - 55s 3s/step - loss: 0.0849 - accuracy: 0.9713 - val_loss: 0.1602 - val_accuracy: 0.9250\n",
      "Epoch 32/60\n",
      "18/18 [==============================] - 57s 3s/step - loss: 0.0985 - accuracy: 0.9655 - val_loss: 0.1710 - val_accuracy: 0.9250\n",
      "Epoch 33/60\n",
      "18/18 [==============================] - 56s 3s/step - loss: 0.1149 - accuracy: 0.9598 - val_loss: 0.3971 - val_accuracy: 0.8250\n",
      "Epoch 34/60\n",
      "18/18 [==============================] - 56s 3s/step - loss: 0.2060 - accuracy: 0.9195 - val_loss: 0.2189 - val_accuracy: 0.9000\n",
      "Epoch 35/60\n",
      "18/18 [==============================] - 57s 3s/step - loss: 0.0967 - accuracy: 0.9713 - val_loss: 0.4432 - val_accuracy: 0.8250\n",
      "Epoch 36/60\n",
      "18/18 [==============================] - 56s 3s/step - loss: 0.0896 - accuracy: 0.9770 - val_loss: 0.0849 - val_accuracy: 0.9250\n",
      "Epoch 37/60\n",
      "18/18 [==============================] - 56s 3s/step - loss: 0.1527 - accuracy: 0.9310 - val_loss: 0.3631 - val_accuracy: 0.8750\n",
      "Epoch 38/60\n",
      "18/18 [==============================] - 57s 3s/step - loss: 0.1403 - accuracy: 0.9540 - val_loss: 0.4432 - val_accuracy: 0.9000\n",
      "Epoch 39/60\n",
      "18/18 [==============================] - 56s 3s/step - loss: 0.0795 - accuracy: 0.9770 - val_loss: 0.3740 - val_accuracy: 0.8750\n",
      "Epoch 40/60\n",
      "18/18 [==============================] - 56s 3s/step - loss: 0.0911 - accuracy: 0.9655 - val_loss: 0.1372 - val_accuracy: 0.9250\n",
      "Epoch 41/60\n",
      "18/18 [==============================] - 57s 3s/step - loss: 0.0759 - accuracy: 0.9667 - val_loss: 0.3491 - val_accuracy: 0.8250\n",
      "Epoch 42/60\n",
      "18/18 [==============================] - 56s 3s/step - loss: 0.1253 - accuracy: 0.9368 - val_loss: 0.5027 - val_accuracy: 0.8250\n",
      "Epoch 43/60\n",
      "18/18 [==============================] - 57s 3s/step - loss: 0.1520 - accuracy: 0.9425 - val_loss: 0.2056 - val_accuracy: 0.9500\n",
      "Epoch 44/60\n",
      "18/18 [==============================] - 56s 3s/step - loss: 0.1688 - accuracy: 0.9425 - val_loss: 0.1880 - val_accuracy: 0.9750\n",
      "Epoch 45/60\n",
      "18/18 [==============================] - 59s 3s/step - loss: 0.0924 - accuracy: 0.9885 - val_loss: 0.0992 - val_accuracy: 0.9250\n",
      "Epoch 46/60\n",
      "18/18 [==============================] - 57s 3s/step - loss: 0.1050 - accuracy: 0.9713 - val_loss: 0.1898 - val_accuracy: 0.9250\n",
      "Epoch 47/60\n",
      "18/18 [==============================] - 58s 3s/step - loss: 0.1598 - accuracy: 0.9540 - val_loss: 0.1344 - val_accuracy: 0.9750\n",
      "Epoch 48/60\n",
      "18/18 [==============================] - 58s 3s/step - loss: 0.1831 - accuracy: 0.9425 - val_loss: 0.2736 - val_accuracy: 0.8750\n",
      "Epoch 49/60\n",
      "18/18 [==============================] - 57s 3s/step - loss: 0.2060 - accuracy: 0.9253 - val_loss: 0.2891 - val_accuracy: 0.8750\n",
      "Epoch 50/60\n",
      "18/18 [==============================] - 57s 3s/step - loss: 0.1225 - accuracy: 0.9540 - val_loss: 0.1784 - val_accuracy: 0.9250\n",
      "Epoch 51/60\n",
      "18/18 [==============================] - 59s 3s/step - loss: 0.4809 - accuracy: 0.8391 - val_loss: 0.4481 - val_accuracy: 0.8000\n",
      "Epoch 52/60\n",
      "18/18 [==============================] - 58s 3s/step - loss: 0.1717 - accuracy: 0.9483 - val_loss: 1.2014 - val_accuracy: 0.6500\n",
      "Epoch 53/60\n",
      "18/18 [==============================] - 58s 3s/step - loss: 0.1403 - accuracy: 0.9425 - val_loss: 0.5244 - val_accuracy: 0.6750\n",
      "Epoch 54/60\n",
      "18/18 [==============================] - 57s 3s/step - loss: 0.1614 - accuracy: 0.9425 - val_loss: 0.2150 - val_accuracy: 0.8500\n",
      "Epoch 55/60\n",
      "18/18 [==============================] - 58s 3s/step - loss: 0.1781 - accuracy: 0.9540 - val_loss: 0.1607 - val_accuracy: 0.9250\n",
      "Epoch 56/60\n",
      "18/18 [==============================] - 57s 3s/step - loss: 0.3397 - accuracy: 0.8678 - val_loss: 0.4906 - val_accuracy: 0.7500\n",
      "Epoch 57/60\n",
      "18/18 [==============================] - 58s 3s/step - loss: 0.1884 - accuracy: 0.9253 - val_loss: 0.2354 - val_accuracy: 0.9000\n",
      "Epoch 58/60\n",
      "18/18 [==============================] - 58s 3s/step - loss: 0.1428 - accuracy: 0.9425 - val_loss: 0.2828 - val_accuracy: 0.9000\n",
      "Epoch 59/60\n",
      "18/18 [==============================] - 51s 3s/step - loss: 0.1604 - accuracy: 0.9310 - val_loss: 0.2607 - val_accuracy: 0.9000\n",
      "Epoch 60/60\n",
      "18/18 [==============================] - 52s 3s/step - loss: 0.1154 - accuracy: 0.9713 - val_loss: 0.8977 - val_accuracy: 0.8250\n"
     ]
    }
   ],
   "source": [
    "momoModel.load_weights(DEFAULT_WEIGHTS_FILE_PATH)\n",
    "progress = momoModel.fit_generator(\n",
    "        trainGenerator,\n",
    "        steps_per_epoch=trainSteps,\n",
    "        epochs=EPOCHS,\n",
    "        validation_data=testGenerator,\n",
    "        validation_steps=testSteps\n",
    ")"
   ]
  },
  {
   "cell_type": "code",
   "execution_count": 33,
   "metadata": {},
   "outputs": [
    {
     "name": "stdout",
     "output_type": "stream",
     "text": [
      "Processing no_momo  total of images:  21\n",
      "100%|██████████| 21/21 [00:01<00:00, 11.70it/s]\n",
      "Processing momo  total of images:  16\n",
      "100%|██████████| 16/16 [00:01<00:00, 12.07it/s]\n"
     ]
    },
    {
     "data": {
      "image/png": "[encoded data removed]",
      "text/plain": [
       "<Figure size 432x288 with 2 Axes>"
      ]
     },
     "metadata": {
      "needs_background": "light"
     },
     "output_type": "display_data"
    }
   ],
   "source": [
    "momoModel.save_weights( RESULT_FOLDER_WEIGHTS_INCEPTION_V3_PATH + \"weights-v2.h5\")\n",
    "files,eval_preds,eval_Xs,eval_Ys = getDataForConfusionMatrix(RESULT_FOLDER_WEIGHTS_INCEPTION_V3_PATH + \"weights-v2.h5\")\n",
    "createConfusionMatrix(eval_Xs, eval_Ys, classes=getOutputClasses(), normalize=True)"
   ]
  },
  {
   "cell_type": "code",
   "execution_count": 32,
   "metadata": {},
   "outputs": [
    {
     "data": {
      "image/png": "[encoded data removed]",
      "text/plain": [
       "<Figure size 432x288 with 1 Axes>"
      ]
     },
     "metadata": {
      "needs_background": "light"
     },
     "output_type": "display_data"
    },
    {
     "data": {
      "image/png": "[encoded data removed]",
      "text/plain": [
       "<Figure size 432x288 with 1 Axes>"
      ]
     },
     "metadata": {
      "needs_background": "light"
     },
     "output_type": "display_data"
    }
   ],
   "source": [
    "\n",
    "# Acc stats\n",
    "plt.plot(progress.history['accuracy'])\n",
    "plt.plot(progress.history['val_accuracy'])\n",
    "plt.title('model accuracy')\n",
    "plt.ylabel('accuracy')\n",
    "plt.xlabel('epoch')\n",
    "plt.legend(['train', 'test'], loc='upper left')\n",
    "plt.show()\n",
    "\n",
    "# Loss stats\n",
    "plt.plot(progress.history['loss'])\n",
    "plt.plot(progress.history['val_loss'])\n",
    "plt.title('model loss')\n",
    "plt.ylabel('loss')\n",
    "plt.xlabel('epoch')\n",
    "plt.legend(['train', 'test'], loc='upper left')\n",
    "plt.show()"
   ]
  }
 ],
 "metadata": {
  "kernelspec": {
   "display_name": "Python 3",
   "language": "python",
   "name": "python3"
  },
  "language_info": {
   "codemirror_mode": {
    "name": "ipython",
    "version": 3
   },
   "file_extension": ".py",
   "mimetype": "text/x-python",
   "name": "python",
   "nbconvert_exporter": "python",
   "pygments_lexer": "ipython3",
   "version": "3.7.6"
  }
 },
 "nbformat": 4,
 "nbformat_minor": 4
}
