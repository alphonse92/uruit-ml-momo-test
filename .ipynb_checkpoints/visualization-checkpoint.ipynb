{
 "cells": [
  {
   "cell_type": "markdown",
   "metadata": {},
   "source": [
    "# Introduction\n",
    "\n",
    "This Notebook allow to create and visualize the dataset for this project.\n",
    "\n",
    "Some functions was taked from \"Visión por computadora\" workshop by Mauricio Repetto & Waldemar López \n",
    "\n",
    "(https://drive.google.com/file/d/1neqSeyIqdpufL4EtY6jUirUvWGya0Mkp/view?usp=sharing)\n",
    "\n",
    "\n",
    "# Imports"
   ]
  },
  {
   "cell_type": "code",
   "execution_count": 1,
   "metadata": {
    "colab": {},
    "colab_type": "code",
    "id": "bXr9oRv3A9AM"
   },
   "outputs": [],
   "source": [
    "import numpy as np\n",
    "import tensorflow as tf\n",
    "import datetime; \n",
    "import pandas as pd\n",
    "import matplotlib.pyplot as plt\n",
    "import math\n",
    "\n",
    "from shutil import copy2, rmtree, copytree\n",
    "from tqdm import tqdm\n",
    "from sys import stdout\n",
    "from os import listdir, makedirs, remove\n",
    "from os.path import isfile, join, isdir, exists, dirname, abspath\n",
    "from inspect import getsourcefile\n",
    "from tensorflow import keras\n",
    "from numpy.random import seed\n",
    "from sklearn.decomposition import PCA\n",
    "from sklearn.preprocessing import StandardScaler\n",
    "from sklearn.metrics import classification_report, confusion_matrix\n",
    "from itertools import product\n",
    "\n",
    "from PIL import ImageFile\n",
    "ImageFile.LOAD_TRUNCATED_IMAGES = True"
   ]
  },
  {
   "cell_type": "markdown",
   "metadata": {
    "colab_type": "text",
    "id": "OoR-dXgQjVRm"
   },
   "source": [
    "# Downloading dataset from Github"
   ]
  },
  {
   "cell_type": "code",
   "execution_count": 2,
   "metadata": {
    "colab": {},
    "colab_type": "code",
    "id": "EzUBb-HPjVRn"
   },
   "outputs": [
    {
     "name": "stdout",
     "output_type": "stream",
     "text": [
      "Already on 'master'\n",
      "Your branch is up to date with 'origin/master'.\n"
     ]
    }
   ],
   "source": [
    "![ ! -d \"dataset\" ] && echo \"Cloning dataset project from github\" && git clone https://github.com/alphonse92/momo-dataset.git dataset \n",
    "!cd dataset\n",
    "!# Set the dataset branch\n",
    "!git checkout master\n",
    "!# Force to reset if something\n",
    "!git reset --hard\n",
    "!git pull\n",
    "!cd .."
   ]
  },
  {
   "cell_type": "code",
   "execution_count": 3,
   "metadata": {
    "colab": {},
    "colab_type": "code",
    "id": "__Gb10ewA9AQ"
   },
   "outputs": [],
   "source": [
    "# Load Inception V3.\n",
    "\n",
    "InceptionV3             = keras.applications.inception_v3.InceptionV3\n",
    "     \n",
    "preprocess_input        = keras.applications.inception_v3.preprocess_input\n",
    "image                   = keras.preprocessing.image\n",
    "     \n",
    "ImageDataGenerator      = keras.preprocessing.image.ImageDataGenerator\n",
    "Callback                = keras.callbacks\n",
    "     \n",
    "Model                   = keras.models.Model\n",
    "Sequential              = keras.models.Sequential\n",
    "layers                  = keras.layers\n",
    "     \n",
    "Input                   = layers.Input\n",
    "Dense                   = layers.Dense\n",
    "Conv2D                  = layers.Conv2D\n",
    "ZeroPadding2D           = layers.ZeroPadding2D\n",
    "BatchNormalization      = layers.BatchNormalization\n",
    "AveragePooling2D        = layers.AveragePooling2D\n",
    "MaxPooling2D            = layers.MaxPooling2D\n",
    "GlobalAveragePooling2D  = layers.GlobalAveragePooling2D\n",
    "\n",
    "\n"
   ]
  },
  {
   "cell_type": "code",
   "execution_count": 4,
   "metadata": {
    "colab": {},
    "colab_type": "code",
    "id": "Lw7n9uorA9AS"
   },
   "outputs": [],
   "source": [
    "inceptionV3Model = InceptionV3(weights='imagenet', include_top=False, pooling=  'avg')\n",
    "\n",
    "# Uncomment to describe the inception v3 summary model\n",
    "#print(inceptionV3Model.summary())"
   ]
  },
  {
   "cell_type": "markdown",
   "metadata": {
    "colab_type": "text",
    "id": "chxHt9JvA9AV"
   },
   "source": [
    "# Notebook Configuration \n"
   ]
  },
  {
   "cell_type": "code",
   "execution_count": 5,
   "metadata": {
    "colab": {
     "base_uri": "https://localhost:8080/",
     "height": 34
    },
    "colab_type": "code",
    "id": "nKRDESWDA9AV",
    "outputId": "dff9a4df-c699-4f09-ff40-eda37cba2bb8"
   },
   "outputs": [
    {
     "name": "stdout",
     "output_type": "stream",
     "text": [
      "\n"
     ]
    }
   ],
   "source": [
    "# Notebook Configuration\n",
    "USE_INCEPTION_V3_MODEL = True\n",
    "RESET_TRAINING_EXAMPLES = True\n",
    "SAVE_WEIGHTS = True\n",
    "SEED_APP = 9\n",
    "\n",
    "# DATASET PROPORTIONS\n",
    "TRAINING_PERCENTAGE = 0.7\n",
    "TESTING_PERCENTAGE  = 0.15\n",
    "EVAL_PERCENTAGE     = 0.15\n",
    "\n",
    "# HYPERPARAMETERS\n",
    "CRITERIA_THRESHOLD = 0.1\n",
    "EPOCHS = 25\n",
    "BATCH_SIZE = 15\n",
    "IMG_W = IMG_H = 299\n",
    "\n",
    "# MODEL CHECKPOINTS CONFIGURATION\n",
    "SAVE_CHECKPOINTS = 5\n",
    "SAVE_WEIGHTS_FREQUENCY = 'epoch'\n",
    "SAVE_WEIGTHS_PERIOD = EPOCHS // SAVE_CHECKPOINTS\n",
    "\n",
    "# COLAB SCOPE\n",
    "GOOGLE_COLLAB = False                                                            # Default value. You should not modify this\n",
    "GOOGLE_RESET_CONTENT_TREE = True                                                 # Reset the dataset content tree. It means remove and re copy the data from drive\n",
    "MOUNT = \"./\"                                                                     # Base path of this project. You may not change this value   \n",
    "G_MOUNT = \"/content/drive\"                                                       # Set where the drive folder will be mounted\n",
    "G_PROJECT_PATH = G_MOUNT+ \"/My Drive/Colab Notebooks/uruit-ml-momo-test/\"        # Set the pathe where momo project is \n",
    "\n",
    "# If colab instance, then build the content tree\n",
    "try:\n",
    "  import google.colab\n",
    "  from google.colab import drive\n",
    "  drive.mount('/content/drive', force_remount=GOOGLE_RESET_CONTENT_TREE)\n",
    "  GOOGLE_COLLAB = True\n",
    "except:\n",
    "  GOOGLE_COLLAB = False\n",
    "  print(tf.test.gpu_device_name())\n",
    "  "
   ]
  },
  {
   "cell_type": "markdown",
   "metadata": {
    "colab_type": "text",
    "id": "3Pp1IbKlA9AX"
   },
   "source": [
    "# Variables"
   ]
  },
  {
   "cell_type": "code",
   "execution_count": 35,
   "metadata": {
    "colab": {
     "base_uri": "https://localhost:8080/",
     "height": 34
    },
    "colab_type": "code",
    "id": "cLOM_Um3A9AY",
    "outputId": "e26a2d9c-c718-4a56-f7e1-88eda1c988e6"
   },
   "outputs": [
    {
     "name": "stdout",
     "output_type": "stream",
     "text": [
      "./dataset/basic/\n"
     ]
    }
   ],
   "source": [
    "\n",
    "\n",
    "\n",
    "tf.random.set_seed(SEED_APP)\n",
    "\n",
    "MOMO_CLASSNAME    = \"momo\"\n",
    "NO_MOMO_CLASSNAME = \"no_momo\"\n",
    "\n",
    "DATASET_PATH = join(MOUNT, \"dataset/\")\n",
    "RESULT_FOLDER_PATH = join(MOUNT,\"result/\")\n",
    "VISUALIZATION_FOLDER = RESULT_FOLDER_PATH + \"basic-predictions/\"\n",
    "VISUALIZATION_LATEST_RESULT_FOLDER = \"latest/\"\n",
    "RESULT_FOLDER_WEIGHTS_INCEPTION_V3_PATH = RESULT_FOLDER_PATH + \"inception_v3/\"\n",
    "DATESET_BASIC_PATH    = join(DATASET_PATH,'basic/')\n",
    "DATESET_TRAINING_PATH = join(DATASET_PATH,'train/')\n",
    "DATESET_TESTING_PATH  = join(DATASET_PATH,'test/')\n",
    "DATESET_EVAL_PATH     = join(DATASET_PATH,'eval/')\n",
    "\n",
    "\n",
    "DEFAULT_WEIGHTS_FILE_PATH = RESULT_FOLDER_WEIGHTS_INCEPTION_V3_PATH + 'weights.h5'\n",
    "\n",
    "print(DATESET_BASIC_PATH)"
   ]
  },
  {
   "cell_type": "markdown",
   "metadata": {},
   "source": [
    "## Functions"
   ]
  },
  {
   "cell_type": "code",
   "execution_count": 44,
   "metadata": {},
   "outputs": [],
   "source": [
    "def getFolders(path):\n",
    "    return [d for d in listdir(path) if isdir(join(path, d))]\n",
    "\n",
    "def getFolderFiles(path: str):\n",
    "    return [f for f in listdir(path) if isfile(join(path, f))]  \n",
    "\n",
    "\n",
    "def predict(path: str) -> np.array:\n",
    "    img = image.load_img(path, target_size=(299, 299))\n",
    "    # Size  (299, 299, 3)\n",
    "    imgArray = image.img_to_array(img) \n",
    "    \n",
    "    # Size  (1, 299, 299, 3)\n",
    "    expandedImgArray = np.expand_dims(imgArray, axis=0) \n",
    "    \n",
    "    # Preproces to inceptionV3, normalize each pixel RGB value to an scale of zero to one\n",
    "    processedImgArray = preprocess_input(expandedImgArray) \n",
    "    \n",
    "    return inceptionV3Model.predict(processedImgArray)\n",
    "\n",
    "def getTimestamp():\n",
    "    return datetime.datetime.now().timestamp()\n",
    "    \n",
    "def getRandomExample(xClass:str):\n",
    "\n",
    "    exampleFileList = getFolderFiles(DATESET_BASIC_PATH + xClass)\n",
    "    \n",
    "    rndIndex = np.random.randint(0,len(exampleFileList))\n",
    "    filename = exampleFileList[rndIndex]\n",
    "    return join(DATESET_BASIC_PATH,xClass,filename)\n",
    "\n",
    "def getClasses():\n",
    "    return getFolders(DATESET_BASIC_PATH)\n",
    "    \n",
    "def createFolderIfNotExist(folderPath):\n",
    "    if not exists(folderPath):\n",
    "        makedirs(folderPath)\n",
    "\n",
    "def deleteIfExist(filepath):\n",
    "    if exists(filepath):\n",
    "        remove(filepath)\n",
    "\n",
    "def saveInFileIfNotExist(filepath: str, content: str):\n",
    "  \n",
    "    # Create (or not) the result folder\n",
    "    createFolderIfNotExist(dirname(filepath))\n",
    "    \n",
    "    with open(filepath, mode=\"a\") as f:\n",
    "        f.write(content + '\\n')\n",
    "        \n",
    "def saveResultFiles(filename,text):\n",
    "    \n",
    "    checkpointPredictionsPath  = VISUALIZATION_FOLDER + str(getTimestamp()) + \"/\"\n",
    "    CHECKPOINT_FILEPATH        = checkpointPredictionsPath + filename\n",
    "    saveInFileIfNotExist(CHECKPOINT_FILEPATH,text) \n",
    "    \n",
    "    \n",
    "    LATEST_FOLDER_PATH     = VISUALIZATION_FOLDER + VISUALIZATION_LATEST_RESULT_FOLDER\n",
    "    LATEST_FILE_PATH       = LATEST_FOLDER_PATH  + filename\n",
    "    deleteIfExist(LATEST_FILE_PATH)\n",
    "    saveInFileIfNotExist(LATEST_FILE_PATH, text) \n",
    "        \n",
    "        "
   ]
  },
  {
   "cell_type": "markdown",
   "metadata": {},
   "source": [
    "# Observe a single example"
   ]
  },
  {
   "cell_type": "code",
   "execution_count": 8,
   "metadata": {},
   "outputs": [
    {
     "name": "stdout",
     "output_type": "stream",
     "text": [
      "Momo class random file path [[0.55228573 0.8848897  0.43186566 ... 0.545951   0.63175106 0.49354166]]\n"
     ]
    },
    {
     "data": {
      "text/plain": [
       "array([[0.55228573, 0.8848897 , 0.43186566, ..., 0.545951  , 0.63175106,\n",
       "        0.49354166]], dtype=float32)"
      ]
     },
     "execution_count": 8,
     "metadata": {},
     "output_type": "execute_result"
    }
   ],
   "source": [
    "np.random.seed(SEED_APP)\n",
    "\n",
    "CLASSES = getClasses()\n",
    "RANDOM_POSITIVE_EXAMPLE_PATH = getRandomExample(\"momo\")\n",
    "RANDOM_POSITIVE_EXAMPLE_FILE = predict(RANDOM_POSITIVE_EXAMPLE_PATH)\n",
    "print(\"Momo class random file path\" , RANDOM_POSITIVE_EXAMPLE_FILE)\n",
    "\n",
    "predict(RANDOM_POSITIVE_EXAMPLE_PATH)\n"
   ]
  },
  {
   "cell_type": "markdown",
   "metadata": {},
   "source": [
    "# Create a CSV to visualize dataset data"
   ]
  },
  {
   "cell_type": "code",
   "execution_count": 9,
   "metadata": {},
   "outputs": [
    {
     "name": "stdout",
     "output_type": "stream",
     "text": [
      "Processing meme...\n",
      "100%|██████████| 60/60 [00:08<00:00,  7.50it/s]\n",
      "Processing person...\n",
      "100%|██████████| 88/88 [00:08<00:00, 10.07it/s]\n",
      "Processing momo...\n",
      "100%|██████████| 434/434 [00:39<00:00, 11.08it/s]\n"
     ]
    }
   ],
   "source": [
    "\n",
    "# Create the folder structure to save the lates and an a checkpoint\n",
    "CSV_NAME = \"result.csv\"\n",
    "saveResultFiles(CSV_NAME, \"class;image_name;predictions\") \n",
    "\n",
    "for _class_ in CLASSES:\n",
    "    classFolderPath = join(DATESET_BASIC_PATH, _class_)\n",
    "    imagePaths = getFolderFiles(classFolderPath)\n",
    "    \n",
    "    print(f\"Processing {_class_}...\")\n",
    "    \n",
    "    for imgName in tqdm(imagePaths, file=stdout):\n",
    "        imagePath = join(classFolderPath, imgName)\n",
    "        # Inception V3 return an array of (1,2048)\n",
    "        try:\n",
    "            predictions = predict(imagePath)\n",
    "\n",
    "            # Get a CSV row for the current class,image and prediction\n",
    "            csvRow = f'\"{_class_}\";\"{imgName}\";\"{\",\".join([ str(pred) for pred in predictions[0]])}\"'\n",
    "            saveResultFiles(CSV_NAME, csvRow) \n",
    "\n",
    "        except Exception:\n",
    "            print(\"\\nCan't to load: \" , imagePath, \"Please check your dataset and remove it if it is required\\n\")\n",
    "            \n"
   ]
  },
  {
   "cell_type": "code",
   "execution_count": 43,
   "metadata": {},
   "outputs": [
    {
     "name": "stdout",
     "output_type": "stream",
     "text": [
      "Loading latest csv: ./result/basic-predictions/latest/result.csv\n"
     ]
    },
    {
     "data": {
      "text/html": [
       "<div>\n",
       "<style scoped>\n",
       "    .dataframe tbody tr th:only-of-type {\n",
       "        vertical-align: middle;\n",
       "    }\n",
       "\n",
       "    .dataframe tbody tr th {\n",
       "        vertical-align: top;\n",
       "    }\n",
       "\n",
       "    .dataframe thead th {\n",
       "        text-align: right;\n",
       "    }\n",
       "</style>\n",
       "<table border=\"1\" class=\"dataframe\">\n",
       "  <thead>\n",
       "    <tr style=\"text-align: right;\">\n",
       "      <th></th>\n",
       "      <th>class</th>\n",
       "      <th>image_name</th>\n",
       "      <th>predictions</th>\n",
       "    </tr>\n",
       "  </thead>\n",
       "  <tbody>\n",
       "    <tr>\n",
       "      <th>0</th>\n",
       "      <td>meme</td>\n",
       "      <td>meme_tmplimage59.jpg</td>\n",
       "      <td>0.37360469,0.09190824,0.004368141,0.31041825,1...</td>\n",
       "    </tr>\n",
       "    <tr>\n",
       "      <th>1</th>\n",
       "      <td>meme</td>\n",
       "      <td>meme_tmplimage9.jpg</td>\n",
       "      <td>0.43767205,0.22983317,0.00991118,0.44174778,0....</td>\n",
       "    </tr>\n",
       "    <tr>\n",
       "      <th>2</th>\n",
       "      <td>meme</td>\n",
       "      <td>meme_tmplimage71.jpg</td>\n",
       "      <td>0.51454926,0.57877517,0.05983212,0.074780315,0...</td>\n",
       "    </tr>\n",
       "    <tr>\n",
       "      <th>3</th>\n",
       "      <td>meme</td>\n",
       "      <td>meme_tmplimage65.jpg</td>\n",
       "      <td>0.19602767,0.2568739,0.06481302,0.1758996,0.89...</td>\n",
       "    </tr>\n",
       "    <tr>\n",
       "      <th>4</th>\n",
       "      <td>meme</td>\n",
       "      <td>meme_tmplimage70.jpg</td>\n",
       "      <td>0.069468334,0.4723937,0.16628663,0.09185074,0....</td>\n",
       "    </tr>\n",
       "  </tbody>\n",
       "</table>\n",
       "</div>"
      ],
      "text/plain": [
       "  class            image_name  \\\n",
       "0  meme  meme_tmplimage59.jpg   \n",
       "1  meme   meme_tmplimage9.jpg   \n",
       "2  meme  meme_tmplimage71.jpg   \n",
       "3  meme  meme_tmplimage65.jpg   \n",
       "4  meme  meme_tmplimage70.jpg   \n",
       "\n",
       "                                         predictions  \n",
       "0  0.37360469,0.09190824,0.004368141,0.31041825,1...  \n",
       "1  0.43767205,0.22983317,0.00991118,0.44174778,0....  \n",
       "2  0.51454926,0.57877517,0.05983212,0.074780315,0...  \n",
       "3  0.19602767,0.2568739,0.06481302,0.1758996,0.89...  \n",
       "4  0.069468334,0.4723937,0.16628663,0.09185074,0....  "
      ]
     },
     "execution_count": 43,
     "metadata": {},
     "output_type": "execute_result"
    }
   ],
   "source": [
    "LATEST_RESULT_CSV_PATH =  VISUALIZATION_FOLDER + VISUALIZATION_LATEST_RESULT_FOLDER + \"result.csv\"\n",
    "print(\"Loading latest csv:\" , LATEST_RESULT_CSV_PATH)\n",
    "\n",
    "# Create dataframe with pandas\n",
    "df = pd.read_csv(LATEST_RESULT_CSV_PATH, sep=';')\n",
    "\n",
    "# Check the head\n",
    "df.head()\n",
    "\n",
    "\n"
   ]
  },
  {
   "cell_type": "code",
   "execution_count": 11,
   "metadata": {},
   "outputs": [
    {
     "name": "stdout",
     "output_type": "stream",
     "text": [
      "vectors (582, 2048)\n"
     ]
    }
   ],
   "source": [
    "# Get the predictions as float\n",
    "df['predictions_float'] = df['predictions'].apply(lambda x: np.array([float(str_dim) for str_dim in x.split(',')], dtype=np.float32))\n",
    "\n",
    "# Save as np array the predictions per record\n",
    "vectors = np.array(df['predictions_float'].tolist())\n",
    "\n",
    "# Print the size (m,2048) where m is the length of our dataset. and 2048 is the predictions\n",
    "# For each class in inception\n",
    "print(\"vectors\" , vectors.shape)\n",
    "\n",
    "resultLabelsFileName = \"result_labels.tsv\"\n",
    "resultEmbdingsFilename = \"result_embdings.tsv\"\n",
    "\n",
    "# Write the labels tsv file\n",
    "saveResultFiles(resultLabelsFileName ,\"Index\\tLabel\\n\")\n",
    "for index,(file, label) in enumerate(zip(df.image_name, df[\"class\"])):\n",
    "    saveResultFiles(resultLabelsFileName, f'{label} - {file}\\t{label}\\n')\n",
    "\n",
    "# Write the vectors TSV file\n",
    "for dims in vectors:\n",
    "    saveResultFiles(resultEmbdingsFilename,'\\t'.join([str(dim) for dim in dims])+'\\n')"
   ]
  },
  {
   "cell_type": "markdown",
   "metadata": {},
   "source": [
    "# Visualize the data using tensorflow embding projection\n",
    "\n",
    "This tool allow to users to visualize him data. Use the last folder in result/basic-predictions/\n",
    "\n",
    "## Steps\n",
    "\n",
    "1. Click on Load buttom\n",
    "2. In step 1 select the file `result_embdings.tsv`\n",
    "3. In step 2 select the file `result_labels.tsv`\n",
    "4. Click outside the modal\n",
    "\n",
    "You should see something like this:\n",
    "\n",
    "![screenshot using tf embding projector](./docs/tensorflowEmbdingProjector.png)"
   ]
  },
  {
   "cell_type": "markdown",
   "metadata": {},
   "source": [
    "# PCA 2 dimension Visualization "
   ]
  },
  {
   "cell_type": "code",
   "execution_count": 12,
   "metadata": {},
   "outputs": [],
   "source": [
    "# Scaling the data before\n",
    "vectors_std = StandardScaler().fit_transform(vectors)"
   ]
  },
  {
   "cell_type": "code",
   "execution_count": 13,
   "metadata": {},
   "outputs": [
    {
     "data": {
      "text/plain": [
       "array([[3.73604685e-01, 9.19082388e-02, 4.36814083e-03, ...,\n",
       "        5.88361546e-03, 3.38844806e-01, 2.94581838e-02],\n",
       "       [4.37672049e-01, 2.29833171e-01, 9.91117954e-03, ...,\n",
       "        1.14202768e-01, 2.80727208e-01, 2.40652144e-01],\n",
       "       [5.14549255e-01, 5.78775167e-01, 5.98321185e-02, ...,\n",
       "        4.11029488e-01, 5.15095770e-01, 2.79301882e-01],\n",
       "       ...,\n",
       "       [6.57679066e-02, 1.56305954e-01, 4.48732644e-01, ...,\n",
       "        1.06274365e-02, 6.69762313e-01, 1.07211709e+00],\n",
       "       [1.91122770e-01, 2.20589042e-01, 5.84478796e-01, ...,\n",
       "        2.50498563e-01, 6.63940489e-01, 7.08679259e-01],\n",
       "       [1.53123602e-01, 1.02330245e-01, 4.17783624e-04, ...,\n",
       "        3.20425898e-01, 5.95992267e-01, 4.54699323e-02]], dtype=float32)"
      ]
     },
     "execution_count": 13,
     "metadata": {},
     "output_type": "execute_result"
    }
   ],
   "source": [
    "vectors[0:10]"
   ]
  },
  {
   "cell_type": "code",
   "execution_count": 14,
   "metadata": {},
   "outputs": [
    {
     "data": {
      "text/plain": [
       "array([[-0.17097917, -1.1451987 , -0.85773593, ..., -1.5633544 ,\n",
       "        -0.22198527, -1.1689783 ],\n",
       "       [ 0.06159008, -0.608786  , -0.8361486 , ..., -1.2438059 ,\n",
       "        -0.37138653, -0.36245617],\n",
       "       [ 0.34065998,  0.74830675, -0.6417317 , ..., -0.3681476 ,\n",
       "         0.23109804, -0.21485788],\n",
       "       ...,\n",
       "       [-1.2884493 , -0.8947454 ,  0.8728396 , ..., -1.5493599 ,\n",
       "         0.6286949 ,  2.8128002 ],\n",
       "       [-0.8334019 , -0.6447379 ,  1.4015024 , ..., -0.84172434,\n",
       "         0.6137289 ,  1.4248784 ],\n",
       "       [-0.97134167, -1.1046658 , -0.8731206 , ..., -0.63543415,\n",
       "         0.43905634, -1.1078316 ]], dtype=float32)"
      ]
     },
     "execution_count": 14,
     "metadata": {},
     "output_type": "execute_result"
    }
   ],
   "source": [
    "vectors_std[0:10]"
   ]
  },
  {
   "cell_type": "code",
   "execution_count": 15,
   "metadata": {},
   "outputs": [
    {
     "name": "stdout",
     "output_type": "stream",
     "text": [
      "(582, 2)\n"
     ]
    },
    {
     "data": {
      "text/plain": [
       "array([0.06608571, 0.05315619], dtype=float32)"
      ]
     },
     "execution_count": 15,
     "metadata": {},
     "output_type": "execute_result"
    }
   ],
   "source": [
    "pca = PCA(n_components=2)\n",
    "principalComponents = pca.fit_transform(vectors_std)\n",
    "print(principalComponents.shape)\n",
    "pca.explained_variance_ratio_"
   ]
  },
  {
   "cell_type": "code",
   "execution_count": 16,
   "metadata": {},
   "outputs": [
    {
     "data": {
      "image/png": "[encoded data removed]",
      "text/plain": [
       "<Figure size 576x576 with 1 Axes>"
      ]
     },
     "metadata": {
      "needs_background": "light"
     },
     "output_type": "display_data"
    }
   ],
   "source": [
    "# Plotting using matplot lib\n",
    "\n",
    "fig = plt.figure(figsize = (8,8))\n",
    "ax = fig.add_subplot(1,1,1) \n",
    "\n",
    "ax.set_xlabel('Principal Component 1', fontsize = 15)\n",
    "ax.set_ylabel('Principal Component 2', fontsize = 15)\n",
    "\n",
    "ax.set_title('2 component PCA', fontsize = 20)\n",
    "\n",
    "targets = getClasses()\n",
    "colors = ['r', 'g', 'b']\n",
    "for target, color in zip(targets,colors):\n",
    "    indicesToKeep = df['class'] == target    \n",
    "    ax.scatter(principalComponents[indicesToKeep][:,0:1]\n",
    "               , principalComponents[indicesToKeep][:,1:2]\n",
    "               , c = color\n",
    "               , s = 10)\n",
    "ax.legend(targets)\n",
    "ax.grid()"
   ]
  }
 ],
 "metadata": {
  "kernelspec": {
   "display_name": "Python 3",
   "language": "python",
   "name": "python3"
  },
  "language_info": {
   "codemirror_mode": {
    "name": "ipython",
    "version": 3
   },
   "file_extension": ".py",
   "mimetype": "text/x-python",
   "name": "python",
   "nbconvert_exporter": "python",
   "pygments_lexer": "ipython3",
   "version": "3.7.6"
  }
 },
 "nbformat": 4,
 "nbformat_minor": 4
}
