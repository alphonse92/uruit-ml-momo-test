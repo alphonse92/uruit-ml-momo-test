{
 "cells": [
  {
   "cell_type": "markdown",
   "metadata": {},
   "source": [
    "# Introduction\n",
    "\n",
    "This Notebook allow to create and visualize the dataset for this project.\n",
    "\n",
    "Some functions was taked from \"Visión por computadora\" workshop by Mauricio Repetto & Waldemar López \n",
    "\n",
    "(https://drive.google.com/file/d/1neqSeyIqdpufL4EtY6jUirUvWGya0Mkp/view?usp=sharing)\n",
    "\n",
    "\n",
    "# Imports"
   ]
  },
  {
   "cell_type": "code",
   "execution_count": 1,
   "metadata": {},
   "outputs": [],
   "source": [
    "import numpy as np\n",
    "import tensorflow as tf\n",
    "import datetime; \n",
    "import pandas as pd\n",
    "import matplotlib.pyplot as plt\n",
    "\n",
    "from tqdm import tqdm\n",
    "from sys import stdout\n",
    "from os import listdir, makedirs, remove\n",
    "from os.path import isfile, join, isdir, exists, dirname\n",
    "from tensorflow import keras\n",
    "from numpy.random import seed\n",
    "from sklearn.decomposition import PCA\n",
    "from sklearn.preprocessing import StandardScaler\n",
    "\n",
    "# Project modules below\n",
    "from lib import util"
   ]
  },
  {
   "cell_type": "code",
   "execution_count": 2,
   "metadata": {},
   "outputs": [],
   "source": [
    "# Load Inception V3.\n",
    "\n",
    "InceptionV3      = keras.applications.inception_v3.InceptionV3\n",
    "preprocess_input = keras.applications.inception_v3.preprocess_input\n",
    "image            = keras.preprocessing.image\n"
   ]
  },
  {
   "cell_type": "code",
   "execution_count": 3,
   "metadata": {},
   "outputs": [],
   "source": [
    "inceptionV3Model = InceptionV3(weights='imagenet', include_top=False, pooling=  'avg')\n",
    "# Uncomment to describe the inception v3 summary model\n",
    "#print(inceptionV3Model.summary())"
   ]
  },
  {
   "cell_type": "markdown",
   "metadata": {},
   "source": [
    "# Setup Util variables And Functions"
   ]
  },
  {
   "cell_type": "markdown",
   "metadata": {},
   "source": [
    "## Variables"
   ]
  },
  {
   "cell_type": "code",
   "execution_count": 4,
   "metadata": {},
   "outputs": [
    {
     "name": "stdout",
     "output_type": "stream",
     "text": [
      "./dataset/basic/\n"
     ]
    }
   ],
   "source": [
    "SEED_APP = 123\n",
    "tf.random.set_seed(SEED_APP)\n",
    "\n",
    "MOUNT = \"./\"\n",
    "DATASET_PATH = join(MOUNT, \"dataset/\")\n",
    "RESULT_FOLDER_PATH = join(MOUNT,\"result/\")\n",
    "\n",
    "DATESET_BASIC_PATH = join(DATASET_PATH,'basic/')\n",
    "\n",
    "print(DATESET_BASIC_PATH)"
   ]
  },
  {
   "cell_type": "markdown",
   "metadata": {},
   "source": [
    "## Functions"
   ]
  },
  {
   "cell_type": "code",
   "execution_count": 5,
   "metadata": {},
   "outputs": [],
   "source": [
    "def getFolders(path):\n",
    "    return [d for d in listdir(path) if isdir(join(path, d))]\n",
    "\n",
    "def getFolderFiles(path: str):\n",
    "    return [f for f in listdir(path) if isfile(join(path, f))]  \n",
    "\n",
    "\n",
    "def predict(path: str) -> np.array:\n",
    "    img = image.load_img(path, target_size=(299, 299))\n",
    "    # Size  (299, 299, 3)\n",
    "    imgArray = image.img_to_array(img) \n",
    "    \n",
    "    # Size  (1, 299, 299, 3)\n",
    "    expandedImgArray = np.expand_dims(imgArray, axis=0) \n",
    "    \n",
    "    # Preproces to inceptionV3, normalize each pixel RGB value to an scale of zero to one\n",
    "    processedImgArray = preprocess_input(expandedImgArray) \n",
    "    \n",
    "    return inceptionV3Model.predict(processedImgArray)\n",
    "\n",
    "def getTimestamp():\n",
    "    return datetime.datetime.now().timestamp()\n",
    "    \n",
    "def getRandomExample(xClass:str):\n",
    "\n",
    "    exampleFileList = getFolderFiles(DATESET_BASIC_PATH + xClass)\n",
    "    \n",
    "    rndIndex = np.random.randint(0,len(exampleFileList))\n",
    "    filename = exampleFileList[rndIndex]\n",
    "    return join(DATESET_BASIC_PATH,xClass,filename)\n",
    "\n",
    "def getClasses():\n",
    "    return getFolders(DATESET_BASIC_PATH)\n",
    "    \n",
    "def createFolderIfNotExist(folderPath):\n",
    "    if not exists(folderPath):\n",
    "        makedirs(folderPath)\n",
    "\n",
    "def deleteIfExist(filepath):\n",
    "    if exists(filepath):\n",
    "        remove(filepath)\n",
    "\n",
    "def saveInFileIfNotExist(filepath: str, content: str):\n",
    "  \n",
    "    # Create (or not) the result folder\n",
    "    createFolderIfNotExist(dirname(filepath))\n",
    "    \n",
    "    with open(filepath, mode=\"a\") as f:\n",
    "        f.write(content + '\\n')\n",
    "        "
   ]
  },
  {
   "cell_type": "markdown",
   "metadata": {},
   "source": [
    "# Observe a single example"
   ]
  },
  {
   "cell_type": "code",
   "execution_count": 6,
   "metadata": {},
   "outputs": [
    {
     "name": "stdout",
     "output_type": "stream",
     "text": [
      "Momo class random file path [[0.19734913 0.45167    0.06192229 ... 0.13883413 0.17555334 0.6870728 ]]\n"
     ]
    },
    {
     "data": {
      "text/plain": [
       "array([[0.19734913, 0.45167   , 0.06192229, ..., 0.13883413, 0.17555334,\n",
       "        0.6870728 ]], dtype=float32)"
      ]
     },
     "execution_count": 6,
     "metadata": {},
     "output_type": "execute_result"
    }
   ],
   "source": [
    "np.random.seed(SEED_APP)\n",
    "\n",
    "CLASSES = getClasses()\n",
    "RANDOM_POSITIVE_EXAMPLE_PATH = getRandomExample(\"momo\")\n",
    "RANDOM_POSITIVE_EXAMPLE_FILE = predict(RANDOM_POSITIVE_EXAMPLE_PATH)\n",
    "print(\"Momo class random file path\" , RANDOM_POSITIVE_EXAMPLE_FILE)\n",
    "\n",
    "predict(RANDOM_POSITIVE_EXAMPLE_PATH)\n"
   ]
  },
  {
   "cell_type": "markdown",
   "metadata": {},
   "source": [
    "# Create a CSV to visualize dataset data"
   ]
  },
  {
   "cell_type": "code",
   "execution_count": 7,
   "metadata": {},
   "outputs": [
    {
     "name": "stdout",
     "output_type": "stream",
     "text": [
      "Processing meme...\n",
      "100%|██████████| 60/60 [00:05<00:00, 11.28it/s]\n",
      "Processing person...\n",
      "100%|██████████| 88/88 [00:08<00:00, 10.46it/s]\n",
      "Processing momo...\n",
      "100%|██████████| 113/113 [00:09<00:00, 12.13it/s]\n"
     ]
    }
   ],
   "source": [
    "\n",
    "CSV_PATH = RESULT_FOLDER_PATH + \"basic-predictions/\" + str(getTimestamp()) + \"/result.csv\"\n",
    "\n",
    "# Write in the file the csv Hheaders\n",
    "saveInFileIfNotExist(CSV_PATH, \"class;image_name;predictions\") \n",
    "\n",
    "for _class_ in CLASSES:\n",
    "    classFolderPath = join(DATESET_BASIC_PATH, _class_)\n",
    "    imagePaths = getFolderFiles(classFolderPath)\n",
    "    \n",
    "    print(f\"Processing {_class_}...\")\n",
    "    \n",
    "    for imgName in tqdm(imagePaths, file=stdout):\n",
    "        imagePath = join(classFolderPath, imgName)\n",
    "        # Inception V3 return an array of (1,2048)\n",
    "        predictions = predict(imagePath)\n",
    "        \n",
    "        # Get a CSV row for the current class,image and prediction\n",
    "        csvRow = f'\"{_class_}\";\"{imgName}\";\"{\",\".join([ str(pred) for pred in predictions[0]])}\"'\n",
    "        saveInFileIfNotExist(CSV_PATH, csvRow)\n"
   ]
  },
  {
   "cell_type": "code",
   "execution_count": 8,
   "metadata": {},
   "outputs": [
    {
     "name": "stdout",
     "output_type": "stream",
     "text": [
      "loading csv: ./result/basic-predictions/1598053082.365445/result.csv\n"
     ]
    },
    {
     "data": {
      "text/html": [
       "<div>\n",
       "<style scoped>\n",
       "    .dataframe tbody tr th:only-of-type {\n",
       "        vertical-align: middle;\n",
       "    }\n",
       "\n",
       "    .dataframe tbody tr th {\n",
       "        vertical-align: top;\n",
       "    }\n",
       "\n",
       "    .dataframe thead th {\n",
       "        text-align: right;\n",
       "    }\n",
       "</style>\n",
       "<table border=\"1\" class=\"dataframe\">\n",
       "  <thead>\n",
       "    <tr style=\"text-align: right;\">\n",
       "      <th></th>\n",
       "      <th>class</th>\n",
       "      <th>image_name</th>\n",
       "      <th>predictions</th>\n",
       "    </tr>\n",
       "  </thead>\n",
       "  <tbody>\n",
       "    <tr>\n",
       "      <th>0</th>\n",
       "      <td>meme</td>\n",
       "      <td>meme_tmplimage59.jpg</td>\n",
       "      <td>0.37360469,0.09190824,0.004368141,0.31041825,1...</td>\n",
       "    </tr>\n",
       "    <tr>\n",
       "      <th>1</th>\n",
       "      <td>meme</td>\n",
       "      <td>meme_tmplimage9.jpg</td>\n",
       "      <td>0.43767205,0.22983317,0.00991118,0.44174778,0....</td>\n",
       "    </tr>\n",
       "    <tr>\n",
       "      <th>2</th>\n",
       "      <td>meme</td>\n",
       "      <td>meme_tmplimage71.jpg</td>\n",
       "      <td>0.51454926,0.57877517,0.05983212,0.074780315,0...</td>\n",
       "    </tr>\n",
       "    <tr>\n",
       "      <th>3</th>\n",
       "      <td>meme</td>\n",
       "      <td>meme_tmplimage65.jpg</td>\n",
       "      <td>0.19602767,0.2568739,0.06481302,0.1758996,0.89...</td>\n",
       "    </tr>\n",
       "    <tr>\n",
       "      <th>4</th>\n",
       "      <td>meme</td>\n",
       "      <td>meme_tmplimage70.jpg</td>\n",
       "      <td>0.069468334,0.4723937,0.16628663,0.09185074,0....</td>\n",
       "    </tr>\n",
       "  </tbody>\n",
       "</table>\n",
       "</div>"
      ],
      "text/plain": [
       "  class            image_name  \\\n",
       "0  meme  meme_tmplimage59.jpg   \n",
       "1  meme   meme_tmplimage9.jpg   \n",
       "2  meme  meme_tmplimage71.jpg   \n",
       "3  meme  meme_tmplimage65.jpg   \n",
       "4  meme  meme_tmplimage70.jpg   \n",
       "\n",
       "                                         predictions  \n",
       "0  0.37360469,0.09190824,0.004368141,0.31041825,1...  \n",
       "1  0.43767205,0.22983317,0.00991118,0.44174778,0....  \n",
       "2  0.51454926,0.57877517,0.05983212,0.074780315,0...  \n",
       "3  0.19602767,0.2568739,0.06481302,0.1758996,0.89...  \n",
       "4  0.069468334,0.4723937,0.16628663,0.09185074,0....  "
      ]
     },
     "execution_count": 8,
     "metadata": {},
     "output_type": "execute_result"
    }
   ],
   "source": [
    "print(\"loading csv:\" ,CSV_PATH)\n",
    "\n",
    "# Create dataframe with pandas\n",
    "df = pd.read_csv(CSV_PATH, sep=';')\n",
    "\n",
    "# Check the head\n",
    "df.head()\n",
    "\n"
   ]
  },
  {
   "cell_type": "code",
   "execution_count": 9,
   "metadata": {},
   "outputs": [
    {
     "name": "stdout",
     "output_type": "stream",
     "text": [
      "vectors (261, 2048)\n"
     ]
    }
   ],
   "source": [
    "# Get the predictions as float\n",
    "df['predictions_float'] = df['predictions'].apply(lambda x: np.array([float(str_dim) for str_dim in x.split(',')], dtype=np.float32))\n",
    "\n",
    "# Save as np array the predictions per record\n",
    "vectors = np.array(df['predictions_float'].tolist())\n",
    "\n",
    "# Print the size (m,2048) where m is the length of our dataset. and 2048 is the predictions\n",
    "# For each class in inception\n",
    "print(\"vectors\" , vectors.shape)\n",
    "\n",
    "folderResults       = dirname(CSV_PATH)\n",
    "filenameTsvLabels   = folderResults + \"/\" + \"result_labels.tsv\" \n",
    "filenameTsvEmbdings = folderResults + \"/\" + \"result_embdings.tsv\" \n",
    "\n",
    "deleteIfExist(filenameTsvLabels)\n",
    "deleteIfExist(filenameTsvEmbdings)\n",
    "\n",
    "with open(filenameTsvLabels,'w') as f:\n",
    "    f.write(\"Index\\tLabel\\n\")\n",
    "    for index,(file, label) in enumerate(zip(df.image_name, df[\"class\"])):\n",
    "        f.write(f'{label} - {file}\\t{label}\\n')\n",
    "\n",
    "        \n",
    "with open(filenameTsvEmbdings,'w') as f:\n",
    "    for dims in vectors:\n",
    "        f.write('\\t'.join([str(dim) for dim in dims])+'\\n')"
   ]
  },
  {
   "cell_type": "markdown",
   "metadata": {},
   "source": [
    "# Visualize the data using tensorflow embding projection\n",
    "\n",
    "This tool allow to users to visualize him data. Use the last folder in result/basic-predictions/\n",
    "\n",
    "## Steps\n",
    "\n",
    "1. Click on Load buttom\n",
    "2. In step 1 select the file `result_embdings.tsv`\n",
    "3. In step 2 select the file `result_labels.tsv`\n",
    "4. Click outside the modal\n",
    "\n",
    "You should see something like this:\n",
    "\n",
    "![screenshot using tf embding projector](./docs/tensorflowEmbdingProjector.png)"
   ]
  },
  {
   "cell_type": "markdown",
   "metadata": {},
   "source": [
    "# PCA 2 dimension Visualization "
   ]
  },
  {
   "cell_type": "code",
   "execution_count": 11,
   "metadata": {},
   "outputs": [],
   "source": [
    "# Scaling the data before\n",
    "vectors_std = StandardScaler().fit_transform(vectors)"
   ]
  },
  {
   "cell_type": "code",
   "execution_count": 12,
   "metadata": {},
   "outputs": [
    {
     "data": {
      "text/plain": [
       "array([[3.73604685e-01, 9.19082388e-02, 4.36814083e-03, ...,\n",
       "        5.88361546e-03, 3.38844806e-01, 2.94581838e-02],\n",
       "       [4.37672049e-01, 2.29833171e-01, 9.91117954e-03, ...,\n",
       "        1.14202768e-01, 2.80727208e-01, 2.40652144e-01],\n",
       "       [5.14549255e-01, 5.78775167e-01, 5.98321185e-02, ...,\n",
       "        4.11029488e-01, 5.15095770e-01, 2.79301882e-01],\n",
       "       ...,\n",
       "       [6.57679066e-02, 1.56305954e-01, 4.48732644e-01, ...,\n",
       "        1.06274365e-02, 6.69762313e-01, 1.07211709e+00],\n",
       "       [1.91122770e-01, 2.20589042e-01, 5.84478796e-01, ...,\n",
       "        2.50498563e-01, 6.63940489e-01, 7.08679259e-01],\n",
       "       [1.53123602e-01, 1.02330245e-01, 4.17783624e-04, ...,\n",
       "        3.20425898e-01, 5.95992267e-01, 4.54699323e-02]], dtype=float32)"
      ]
     },
     "execution_count": 12,
     "metadata": {},
     "output_type": "execute_result"
    }
   ],
   "source": [
    "vectors[0:10]"
   ]
  },
  {
   "cell_type": "code",
   "execution_count": 13,
   "metadata": {},
   "outputs": [
    {
     "data": {
      "text/plain": [
       "array([[-0.02319396, -1.0774131 , -0.76795363, ..., -1.3777565 ,\n",
       "        -0.2685194 , -1.1730046 ],\n",
       "       [ 0.22360897, -0.49110946, -0.7503321 , ..., -1.0720407 ,\n",
       "        -0.4040858 , -0.46330535],\n",
       "       [ 0.51975846,  0.9922043 , -0.59163207, ..., -0.23428796,\n",
       "         0.1426076 , -0.3334262 ],\n",
       "       ...,\n",
       "       [-1.2090554 , -0.8036655 ,  0.64469343, ..., -1.3643677 ,\n",
       "         0.5033863 ,  2.3307614 ],\n",
       "       [-0.72615826, -0.5304052 ,  1.0762342 , ..., -0.68736446,\n",
       "         0.48980618,  1.1094599 ],\n",
       "       [-0.87254024, -1.0331103 , -0.7805119 , ..., -0.49000418,\n",
       "         0.33130863, -1.1191986 ]], dtype=float32)"
      ]
     },
     "execution_count": 13,
     "metadata": {},
     "output_type": "execute_result"
    }
   ],
   "source": [
    "vectors_std[0:10]"
   ]
  },
  {
   "cell_type": "code",
   "execution_count": 16,
   "metadata": {},
   "outputs": [
    {
     "name": "stdout",
     "output_type": "stream",
     "text": [
      "(261, 2)\n"
     ]
    },
    {
     "data": {
      "text/plain": [
       "array([0.0723711 , 0.05807094], dtype=float32)"
      ]
     },
     "execution_count": 16,
     "metadata": {},
     "output_type": "execute_result"
    }
   ],
   "source": [
    "pca = PCA(n_components=2)\n",
    "principalComponents = pca.fit_transform(vectors_std)\n",
    "print(principalComponents.shape)\n",
    "pca.explained_variance_ratio_"
   ]
  },
  {
   "cell_type": "code",
   "execution_count": 19,
   "metadata": {},
   "outputs": [
    {
     "data": {
      "image/png": "[encoded data removed]",
      "text/plain": [
       "<Figure size 576x576 with 1 Axes>"
      ]
     },
     "metadata": {
      "needs_background": "light"
     },
     "output_type": "display_data"
    }
   ],
   "source": [
    "# Plotting using matplot lib\n",
    "\n",
    "fig = plt.figure(figsize = (8,8))\n",
    "ax = fig.add_subplot(1,1,1) \n",
    "\n",
    "ax.set_xlabel('Principal Component 1', fontsize = 15)\n",
    "ax.set_ylabel('Principal Component 2', fontsize = 15)\n",
    "\n",
    "ax.set_title('2 component PCA', fontsize = 20)\n",
    "\n",
    "targets = getClasses()\n",
    "colors = ['r', 'g', 'b']\n",
    "for target, color in zip(targets,colors):\n",
    "    indicesToKeep = df['class'] == target    \n",
    "    ax.scatter(principalComponents[indicesToKeep][:,0:1]\n",
    "               , principalComponents[indicesToKeep][:,1:2]\n",
    "               , c = color\n",
    "               , s = 10)\n",
    "ax.legend(targets)\n",
    "ax.grid()"
   ]
  },
  {
   "cell_type": "markdown",
   "metadata": {},
   "source": []
  }
 ],
 "metadata": {
  "kernelspec": {
   "display_name": "Python 3",
   "language": "python",
   "name": "python3"
  },
  "language_info": {
   "codemirror_mode": {
    "name": "ipython",
    "version": 3
   },
   "file_extension": ".py",
   "mimetype": "text/x-python",
   "name": "python",
   "nbconvert_exporter": "python",
   "pygments_lexer": "ipython3",
   "version": "3.7.6"
  }
 },
 "nbformat": 4,
 "nbformat_minor": 4
}
